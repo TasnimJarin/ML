{
  "nbformat": 4,
  "nbformat_minor": 0,
  "metadata": {
    "colab": {
      "provenance": [],
      "gpuType": "T4"
    },
    "kernelspec": {
      "name": "python3",
      "display_name": "Python 3"
    },
    "language_info": {
      "name": "python"
    },
    "accelerator": "GPU"
  },
  "cells": [
    {
      "cell_type": "code",
      "execution_count": 1,
      "metadata": {
        "id": "sk6xYib0uQgu"
      },
      "outputs": [],
      "source": [
        "%matplotlib inline"
      ]
    },
    {
      "cell_type": "markdown",
      "source": [
        "**PyTorch**"
      ],
      "metadata": {
        "id": "I3FOHAGCJ05m"
      }
    },
    {
      "cell_type": "markdown",
      "source": [
        "**What is PyToch**\n",
        "\n",
        "It's a Python-based scientific computing package targeted at two sets of auddiences\n",
        "\n",
        "\n",
        "\n",
        "\n",
        "=>A replacement for NumPy to use the power of GPUs\n",
        "\n",
        "=>A deep Learning research platform that provides maximum flexibility and speed\n",
        "\n",
        "\n"
      ],
      "metadata": {
        "id": "3t4gYPOnBtL7"
      }
    },
    {
      "cell_type": "code",
      "source": [
        "import torch"
      ],
      "metadata": {
        "id": "jJtb-eDMubVf"
      },
      "execution_count": 2,
      "outputs": []
    },
    {
      "cell_type": "markdown",
      "source": [
        "**NOTE**\n",
        "\n",
        "\n",
        "```\n",
        "An unintialized matrix is declared,but does not contain definite known values it is used.\n",
        "When an unintialized matrix is created,whatever values were in the allocated memory at the time will apear as the initial values.\n",
        "\n",
        "\n",
        "\n",
        "```\n",
        "\n"
      ],
      "metadata": {
        "id": "AICJ3FwSDJ7h"
      }
    },
    {
      "cell_type": "markdown",
      "source": [
        " construct a 5x3 matrix, unintialized"
      ],
      "metadata": {
        "id": "ZCaSYa_4EkTp"
      }
    },
    {
      "cell_type": "code",
      "source": [
        " x=torch.empty(5,3)\n",
        "\n",
        " print(x)"
      ],
      "metadata": {
        "colab": {
          "base_uri": "https://localhost:8080/"
        },
        "id": "MhwnDRPvubYC",
        "outputId": "f02c8f8b-8e13-4753-cc66-2226dc627585"
      },
      "execution_count": 3,
      "outputs": [
        {
          "output_type": "stream",
          "name": "stdout",
          "text": [
            "tensor([[4.1254e-41, 5.1837e-39, 3.0545e-27],\n",
            "        [2.5353e+30, 1.1491e-43, 3.0293e-41],\n",
            "        [2.2449e-39, 3.1278e-24, 2.5353e+30],\n",
            "        [3.5032e-44, 9.4868e-42, 8.6096e-41],\n",
            "        [5.2755e-39, 3.0093e-33, 7.0974e+22]])\n"
          ]
        }
      ]
    },
    {
      "cell_type": "code",
      "source": [
        "x=torch.rand(5,3)\n",
        "print(x)"
      ],
      "metadata": {
        "colab": {
          "base_uri": "https://localhost:8080/"
        },
        "id": "cY_gn3LnubbZ",
        "outputId": "b5d35c27-7499-4cca-eae2-8e9a01b5cd74"
      },
      "execution_count": 4,
      "outputs": [
        {
          "output_type": "stream",
          "name": "stdout",
          "text": [
            "tensor([[0.2547, 0.3313, 0.5070],\n",
            "        [0.5154, 0.4199, 0.8547],\n",
            "        [0.3705, 0.9285, 0.3762],\n",
            "        [0.4865, 0.6147, 0.0039],\n",
            "        [0.7805, 0.4453, 0.2331]])\n"
          ]
        }
      ]
    },
    {
      "cell_type": "code",
      "source": [
        "x=torch.rand(7,5,3)\n",
        "print(x)"
      ],
      "metadata": {
        "colab": {
          "base_uri": "https://localhost:8080/"
        },
        "id": "HuEWfIZlubez",
        "outputId": "b217b24f-1890-4ea9-a237-4bf6a70fd4e0"
      },
      "execution_count": 5,
      "outputs": [
        {
          "output_type": "stream",
          "name": "stdout",
          "text": [
            "tensor([[[0.0137, 0.6060, 0.2445],\n",
            "         [0.3623, 0.8137, 0.1521],\n",
            "         [0.0211, 0.3043, 0.0347],\n",
            "         [0.0321, 0.2381, 0.3080],\n",
            "         [0.8547, 0.9731, 0.5241]],\n",
            "\n",
            "        [[0.7892, 0.6661, 0.0501],\n",
            "         [0.4974, 0.5924, 0.8550],\n",
            "         [0.5811, 0.2214, 0.4009],\n",
            "         [0.1301, 0.4499, 0.4107],\n",
            "         [0.2762, 0.1400, 0.5293]],\n",
            "\n",
            "        [[0.6011, 0.9289, 0.7039],\n",
            "         [0.9898, 0.5319, 0.4641],\n",
            "         [0.5767, 0.8291, 0.0613],\n",
            "         [0.3259, 0.9343, 0.5746],\n",
            "         [0.4348, 0.6210, 0.9027]],\n",
            "\n",
            "        [[0.8248, 0.1497, 0.9184],\n",
            "         [0.5271, 0.9199, 0.7867],\n",
            "         [0.9294, 0.5368, 0.6380],\n",
            "         [0.9455, 0.0458, 0.1136],\n",
            "         [0.8311, 0.8635, 0.4038]],\n",
            "\n",
            "        [[0.0903, 0.8953, 0.3213],\n",
            "         [0.0081, 0.3424, 0.7519],\n",
            "         [0.9362, 0.2274, 0.4255],\n",
            "         [0.4322, 0.1448, 0.6413],\n",
            "         [0.1065, 0.4656, 0.9376]],\n",
            "\n",
            "        [[0.0622, 0.5922, 0.2563],\n",
            "         [0.0338, 0.1699, 0.6176],\n",
            "         [0.0652, 0.9435, 0.7072],\n",
            "         [0.3850, 0.5235, 0.0450],\n",
            "         [0.4293, 0.7218, 0.5205]],\n",
            "\n",
            "        [[0.4667, 0.2688, 0.0972],\n",
            "         [0.5720, 0.2138, 0.2083],\n",
            "         [0.0074, 0.9330, 0.2155],\n",
            "         [0.7807, 0.4439, 0.5376],\n",
            "         [0.9031, 0.8500, 0.7132]]])\n"
          ]
        }
      ]
    },
    {
      "cell_type": "markdown",
      "source": [
        "Contruct a matrix filled zeros and of dtype long:"
      ],
      "metadata": {
        "id": "tTnSfw8WFqFq"
      }
    },
    {
      "cell_type": "code",
      "source": [
        "x=torch.zeros(5,3,dtype=torch.long)\n",
        "print(x)"
      ],
      "metadata": {
        "colab": {
          "base_uri": "https://localhost:8080/"
        },
        "id": "PY-fNpfVFZKj",
        "outputId": "48f1aa7c-501c-43b9-d538-d806364c0fdf"
      },
      "execution_count": 6,
      "outputs": [
        {
          "output_type": "stream",
          "name": "stdout",
          "text": [
            "tensor([[0, 0, 0],\n",
            "        [0, 0, 0],\n",
            "        [0, 0, 0],\n",
            "        [0, 0, 0],\n",
            "        [0, 0, 0]])\n"
          ]
        }
      ]
    },
    {
      "cell_type": "markdown",
      "source": [
        "Contruct a tensor directly from data:"
      ],
      "metadata": {
        "id": "s9wgV1XNGFRg"
      }
    },
    {
      "cell_type": "code",
      "source": [
        "x=torch.tensor([5,5, 3])\n",
        "print(x)"
      ],
      "metadata": {
        "colab": {
          "base_uri": "https://localhost:8080/"
        },
        "id": "YDeIvzNoFxM8",
        "outputId": "f83cf8a2-626a-4b7f-a24f-39d81783e616"
      },
      "execution_count": 7,
      "outputs": [
        {
          "output_type": "stream",
          "name": "stdout",
          "text": [
            "tensor([5, 5, 3])\n"
          ]
        }
      ]
    },
    {
      "cell_type": "markdown",
      "source": [
        "or create a tensor based on an existing tensor.These methods will reuse properties of the input tensor e.g. dtype,unless new values are provided by user"
      ],
      "metadata": {
        "id": "ur4DzT94HfR2"
      }
    },
    {
      "cell_type": "code",
      "source": [
        "x=x.new_ones(5,3,dtype=torch.double) #new_method take in size\n",
        "print(x)\n",
        "\n",
        "\n",
        "x2=torch.randn_like(x,dtype=torch.double)#override dtype!\n",
        "print(x2)                                #result has same size"
      ],
      "metadata": {
        "colab": {
          "base_uri": "https://localhost:8080/"
        },
        "id": "WJ6_uQ3kFxPQ",
        "outputId": "813eac39-94ff-4cff-e194-46713e3b96ec"
      },
      "execution_count": 8,
      "outputs": [
        {
          "output_type": "stream",
          "name": "stdout",
          "text": [
            "tensor([[1., 1., 1.],\n",
            "        [1., 1., 1.],\n",
            "        [1., 1., 1.],\n",
            "        [1., 1., 1.],\n",
            "        [1., 1., 1.]], dtype=torch.float64)\n",
            "tensor([[ 0.6347,  0.0240,  0.3001],\n",
            "        [-0.7095, -0.8123,  1.3716],\n",
            "        [ 1.2181,  2.2821,  0.2323],\n",
            "        [ 0.2283,  1.0023, -0.1198],\n",
            "        [ 0.1007,  0.8112, -0.0174]], dtype=torch.float64)\n"
          ]
        }
      ]
    },
    {
      "cell_type": "markdown",
      "source": [
        "get its size"
      ],
      "metadata": {
        "id": "sKpOwjP5IKec"
      }
    },
    {
      "cell_type": "code",
      "source": [
        "print(x.size())"
      ],
      "metadata": {
        "colab": {
          "base_uri": "https://localhost:8080/"
        },
        "id": "e9z3sBpSFxRk",
        "outputId": "4f942a43-08a0-4464-da09-847b4988f15a"
      },
      "execution_count": 9,
      "outputs": [
        {
          "output_type": "stream",
          "name": "stdout",
          "text": [
            "torch.Size([5, 3])\n"
          ]
        }
      ]
    },
    {
      "cell_type": "code",
      "source": [
        "x.shape"
      ],
      "metadata": {
        "colab": {
          "base_uri": "https://localhost:8080/"
        },
        "id": "SwFNMWksFxT1",
        "outputId": "17d1fc34-45d0-43f0-b306-0eb8f6c5fb97"
      },
      "execution_count": 10,
      "outputs": [
        {
          "output_type": "execute_result",
          "data": {
            "text/plain": [
              "torch.Size([5, 3])"
            ]
          },
          "metadata": {},
          "execution_count": 10
        }
      ]
    },
    {
      "cell_type": "code",
      "source": [
        "#Addition 1\n",
        "\n",
        "y =torch.rand(5,3)\n",
        "\n",
        "print(x+y)"
      ],
      "metadata": {
        "colab": {
          "base_uri": "https://localhost:8080/"
        },
        "id": "5n41srSQFxWI",
        "outputId": "d3f170a4-c8b9-4961-d42a-d5fb4aae7165"
      },
      "execution_count": 11,
      "outputs": [
        {
          "output_type": "stream",
          "name": "stdout",
          "text": [
            "tensor([[1.8396, 1.3844, 1.4645],\n",
            "        [1.5221, 1.1592, 1.8018],\n",
            "        [1.3300, 1.5403, 1.2127],\n",
            "        [1.9631, 1.1871, 1.7326],\n",
            "        [1.7366, 1.9243, 1.4847]], dtype=torch.float64)\n"
          ]
        }
      ]
    },
    {
      "cell_type": "code",
      "source": [
        "#Addition 2\n",
        "\n",
        "print(torch.add(x,y))"
      ],
      "metadata": {
        "colab": {
          "base_uri": "https://localhost:8080/"
        },
        "id": "OhPC0f-2FxYr",
        "outputId": "a0065007-d220-45eb-850d-1d075829da1c"
      },
      "execution_count": 12,
      "outputs": [
        {
          "output_type": "stream",
          "name": "stdout",
          "text": [
            "tensor([[1.8396, 1.3844, 1.4645],\n",
            "        [1.5221, 1.1592, 1.8018],\n",
            "        [1.3300, 1.5403, 1.2127],\n",
            "        [1.9631, 1.1871, 1.7326],\n",
            "        [1.7366, 1.9243, 1.4847]], dtype=torch.float64)\n"
          ]
        }
      ]
    },
    {
      "cell_type": "code",
      "source": [
        "result =torch.empty(5,3)\n",
        "\n",
        "torch.add(x,y, out=result)\n",
        "\n",
        "\n",
        "print(result)"
      ],
      "metadata": {
        "colab": {
          "base_uri": "https://localhost:8080/"
        },
        "id": "Xs-jRlYMFxbt",
        "outputId": "8120ad2a-3103-4084-bc33-b3f0130bbda4"
      },
      "execution_count": 13,
      "outputs": [
        {
          "output_type": "stream",
          "name": "stdout",
          "text": [
            "tensor([[1.8396, 1.3844, 1.4645],\n",
            "        [1.5221, 1.1592, 1.8018],\n",
            "        [1.3300, 1.5403, 1.2127],\n",
            "        [1.9631, 1.1871, 1.7326],\n",
            "        [1.7366, 1.9243, 1.4847]])\n"
          ]
        }
      ]
    },
    {
      "cell_type": "code",
      "source": [
        " #adds x to y\n",
        "\n",
        " y.add_(x)\n",
        " print(y)"
      ],
      "metadata": {
        "colab": {
          "base_uri": "https://localhost:8080/"
        },
        "id": "mnZW3BI1JBap",
        "outputId": "1ced47ad-e451-4bb6-95fc-7d0d860e80c7"
      },
      "execution_count": 14,
      "outputs": [
        {
          "output_type": "stream",
          "name": "stdout",
          "text": [
            "tensor([[1.8396, 1.3844, 1.4645],\n",
            "        [1.5221, 1.1592, 1.8018],\n",
            "        [1.3300, 1.5403, 1.2127],\n",
            "        [1.9631, 1.1871, 1.7326],\n",
            "        [1.7366, 1.9243, 1.4847]])\n"
          ]
        }
      ]
    },
    {
      "cell_type": "markdown",
      "source": [
        "You can use standard NumPy-like indexing with all bells and whistles"
      ],
      "metadata": {
        "id": "JR2wybr5KCSY"
      }
    },
    {
      "cell_type": "code",
      "source": [
        "print(x[:,1])"
      ],
      "metadata": {
        "colab": {
          "base_uri": "https://localhost:8080/"
        },
        "id": "SFXBN-KSJs5G",
        "outputId": "98cc5956-517e-4a8c-b990-d842cf7530ea"
      },
      "execution_count": 15,
      "outputs": [
        {
          "output_type": "stream",
          "name": "stdout",
          "text": [
            "tensor([1., 1., 1., 1., 1.], dtype=torch.float64)\n"
          ]
        }
      ]
    },
    {
      "cell_type": "code",
      "source": [
        "x = torch.randn(4,4)\n",
        "y= x.view(16)\n",
        "z= x.view(-1,8)\n",
        "\n",
        "print(x.size(), y.size(), z.size())"
      ],
      "metadata": {
        "colab": {
          "base_uri": "https://localhost:8080/"
        },
        "id": "APsOeTCCKOjp",
        "outputId": "7b7c700d-58ad-4b7d-b525-1826686a8a4f"
      },
      "execution_count": 16,
      "outputs": [
        {
          "output_type": "stream",
          "name": "stdout",
          "text": [
            "torch.Size([4, 4]) torch.Size([16]) torch.Size([2, 8])\n"
          ]
        }
      ]
    },
    {
      "cell_type": "code",
      "source": [
        "x = torch.randn(1)\n",
        "print(x)\n",
        "print(x.item())"
      ],
      "metadata": {
        "colab": {
          "base_uri": "https://localhost:8080/"
        },
        "id": "dlt0S1AWKrrK",
        "outputId": "4ceac85c-c4d9-487c-99fa-74af6afac06c"
      },
      "execution_count": 17,
      "outputs": [
        {
          "output_type": "stream",
          "name": "stdout",
          "text": [
            "tensor([1.5687])\n",
            "1.5686596632003784\n"
          ]
        }
      ]
    },
    {
      "cell_type": "markdown",
      "source": [
        "NumPy Bridge"
      ],
      "metadata": {
        "id": "9HI8AfLGMKAb"
      }
    },
    {
      "cell_type": "code",
      "source": [
        "a=torch.ones(5)\n",
        "print(a)"
      ],
      "metadata": {
        "colab": {
          "base_uri": "https://localhost:8080/"
        },
        "id": "c4ERY4YMLlwb",
        "outputId": "9b37cc9d-7272-4f69-bf32-9720a4fa950d"
      },
      "execution_count": 18,
      "outputs": [
        {
          "output_type": "stream",
          "name": "stdout",
          "text": [
            "tensor([1., 1., 1., 1., 1.])\n"
          ]
        }
      ]
    },
    {
      "cell_type": "code",
      "source": [
        "b=a.numpy()\n",
        "print(b)"
      ],
      "metadata": {
        "colab": {
          "base_uri": "https://localhost:8080/"
        },
        "id": "SIsDqGlOLnHd",
        "outputId": "e52540f1-e876-4d2f-bf67-a68b7fae3acf"
      },
      "execution_count": 19,
      "outputs": [
        {
          "output_type": "stream",
          "name": "stdout",
          "text": [
            "[1. 1. 1. 1. 1.]\n"
          ]
        }
      ]
    },
    {
      "cell_type": "code",
      "source": [
        "a.add_(1)\n",
        "print(a)\n",
        "print(b)"
      ],
      "metadata": {
        "colab": {
          "base_uri": "https://localhost:8080/"
        },
        "id": "TZZVA38kLnJ0",
        "outputId": "87197719-e00f-4425-8415-4f265e6e6793"
      },
      "execution_count": 20,
      "outputs": [
        {
          "output_type": "stream",
          "name": "stdout",
          "text": [
            "tensor([2., 2., 2., 2., 2.])\n",
            "[2. 2. 2. 2. 2.]\n"
          ]
        }
      ]
    },
    {
      "cell_type": "markdown",
      "source": [
        "COverting NumPy array to torch tensor"
      ],
      "metadata": {
        "id": "XQpCcfEWM1b0"
      }
    },
    {
      "cell_type": "code",
      "source": [
        "import numpy as np\n",
        "a=np.ones(5)\n",
        "b=torch.from_numpy(a)\n",
        "\n",
        "np.add(a,1,out=a)\n",
        "print(a)\n",
        "print(b)"
      ],
      "metadata": {
        "colab": {
          "base_uri": "https://localhost:8080/"
        },
        "id": "rpEKayfXLnMW",
        "outputId": "94ca4958-6d6f-4795-fda6-4350e9d7f9f0"
      },
      "execution_count": 21,
      "outputs": [
        {
          "output_type": "stream",
          "name": "stdout",
          "text": [
            "[2. 2. 2. 2. 2.]\n",
            "tensor([2., 2., 2., 2., 2.], dtype=torch.float64)\n"
          ]
        }
      ]
    },
    {
      "cell_type": "markdown",
      "source": [
        "CUDA tensors\n",
        "\n",
        "(Language to talk with the GPU)\n",
        "\n",
        "\n",
        "```\n",
        "Tensor can be moved onto any device using the .tp method\n",
        "```\n",
        "\n",
        "active GPU from Change runtime\n"
      ],
      "metadata": {
        "id": "jjC0Sg23NLgv"
      }
    },
    {
      "cell_type": "code",
      "source": [
        "torch.cuda.is_available()"
      ],
      "metadata": {
        "colab": {
          "base_uri": "https://localhost:8080/"
        },
        "id": "Y20TEdzWLnOX",
        "outputId": "3dc504d0-8668-4aca-fe89-27089be51752"
      },
      "execution_count": 22,
      "outputs": [
        {
          "output_type": "execute_result",
          "data": {
            "text/plain": [
              "True"
            ]
          },
          "metadata": {},
          "execution_count": 22
        }
      ]
    },
    {
      "cell_type": "code",
      "source": [
        "device  = torch.device(\"cuda\")"
      ],
      "metadata": {
        "id": "m-DrfQcaLnRw"
      },
      "execution_count": 23,
      "outputs": []
    },
    {
      "cell_type": "code",
      "source": [
        "device"
      ],
      "metadata": {
        "colab": {
          "base_uri": "https://localhost:8080/"
        },
        "id": "D-IwxWQwOlN7",
        "outputId": "c396a1c4-e0a0-4a59-d3ac-3c704aa668d6"
      },
      "execution_count": 24,
      "outputs": [
        {
          "output_type": "execute_result",
          "data": {
            "text/plain": [
              "device(type='cuda')"
            ]
          },
          "metadata": {},
          "execution_count": 24
        }
      ]
    },
    {
      "cell_type": "code",
      "source": [
        "y= torch.ones_like(x, device=device)\n"
      ],
      "metadata": {
        "id": "4Rj_fCsZOmk3"
      },
      "execution_count": 25,
      "outputs": []
    },
    {
      "cell_type": "code",
      "source": [
        "y"
      ],
      "metadata": {
        "colab": {
          "base_uri": "https://localhost:8080/"
        },
        "id": "fxYGBuQiO3TO",
        "outputId": "14f4f3fc-532d-4f98-a8d1-7d4d0dba7711"
      },
      "execution_count": 26,
      "outputs": [
        {
          "output_type": "execute_result",
          "data": {
            "text/plain": [
              "tensor([1.], device='cuda:0')"
            ]
          },
          "metadata": {},
          "execution_count": 26
        }
      ]
    },
    {
      "cell_type": "code",
      "source": [
        "x=torch.ones_like(x)"
      ],
      "metadata": {
        "id": "HvJBUrq1O4AQ"
      },
      "execution_count": 27,
      "outputs": []
    },
    {
      "cell_type": "code",
      "source": [
        "x_gpu= x.to(device)"
      ],
      "metadata": {
        "id": "txZh-9oiP6GK"
      },
      "execution_count": 29,
      "outputs": []
    },
    {
      "cell_type": "code",
      "source": [
        "# del(x_gpu)"
      ],
      "metadata": {
        "id": "BqXJXY04P8RA"
      },
      "execution_count": 31,
      "outputs": []
    },
    {
      "cell_type": "code",
      "source": [
        ""
      ],
      "metadata": {
        "id": "mQ3qmnqrQFoG"
      },
      "execution_count": null,
      "outputs": []
    }
  ]
}