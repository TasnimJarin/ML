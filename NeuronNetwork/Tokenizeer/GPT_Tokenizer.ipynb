{
  "nbformat": 4,
  "nbformat_minor": 0,
  "metadata": {
    "colab": {
      "provenance": []
    },
    "kernelspec": {
      "name": "python3",
      "display_name": "Python 3"
    },
    "language_info": {
      "name": "python"
    }
  },
  "cells": [
    {
      "cell_type": "markdown",
      "metadata": {
        "id": "pkAPaUCXOhvW"
      },
      "source": [
        "# Tokenization :(\n",
        "\n",
        "Tokenization is at the heart of much weirdness of LLMs. Do not brush it off.\n",
        "\n",
        "- Why can't LLM spell words? **Tokenization**.\n",
        "- Why can't LLM do super simple string processing tasks like reversing a string? **Tokenization**.\n",
        "- Why is LLM worse at non-English languages (e.g. Japanese)? **Tokenization**.\n",
        "- Why is LLM bad at simple arithmetic? **Tokenization**.\n",
        "- Why did GPT-2 have more than necessary trouble coding in Python? **Tokenization**.\n",
        "- Why did my LLM abruptly halt when it sees the string \"<|endoftext|>\"? **Tokenization**.\n",
        "- What is this weird warning I get about a \"trailing whitespace\"? **Tokenization**.\n",
        "- Why the LLM break if I ask it about \"SolidGoldMagikarp\"? **Tokenization**.\n",
        "- Why should I prefer to use YAML over JSON with LLMs? **Tokenization**.\n",
        "- Why is LLM not actually end-to-end language modeling? **Tokenization**.\n",
        "- What is the real root of suffering? **Tokenization**.\n",
        "\n",
        "---\n",
        "\n",
        "Good tokenization web app: [https://tiktokenizer.vercel.app](https://tiktokenizer.vercel.app)\n",
        "\n",
        "Example string:\n",
        "\n",
        "```\n",
        "Tokenization is at the heart of much weirdness of LLMs. Do not brush it off.\n",
        "\n",
        "127 + 677 = 804\n",
        "1275 + 6773 = 8041\n",
        "\n",
        "Egg.\n",
        "I have an Egg.\n",
        "egg.\n",
        "EGG.\n",
        "\n",
        "만나서 반가워요. 저는 OpenAI에서 개발한 대규모 언어 모델인 ChatGPT입니다. 궁금한 것이 있으시면 무엇이든 물어보세요.\n",
        "\n",
        "for i in range(1, 101):\n",
        "    if i % 3 == 0 and i % 5 == 0:\n",
        "        print(\"FizzBuzz\")\n",
        "    elif i % 3 == 0:\n",
        "        print(\"Fizz\")\n",
        "    elif i % 5 == 0:\n",
        "        print(\"Buzz\")\n",
        "    else:\n",
        "        print(i)\n",
        "```\n",
        "\n",
        "---\n",
        "\n",
        "Much glory awaits someone who can delete the need for tokenization. But meanwhile, let's learn about it.\n"
      ]
    },
    {
      "cell_type": "code",
      "source": [
        "\"안녕하세요 👋 (hello in Korean!)\"\n"
      ],
      "metadata": {
        "colab": {
          "base_uri": "https://localhost:8080/",
          "height": 36
        },
        "id": "8CAku7sm5Xcf",
        "outputId": "24ba73f3-7e99-4750-d54a-7b6a85fdbbd7"
      },
      "execution_count": null,
      "outputs": [
        {
          "output_type": "execute_result",
          "data": {
            "text/plain": [
              "'안녕하세요 👋 (hello in Korean!)'"
            ],
            "application/vnd.google.colaboratory.intrinsic+json": {
              "type": "string"
            }
          },
          "metadata": {},
          "execution_count": 1
        }
      ]
    },
    {
      "cell_type": "code",
      "source": [
        "ord(\"h\") # unicode code point only take single characters"
      ],
      "metadata": {
        "colab": {
          "base_uri": "https://localhost:8080/"
        },
        "id": "L2DTQ-648WI2",
        "outputId": "633ec3ca-8288-49d9-a4da-2428055efefa"
      },
      "execution_count": null,
      "outputs": [
        {
          "output_type": "execute_result",
          "data": {
            "text/plain": [
              "104"
            ]
          },
          "metadata": {},
          "execution_count": 2
        }
      ]
    },
    {
      "cell_type": "code",
      "source": [
        "[ord(x) for x in \"안녕하세요 👋 (hello in Korean!)\"]"
      ],
      "metadata": {
        "colab": {
          "base_uri": "https://localhost:8080/"
        },
        "id": "sNN4--nn6WKJ",
        "outputId": "fe51aa13-3424-4ef9-dace-68d763369e07"
      },
      "execution_count": null,
      "outputs": [
        {
          "output_type": "execute_result",
          "data": {
            "text/plain": [
              "[50504,\n",
              " 45397,\n",
              " 54616,\n",
              " 49464,\n",
              " 50836,\n",
              " 32,\n",
              " 128075,\n",
              " 32,\n",
              " 40,\n",
              " 104,\n",
              " 101,\n",
              " 108,\n",
              " 108,\n",
              " 111,\n",
              " 32,\n",
              " 105,\n",
              " 110,\n",
              " 32,\n",
              " 75,\n",
              " 111,\n",
              " 114,\n",
              " 101,\n",
              " 97,\n",
              " 110,\n",
              " 33,\n",
              " 41]"
            ]
          },
          "metadata": {},
          "execution_count": 3
        }
      ]
    },
    {
      "cell_type": "code",
      "source": [
        "list(\"안녕하세요 👋 (hello in Korean!)\".encode(\"UTF-8\"))"
      ],
      "metadata": {
        "colab": {
          "base_uri": "https://localhost:8080/"
        },
        "id": "c5rh6U1d8H5V",
        "outputId": "1cf733dd-5ab1-4312-dec3-e0cead93db04"
      },
      "execution_count": null,
      "outputs": [
        {
          "output_type": "execute_result",
          "data": {
            "text/plain": [
              "[236,\n",
              " 149,\n",
              " 136,\n",
              " 235,\n",
              " 133,\n",
              " 149,\n",
              " 237,\n",
              " 149,\n",
              " 152,\n",
              " 236,\n",
              " 132,\n",
              " 184,\n",
              " 236,\n",
              " 154,\n",
              " 148,\n",
              " 32,\n",
              " 240,\n",
              " 159,\n",
              " 145,\n",
              " 139,\n",
              " 32,\n",
              " 40,\n",
              " 104,\n",
              " 101,\n",
              " 108,\n",
              " 108,\n",
              " 111,\n",
              " 32,\n",
              " 105,\n",
              " 110,\n",
              " 32,\n",
              " 75,\n",
              " 111,\n",
              " 114,\n",
              " 101,\n",
              " 97,\n",
              " 110,\n",
              " 33,\n",
              " 41]"
            ]
          },
          "metadata": {},
          "execution_count": 4
        }
      ]
    },
    {
      "cell_type": "code",
      "source": [
        "list(\"안녕하세요 👋 (hello in Korean!)\".encode(\"UTF-32\"))"
      ],
      "metadata": {
        "colab": {
          "base_uri": "https://localhost:8080/"
        },
        "id": "ngOo3qp2_j7f",
        "outputId": "1ead9eb6-8bc6-4ba9-853a-75a77c6644d7"
      },
      "execution_count": null,
      "outputs": [
        {
          "output_type": "execute_result",
          "data": {
            "text/plain": [
              "[255,\n",
              " 254,\n",
              " 0,\n",
              " 0,\n",
              " 72,\n",
              " 197,\n",
              " 0,\n",
              " 0,\n",
              " 85,\n",
              " 177,\n",
              " 0,\n",
              " 0,\n",
              " 88,\n",
              " 213,\n",
              " 0,\n",
              " 0,\n",
              " 56,\n",
              " 193,\n",
              " 0,\n",
              " 0,\n",
              " 148,\n",
              " 198,\n",
              " 0,\n",
              " 0,\n",
              " 32,\n",
              " 0,\n",
              " 0,\n",
              " 0,\n",
              " 75,\n",
              " 244,\n",
              " 1,\n",
              " 0,\n",
              " 32,\n",
              " 0,\n",
              " 0,\n",
              " 0,\n",
              " 40,\n",
              " 0,\n",
              " 0,\n",
              " 0,\n",
              " 104,\n",
              " 0,\n",
              " 0,\n",
              " 0,\n",
              " 101,\n",
              " 0,\n",
              " 0,\n",
              " 0,\n",
              " 108,\n",
              " 0,\n",
              " 0,\n",
              " 0,\n",
              " 108,\n",
              " 0,\n",
              " 0,\n",
              " 0,\n",
              " 111,\n",
              " 0,\n",
              " 0,\n",
              " 0,\n",
              " 32,\n",
              " 0,\n",
              " 0,\n",
              " 0,\n",
              " 105,\n",
              " 0,\n",
              " 0,\n",
              " 0,\n",
              " 110,\n",
              " 0,\n",
              " 0,\n",
              " 0,\n",
              " 32,\n",
              " 0,\n",
              " 0,\n",
              " 0,\n",
              " 75,\n",
              " 0,\n",
              " 0,\n",
              " 0,\n",
              " 111,\n",
              " 0,\n",
              " 0,\n",
              " 0,\n",
              " 114,\n",
              " 0,\n",
              " 0,\n",
              " 0,\n",
              " 101,\n",
              " 0,\n",
              " 0,\n",
              " 0,\n",
              " 97,\n",
              " 0,\n",
              " 0,\n",
              " 0,\n",
              " 110,\n",
              " 0,\n",
              " 0,\n",
              " 0,\n",
              " 33,\n",
              " 0,\n",
              " 0,\n",
              " 0,\n",
              " 41,\n",
              " 0,\n",
              " 0,\n",
              " 0]"
            ]
          },
          "metadata": {},
          "execution_count": 5
        }
      ]
    },
    {
      "cell_type": "code",
      "source": [
        "# text from https://www.reedbeta.com/blog/programmers-intro-to-unicode/\n",
        "text = \"Ｕｎｉｃｏｄｅ! 🅤🅝🅘🅒🅞🅓🅔‽ 🇺‌🇳‌🇮‌🇨‌🇴‌🇩‌🇪! 😄 The very name strikes fear and awe into the hearts of programmers worldwide. We all know we ought to “support Unicode” in our software (whatever that means—like using wchar_t for all the strings, right?). But Unicode can be abstruse, and diving into the thousand-page Unicode Standard plus its dozens of supplementary annexes, reports, and notes can be more than a little intimidating. I don’t blame programmers for still finding the whole thing mysterious, even 30 years after Unicode’s inception.\"\n",
        "tokens = text.encode(\"utf-8\") #raw bytes\n",
        "tokens = list(map(int, tokens)) #convert to a list integers in range 0....255\n",
        "print(\"-----------------------\")\n",
        "print(text)\n",
        "print(\"Length :\", len(text))\n",
        "print(\"-----------------------------------\")\n",
        "print(tokens)\n",
        "print(\"Length :\", len(tokens))"
      ],
      "metadata": {
        "colab": {
          "base_uri": "https://localhost:8080/"
        },
        "id": "47v5tbL5_36K",
        "outputId": "493303b4-61d5-429a-8d12-7d0bcb4d2a02"
      },
      "execution_count": null,
      "outputs": [
        {
          "output_type": "stream",
          "name": "stdout",
          "text": [
            "-----------------------\n",
            "Ｕｎｉｃｏｄｅ! 🅤🅝🅘🅒🅞🅓🅔‽ 🇺‌🇳‌🇮‌🇨‌🇴‌🇩‌🇪! 😄 The very name strikes fear and awe into the hearts of programmers worldwide. We all know we ought to “support Unicode” in our software (whatever that means—like using wchar_t for all the strings, right?). But Unicode can be abstruse, and diving into the thousand-page Unicode Standard plus its dozens of supplementary annexes, reports, and notes can be more than a little intimidating. I don’t blame programmers for still finding the whole thing mysterious, even 30 years after Unicode’s inception.\n",
            "Length : 533\n",
            "-----------------------------------\n",
            "[239, 188, 181, 239, 189, 142, 239, 189, 137, 239, 189, 131, 239, 189, 143, 239, 189, 132, 239, 189, 133, 33, 32, 240, 159, 133, 164, 240, 159, 133, 157, 240, 159, 133, 152, 240, 159, 133, 146, 240, 159, 133, 158, 240, 159, 133, 147, 240, 159, 133, 148, 226, 128, 189, 32, 240, 159, 135, 186, 226, 128, 140, 240, 159, 135, 179, 226, 128, 140, 240, 159, 135, 174, 226, 128, 140, 240, 159, 135, 168, 226, 128, 140, 240, 159, 135, 180, 226, 128, 140, 240, 159, 135, 169, 226, 128, 140, 240, 159, 135, 170, 33, 32, 240, 159, 152, 132, 32, 84, 104, 101, 32, 118, 101, 114, 121, 32, 110, 97, 109, 101, 32, 115, 116, 114, 105, 107, 101, 115, 32, 102, 101, 97, 114, 32, 97, 110, 100, 32, 97, 119, 101, 32, 105, 110, 116, 111, 32, 116, 104, 101, 32, 104, 101, 97, 114, 116, 115, 32, 111, 102, 32, 112, 114, 111, 103, 114, 97, 109, 109, 101, 114, 115, 32, 119, 111, 114, 108, 100, 119, 105, 100, 101, 46, 32, 87, 101, 32, 97, 108, 108, 32, 107, 110, 111, 119, 32, 119, 101, 32, 111, 117, 103, 104, 116, 32, 116, 111, 32, 226, 128, 156, 115, 117, 112, 112, 111, 114, 116, 32, 85, 110, 105, 99, 111, 100, 101, 226, 128, 157, 32, 105, 110, 32, 111, 117, 114, 32, 115, 111, 102, 116, 119, 97, 114, 101, 32, 40, 119, 104, 97, 116, 101, 118, 101, 114, 32, 116, 104, 97, 116, 32, 109, 101, 97, 110, 115, 226, 128, 148, 108, 105, 107, 101, 32, 117, 115, 105, 110, 103, 32, 119, 99, 104, 97, 114, 95, 116, 32, 102, 111, 114, 32, 97, 108, 108, 32, 116, 104, 101, 32, 115, 116, 114, 105, 110, 103, 115, 44, 32, 114, 105, 103, 104, 116, 63, 41, 46, 32, 66, 117, 116, 32, 85, 110, 105, 99, 111, 100, 101, 32, 99, 97, 110, 32, 98, 101, 32, 97, 98, 115, 116, 114, 117, 115, 101, 44, 32, 97, 110, 100, 32, 100, 105, 118, 105, 110, 103, 32, 105, 110, 116, 111, 32, 116, 104, 101, 32, 116, 104, 111, 117, 115, 97, 110, 100, 45, 112, 97, 103, 101, 32, 85, 110, 105, 99, 111, 100, 101, 32, 83, 116, 97, 110, 100, 97, 114, 100, 32, 112, 108, 117, 115, 32, 105, 116, 115, 32, 100, 111, 122, 101, 110, 115, 32, 111, 102, 32, 115, 117, 112, 112, 108, 101, 109, 101, 110, 116, 97, 114, 121, 32, 97, 110, 110, 101, 120, 101, 115, 44, 32, 114, 101, 112, 111, 114, 116, 115, 44, 32, 97, 110, 100, 32, 110, 111, 116, 101, 115, 32, 99, 97, 110, 32, 98, 101, 32, 109, 111, 114, 101, 32, 116, 104, 97, 110, 32, 97, 32, 108, 105, 116, 116, 108, 101, 32, 105, 110, 116, 105, 109, 105, 100, 97, 116, 105, 110, 103, 46, 32, 73, 32, 100, 111, 110, 226, 128, 153, 116, 32, 98, 108, 97, 109, 101, 32, 112, 114, 111, 103, 114, 97, 109, 109, 101, 114, 115, 32, 102, 111, 114, 32, 115, 116, 105, 108, 108, 32, 102, 105, 110, 100, 105, 110, 103, 32, 116, 104, 101, 32, 119, 104, 111, 108, 101, 32, 116, 104, 105, 110, 103, 32, 109, 121, 115, 116, 101, 114, 105, 111, 117, 115, 44, 32, 101, 118, 101, 110, 32, 51, 48, 32, 121, 101, 97, 114, 115, 32, 97, 102, 116, 101, 114, 32, 85, 110, 105, 99, 111, 100, 101, 226, 128, 153, 115, 32, 105, 110, 99, 101, 112, 116, 105, 111, 110, 46]\n",
            "Length : 616\n"
          ]
        }
      ]
    },
    {
      "cell_type": "code",
      "source": [
        "def get_stats(ids):\n",
        "  count = {}\n",
        "  for pair in zip(ids, ids[1:]):\n",
        "    count[pair] = count.get(pair, 0) + 1 #count.get(pair, 0) checks if pair is already in the dictionary.\n",
        "  return count\n",
        "\n",
        "stats = get_stats(tokens)\n",
        "#print(stats, \"\\n\")\n",
        "print(sorted(((v,k) for k,v in stats.items()), reverse=True))"
      ],
      "metadata": {
        "colab": {
          "base_uri": "https://localhost:8080/"
        },
        "id": "uDZynQGhE7BV",
        "outputId": "5871999c-59e9-46a0-8c8d-f7f4135ad0e2"
      },
      "execution_count": null,
      "outputs": [
        {
          "output_type": "stream",
          "name": "stdout",
          "text": [
            "[(20, (101, 32)), (15, (240, 159)), (12, (226, 128)), (12, (105, 110)), (10, (115, 32)), (10, (97, 110)), (10, (32, 97)), (9, (32, 116)), (8, (116, 104)), (7, (159, 135)), (7, (159, 133)), (7, (97, 114)), (6, (239, 189)), (6, (140, 240)), (6, (128, 140)), (6, (116, 32)), (6, (114, 32)), (6, (111, 114)), (6, (110, 103)), (6, (110, 100)), (6, (109, 101)), (6, (104, 101)), (6, (101, 114)), (6, (32, 105)), (5, (117, 115)), (5, (115, 116)), (5, (110, 32)), (5, (100, 101)), (5, (44, 32)), (5, (32, 115)), (4, (116, 105)), (4, (116, 101)), (4, (115, 44)), (4, (114, 105)), (4, (111, 117)), (4, (111, 100)), (4, (110, 116)), (4, (110, 105)), (4, (105, 99)), (4, (104, 97)), (4, (103, 32)), (4, (101, 97)), (4, (100, 32)), (4, (99, 111)), (4, (97, 109)), (4, (85, 110)), (4, (32, 119)), (4, (32, 111)), (4, (32, 102)), (4, (32, 85)), (3, (118, 101)), (3, (116, 115)), (3, (116, 114)), (3, (116, 111)), (3, (114, 116)), (3, (114, 115)), (3, (114, 101)), (3, (111, 102)), (3, (111, 32)), (3, (108, 108)), (3, (108, 101)), (3, (108, 32)), (3, (101, 115)), (3, (101, 110)), (3, (97, 116)), (3, (46, 32)), (3, (32, 240)), (3, (32, 112)), (3, (32, 109)), (3, (32, 100)), (3, (32, 98)), (2, (128, 153)), (2, (121, 32)), (2, (119, 104)), (2, (119, 101)), (2, (117, 112)), (2, (116, 97)), (2, (115, 117)), (2, (114, 121)), (2, (114, 111)), (2, (114, 97)), (2, (112, 114)), (2, (112, 112)), (2, (112, 111)), (2, (112, 108)), (2, (111, 110)), (2, (111, 103)), (2, (110, 115)), (2, (110, 111)), (2, (109, 109)), (2, (108, 105)), (2, (107, 101)), (2, (105, 116)), (2, (105, 111)), (2, (105, 107)), (2, (105, 100)), (2, (104, 116)), (2, (104, 111)), (2, (103, 114)), (2, (103, 104)), (2, (102, 116)), (2, (102, 111)), (2, (102, 32)), (2, (101, 226)), (2, (101, 118)), (2, (101, 112)), (2, (100, 111)), (2, (100, 105)), (2, (100, 97)), (2, (99, 97)), (2, (98, 101)), (2, (97, 108)), (2, (33, 32)), (2, (32, 114)), (2, (32, 110)), (2, (32, 99)), (1, (239, 188)), (1, (189, 143)), (1, (189, 142)), (1, (189, 137)), (1, (189, 133)), (1, (189, 132)), (1, (189, 131)), (1, (189, 32)), (1, (188, 181)), (1, (186, 226)), (1, (181, 239)), (1, (180, 226)), (1, (179, 226)), (1, (174, 226)), (1, (170, 33)), (1, (169, 226)), (1, (168, 226)), (1, (164, 240)), (1, (159, 152)), (1, (158, 240)), (1, (157, 240)), (1, (157, 32)), (1, (156, 115)), (1, (153, 116)), (1, (153, 115)), (1, (152, 240)), (1, (152, 132)), (1, (148, 226)), (1, (148, 108)), (1, (147, 240)), (1, (146, 240)), (1, (143, 239)), (1, (142, 239)), (1, (137, 239)), (1, (135, 186)), (1, (135, 180)), (1, (135, 179)), (1, (135, 174)), (1, (135, 170)), (1, (135, 169)), (1, (135, 168)), (1, (133, 164)), (1, (133, 158)), (1, (133, 157)), (1, (133, 152)), (1, (133, 148)), (1, (133, 147)), (1, (133, 146)), (1, (133, 33)), (1, (132, 239)), (1, (132, 32)), (1, (131, 239)), (1, (128, 189)), (1, (128, 157)), (1, (128, 156)), (1, (128, 148)), (1, (122, 101)), (1, (121, 115)), (1, (121, 101)), (1, (120, 101)), (1, (119, 111)), (1, (119, 105)), (1, (119, 99)), (1, (119, 97)), (1, (119, 32)), (1, (118, 105)), (1, (117, 116)), (1, (117, 114)), (1, (117, 103)), (1, (116, 119)), (1, (116, 116)), (1, (116, 108)), (1, (116, 63)), (1, (115, 226)), (1, (115, 111)), (1, (115, 105)), (1, (115, 101)), (1, (115, 97)), (1, (114, 117)), (1, (114, 108)), (1, (114, 100)), (1, (114, 95)), (1, (112, 116)), (1, (112, 97)), (1, (111, 122)), (1, (111, 119)), (1, (111, 116)), (1, (111, 108)), (1, (110, 226)), (1, (110, 110)), (1, (110, 101)), (1, (110, 99)), (1, (110, 97)), (1, (110, 46)), (1, (109, 121)), (1, (109, 111)), (1, (109, 105)), (1, (108, 117)), (1, (108, 100)), (1, (108, 97)), (1, (107, 110)), (1, (105, 118)), (1, (105, 109)), (1, (105, 108)), (1, (105, 103)), (1, (104, 105)), (1, (103, 115)), (1, (103, 101)), (1, (103, 46)), (1, (102, 105)), (1, (102, 101)), (1, (101, 120)), (1, (101, 109)), (1, (101, 46)), (1, (101, 44)), (1, (100, 119)), (1, (100, 45)), (1, (99, 104)), (1, (99, 101)), (1, (98, 115)), (1, (98, 108)), (1, (97, 119)), (1, (97, 103)), (1, (97, 102)), (1, (97, 98)), (1, (97, 32)), (1, (95, 116)), (1, (87, 101)), (1, (84, 104)), (1, (83, 116)), (1, (73, 32)), (1, (66, 117)), (1, (63, 41)), (1, (51, 48)), (1, (48, 32)), (1, (45, 112)), (1, (41, 46)), (1, (40, 119)), (1, (32, 226)), (1, (32, 121)), (1, (32, 118)), (1, (32, 117)), (1, (32, 108)), (1, (32, 107)), (1, (32, 104)), (1, (32, 101)), (1, (32, 87)), (1, (32, 84)), (1, (32, 83)), (1, (32, 73)), (1, (32, 66)), (1, (32, 51)), (1, (32, 40))]\n"
          ]
        }
      ]
    },
    {
      "cell_type": "code",
      "source": [
        "top_pair = max(stats, key=stats.get)\n",
        "print(top_pair)"
      ],
      "metadata": {
        "colab": {
          "base_uri": "https://localhost:8080/"
        },
        "id": "duhzQ6ynHnrR",
        "outputId": "8b67b1a1-7bde-472f-dfc2-28842ccf9da7"
      },
      "execution_count": null,
      "outputs": [
        {
          "output_type": "stream",
          "name": "stdout",
          "text": [
            "(101, 32)\n"
          ]
        }
      ]
    },
    {
      "cell_type": "markdown",
      "source": [
        "![1.PNG](data:image/png;base64,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)"
      ],
      "metadata": {
        "id": "j3UGMhwbfufO"
      }
    },
    {
      "cell_type": "markdown",
      "source": [
        "`if i < len(ids) - 1 and ids[i] == pair[0] and ids[i+1] == pair[1]:`\n",
        "\n",
        "i < len(ids) - 1 → Ensures we don't go past the last element.\n",
        "\n",
        "ids[i] == pair[0] → Checks if current element is the first part of pair.\n",
        "\n",
        "ids[i+1] == pair[1] → Checks if next element is the second part of pair."
      ],
      "metadata": {
        "id": "gZqtiFJ8f89L"
      }
    },
    {
      "cell_type": "code",
      "source": [
        "def merge(ids, pair, idx):\n",
        "  # in the list of ints (ids), replace all consecutive occurences of pair with the new token idx\n",
        "  newids = []\n",
        "  i = 0\n",
        "  while i < len(ids):\n",
        "    # if we are not at the very last position AND the pair matches, replace it\n",
        "    if i < len(ids) - 1 and ids[i] == pair[0] and ids[i+1] == pair[1]:\n",
        "      newids.append(idx)\n",
        "      i += 2\n",
        "    else:\n",
        "      newids.append(ids[i])\n",
        "      i += 1\n",
        "  return newids\n",
        "\n",
        "print(merge([5, 6, 6, 7, 9, 1], (6, 7), 99))\n",
        "\n",
        "tokens2 = merge(tokens, top_pair, 256)\n",
        "print(tokens2)\n",
        "print(\"length:\", len(tokens2))"
      ],
      "metadata": {
        "id": "jVVIZ3UWyEkO",
        "colab": {
          "base_uri": "https://localhost:8080/"
        },
        "outputId": "59ad50df-d867-42bc-8b40-338dee78d6b9"
      },
      "execution_count": null,
      "outputs": [
        {
          "output_type": "stream",
          "name": "stdout",
          "text": [
            "[5, 6, 99, 9, 1]\n",
            "[239, 188, 181, 239, 189, 142, 239, 189, 137, 239, 189, 131, 239, 189, 143, 239, 189, 132, 239, 189, 133, 33, 32, 240, 159, 133, 164, 240, 159, 133, 157, 240, 159, 133, 152, 240, 159, 133, 146, 240, 159, 133, 158, 240, 159, 133, 147, 240, 159, 133, 148, 226, 128, 189, 32, 240, 159, 135, 186, 226, 128, 140, 240, 159, 135, 179, 226, 128, 140, 240, 159, 135, 174, 226, 128, 140, 240, 159, 135, 168, 226, 128, 140, 240, 159, 135, 180, 226, 128, 140, 240, 159, 135, 169, 226, 128, 140, 240, 159, 135, 170, 33, 32, 240, 159, 152, 132, 32, 84, 104, 256, 118, 101, 114, 121, 32, 110, 97, 109, 256, 115, 116, 114, 105, 107, 101, 115, 32, 102, 101, 97, 114, 32, 97, 110, 100, 32, 97, 119, 256, 105, 110, 116, 111, 32, 116, 104, 256, 104, 101, 97, 114, 116, 115, 32, 111, 102, 32, 112, 114, 111, 103, 114, 97, 109, 109, 101, 114, 115, 32, 119, 111, 114, 108, 100, 119, 105, 100, 101, 46, 32, 87, 256, 97, 108, 108, 32, 107, 110, 111, 119, 32, 119, 256, 111, 117, 103, 104, 116, 32, 116, 111, 32, 226, 128, 156, 115, 117, 112, 112, 111, 114, 116, 32, 85, 110, 105, 99, 111, 100, 101, 226, 128, 157, 32, 105, 110, 32, 111, 117, 114, 32, 115, 111, 102, 116, 119, 97, 114, 256, 40, 119, 104, 97, 116, 101, 118, 101, 114, 32, 116, 104, 97, 116, 32, 109, 101, 97, 110, 115, 226, 128, 148, 108, 105, 107, 256, 117, 115, 105, 110, 103, 32, 119, 99, 104, 97, 114, 95, 116, 32, 102, 111, 114, 32, 97, 108, 108, 32, 116, 104, 256, 115, 116, 114, 105, 110, 103, 115, 44, 32, 114, 105, 103, 104, 116, 63, 41, 46, 32, 66, 117, 116, 32, 85, 110, 105, 99, 111, 100, 256, 99, 97, 110, 32, 98, 256, 97, 98, 115, 116, 114, 117, 115, 101, 44, 32, 97, 110, 100, 32, 100, 105, 118, 105, 110, 103, 32, 105, 110, 116, 111, 32, 116, 104, 256, 116, 104, 111, 117, 115, 97, 110, 100, 45, 112, 97, 103, 256, 85, 110, 105, 99, 111, 100, 256, 83, 116, 97, 110, 100, 97, 114, 100, 32, 112, 108, 117, 115, 32, 105, 116, 115, 32, 100, 111, 122, 101, 110, 115, 32, 111, 102, 32, 115, 117, 112, 112, 108, 101, 109, 101, 110, 116, 97, 114, 121, 32, 97, 110, 110, 101, 120, 101, 115, 44, 32, 114, 101, 112, 111, 114, 116, 115, 44, 32, 97, 110, 100, 32, 110, 111, 116, 101, 115, 32, 99, 97, 110, 32, 98, 256, 109, 111, 114, 256, 116, 104, 97, 110, 32, 97, 32, 108, 105, 116, 116, 108, 256, 105, 110, 116, 105, 109, 105, 100, 97, 116, 105, 110, 103, 46, 32, 73, 32, 100, 111, 110, 226, 128, 153, 116, 32, 98, 108, 97, 109, 256, 112, 114, 111, 103, 114, 97, 109, 109, 101, 114, 115, 32, 102, 111, 114, 32, 115, 116, 105, 108, 108, 32, 102, 105, 110, 100, 105, 110, 103, 32, 116, 104, 256, 119, 104, 111, 108, 256, 116, 104, 105, 110, 103, 32, 109, 121, 115, 116, 101, 114, 105, 111, 117, 115, 44, 32, 101, 118, 101, 110, 32, 51, 48, 32, 121, 101, 97, 114, 115, 32, 97, 102, 116, 101, 114, 32, 85, 110, 105, 99, 111, 100, 101, 226, 128, 153, 115, 32, 105, 110, 99, 101, 112, 116, 105, 111, 110, 46]\n",
            "length: 596\n"
          ]
        }
      ]
    },
    {
      "cell_type": "markdown",
      "source": [
        "with large text"
      ],
      "metadata": {
        "id": "zVvOOOr7jFwB"
      }
    },
    {
      "cell_type": "code",
      "source": [
        "# making the training text longer to have more representative token statistics\n",
        "# text from https://www.reedbeta.com/blog/programmers-intro-to-unicode/\n",
        "text = \"\"\"A Programmer’s Introduction to Unicode March 3, 2017 · Coding · 22 Comments  Ｕｎｉｃｏｄｅ! 🅤🅝🅘🅒🅞🅓🅔‽ 🇺\\u200c🇳\\u200c🇮\\u200c🇨\\u200c🇴\\u200c🇩\\u200c🇪! 😄 The very name strikes fear and awe into the hearts of programmers worldwide. We all know we ought to “support Unicode” in our software (whatever that means—like using wchar_t for all the strings, right?). But Unicode can be abstruse, and diving into the thousand-page Unicode Standard plus its dozens of supplementary annexes, reports, and notes can be more than a little intimidating. I don’t blame programmers for still finding the whole thing mysterious, even 30 years after Unicode’s inception.  A few months ago, I got interested in Unicode and decided to spend some time learning more about it in detail. In this article, I’ll give an introduction to it from a programmer’s point of view.  I’m going to focus on the character set and what’s involved in working with strings and files of Unicode text. However, in this article I’m not going to talk about fonts, text layout/shaping/rendering, or localization in detail—those are separate issues, beyond my scope (and knowledge) here.  Diversity and Inherent Complexity The Unicode Codespace Codespace Allocation Scripts Usage Frequency Encodings UTF-8 UTF-16 Combining Marks Canonical Equivalence Normalization Forms Grapheme Clusters And More… Diversity and Inherent Complexity As soon as you start to study Unicode, it becomes clear that it represents a large jump in complexity over character sets like ASCII that you may be more familiar with. It’s not just that Unicode contains a much larger number of characters, although that’s part of it. Unicode also has a great deal of internal structure, features, and special cases, making it much more than what one might expect a mere “character set” to be. We’ll see some of that later in this article.  When confronting all this complexity, especially as an engineer, it’s hard not to find oneself asking, “Why do we need all this? Is this really necessary? Couldn’t it be simplified?”  However, Unicode aims to faithfully represent the entire world’s writing systems. The Unicode Consortium’s stated goal is “enabling people around the world to use computers in any language”. And as you might imagine, the diversity of written languages is immense! To date, Unicode supports 135 different scripts, covering some 1100 languages, and there’s still a long tail of over 100 unsupported scripts, both modern and historical, which people are still working to add.  Given this enormous diversity, it’s inevitable that representing it is a complicated project. Unicode embraces that diversity, and accepts the complexity inherent in its mission to include all human writing systems. It doesn’t make a lot of trade-offs in the name of simplification, and it makes exceptions to its own rules where necessary to further its mission.  Moreover, Unicode is committed not just to supporting texts in any single language, but also to letting multiple languages coexist within one text—which introduces even more complexity.  Most programming languages have libraries available to handle the gory low-level details of text manipulation, but as a programmer, you’ll still need to know about certain Unicode features in order to know when and how to apply them. It may take some time to wrap your head around it all, but don’t be discouraged—think about the billions of people for whom your software will be more accessible through supporting text in their language. Embrace the complexity!  The Unicode Codespace Let’s start with some general orientation. The basic elements of Unicode—its “characters”, although that term isn’t quite right—are called code points. Code points are identified by number, customarily written in hexadecimal with the prefix “U+”, such as U+0041 “A” latin capital letter a or U+03B8 “θ” greek small letter theta. Each code point also has a short name, and quite a few other properties, specified in the Unicode Character Database.  The set of all possible code points is called the codespace. The Unicode codespace consists of 1,114,112 code points. However, only 128,237 of them—about 12% of the codespace—are actually assigned, to date. There’s plenty of room for growth! Unicode also reserves an additional 137,468 code points as “private use” areas, which have no standardized meaning and are available for individual applications to define for their own purposes.  Codespace Allocation To get a feel for how the codespace is laid out, it’s helpful to visualize it. Below is a map of the entire codespace, with one pixel per code point. It’s arranged in tiles for visual coherence; each small square is 16×16 = 256 code points, and each large square is a “plane” of 65,536 code points. There are 17 planes altogether.  Map of the Unicode codespace (click to zoom)  White represents unassigned space. Blue is assigned code points, green is private-use areas, and the small red area is surrogates (more about those later). As you can see, the assigned code points are distributed somewhat sparsely, but concentrated in the first three planes.  Plane 0 is also known as the “Basic Multilingual Plane”, or BMP. The BMP contains essentially all the characters needed for modern text in any script, including Latin, Cyrillic, Greek, Han (Chinese), Japanese, Korean, Arabic, Hebrew, Devanagari (Indian), and many more.  (In the past, the codespace was just the BMP and no more—Unicode was originally conceived as a straightforward 16-bit encoding, with only 65,536 code points. It was expanded to its current size in 1996. However, the vast majority of code points in modern text belong to the BMP.)  Plane 1 contains historical scripts, such as Sumerian cuneiform and Egyptian hieroglyphs, as well as emoji and various other symbols. Plane 2 contains a large block of less-common and historical Han characters. The remaining planes are empty, except for a small number of rarely-used formatting characters in Plane 14; planes 15–16 are reserved entirely for private use.  Scripts Let’s zoom in on the first three planes, since that’s where the action is:  Map of scripts in Unicode planes 0–2 (click to zoom)  This map color-codes the 135 different scripts in Unicode. You can see how Han () and Korean () take up most of the range of the BMP (the left large square). By contrast, all of the European, Middle Eastern, and South Asian scripts fit into the first row of the BMP in this diagram.  Many areas of the codespace are adapted or copied from earlier encodings. For example, the first 128 code points of Unicode are just a copy of ASCII. This has clear benefits for compatibility—it’s easy to losslessly convert texts from smaller encodings into Unicode (and the other direction too, as long as no characters outside the smaller encoding are used).  Usage Frequency One more interesting way to visualize the codespace is to look at the distribution of usage—in other words, how often each code point is actually used in real-world texts. Below is a heat map of planes 0–2 based on a large sample of text from Wikipedia and Twitter (all languages). Frequency increases from black (never seen) through red and yellow to white.  Heat map of code point usage frequency in Unicode planes 0–2 (click to zoom)  You can see that the vast majority of this text sample lies in the BMP, with only scattered usage of code points from planes 1–2. The biggest exception is emoji, which show up here as the several bright squares in the bottom row of plane 1.  Encodings We’ve seen that Unicode code points are abstractly identified by their index in the codespace, ranging from U+0000 to U+10FFFF. But how do code points get represented as bytes, in memory or in a file?  The most convenient, computer-friendliest (and programmer-friendliest) thing to do would be to just store the code point index as a 32-bit integer. This works, but it consumes 4 bytes per code point, which is sort of a lot. Using 32-bit ints for Unicode will cost you a bunch of extra storage, memory, and performance in bandwidth-bound scenarios, if you work with a lot of text.  Consequently, there are several more-compact encodings for Unicode. The 32-bit integer encoding is officially called UTF-32 (UTF = “Unicode Transformation Format”), but it’s rarely used for storage. At most, it comes up sometimes as a temporary internal representation, for examining or operating on the code points in a string.  Much more commonly, you’ll see Unicode text encoded as either UTF-8 or UTF-16. These are both variable-length encodings, made up of 8-bit or 16-bit units, respectively. In these schemes, code points with smaller index values take up fewer bytes, which saves a lot of memory for typical texts. The trade-off is that processing UTF-8/16 texts is more programmatically involved, and likely slower.  UTF-8 In UTF-8, each code point is stored using 1 to 4 bytes, based on its index value.  UTF-8 uses a system of binary prefixes, in which the high bits of each byte mark whether it’s a single byte, the beginning of a multi-byte sequence, or a continuation byte; the remaining bits, concatenated, give the code point index. This table shows how it works:  UTF-8 (binary)\\tCode point (binary)\\tRange 0xxxxxxx\\txxxxxxx\\tU+0000–U+007F 110xxxxx 10yyyyyy\\txxxxxyyyyyy\\tU+0080–U+07FF 1110xxxx 10yyyyyy 10zzzzzz\\txxxxyyyyyyzzzzzz\\tU+0800–U+FFFF 11110xxx 10yyyyyy 10zzzzzz 10wwwwww\\txxxyyyyyyzzzzzzwwwwww\\tU+10000–U+10FFFF A handy property of UTF-8 is that code points below 128 (ASCII characters) are encoded as single bytes, and all non-ASCII code points are encoded using sequences of bytes 128–255. This has a couple of nice consequences. First, any strings or files out there that are already in ASCII can also be interpreted as UTF-8 without any conversion. Second, lots of widely-used string programming idioms—such as null termination, or delimiters (newlines, tabs, commas, slashes, etc.)—will just work on UTF-8 strings. ASCII bytes never occur inside the encoding of non-ASCII code points, so searching byte-wise for a null terminator or a delimiter will do the right thing.  Thanks to this convenience, it’s relatively simple to extend legacy ASCII programs and APIs to handle UTF-8 strings. UTF-8 is very widely used in the Unix/Linux and Web worlds, and many programmers argue UTF-8 should be the default encoding everywhere.  However, UTF-8 isn’t a drop-in replacement for ASCII strings in all respects. For instance, code that iterates over the “characters” in a string will need to decode UTF-8 and iterate over code points (or maybe grapheme clusters—more about those later), not bytes. When you measure the “length” of a string, you’ll need to think about whether you want the length in bytes, the length in code points, the width of the text when rendered, or something else.  UTF-16 The other encoding that you’re likely to encounter is UTF-16. It uses 16-bit words, with each code point stored as either 1 or 2 words.  Like UTF-8, we can express the UTF-16 encoding rules in the form of binary prefixes:  UTF-16 (binary)\\tCode point (binary)\\tRange xxxxxxxxxxxxxxxx\\txxxxxxxxxxxxxxxx\\tU+0000–U+FFFF 110110xxxxxxxxxx 110111yyyyyyyyyy\\txxxxxxxxxxyyyyyyyyyy + 0x10000\\tU+10000–U+10FFFF A more common way that people talk about UTF-16 encoding, though, is in terms of code points called “surrogates”. All the code points in the range U+D800–U+DFFF—or in other words, the code points that match the binary prefixes 110110 and 110111 in the table above—are reserved specifically for UTF-16 encoding, and don’t represent any valid characters on their own. They’re only meant to occur in the 2-word encoding pattern above, which is called a “surrogate pair”. Surrogate code points are illegal in any other context! They’re not allowed in UTF-8 or UTF-32 at all.  Historically, UTF-16 is a descendant of the original, pre-1996 versions of Unicode, in which there were only 65,536 code points. The original intention was that there would be no different “encodings”; Unicode was supposed to be a straightforward 16-bit character set. Later, the codespace was expanded to make room for a long tail of less-common (but still important) Han characters, which the Unicode designers didn’t originally plan for. Surrogates were then introduced, as—to put it bluntly—a kludge, allowing 16-bit encodings to access the new code points.  Today, Javascript uses UTF-16 as its standard string representation: if you ask for the length of a string, or iterate over it, etc., the result will be in UTF-16 words, with any code points outside the BMP expressed as surrogate pairs. UTF-16 is also used by the Microsoft Win32 APIs; though Win32 supports either 8-bit or 16-bit strings, the 8-bit version unaccountably still doesn’t support UTF-8—only legacy code-page encodings, like ANSI. This leaves UTF-16 as the only way to get proper Unicode support in Windows. (Update: in Win10 version 1903, they finally added UTF-8 support to the 8-bit APIs! 😊)  By the way, UTF-16’s words can be stored either little-endian or big-endian. Unicode has no opinion on that issue, though it does encourage the convention of putting U+FEFF zero width no-break space at the top of a UTF-16 file as a byte-order mark, to disambiguate the endianness. (If the file doesn’t match the system’s endianness, the BOM will be decoded as U+FFFE, which isn’t a valid code point.)  Combining Marks In the story so far, we’ve been focusing on code points. But in Unicode, a “character” can be more complicated than just an individual code point!  Unicode includes a system for dynamically composing characters, by combining multiple code points together. This is used in various ways to gain flexibility without causing a huge combinatorial explosion in the number of code points.  In European languages, for example, this shows up in the application of diacritics to letters. Unicode supports a wide range of diacritics, including acute and grave accents, umlauts, cedillas, and many more. All these diacritics can be applied to any letter of any alphabet—and in fact, multiple diacritics can be used on a single letter.  If Unicode tried to assign a distinct code point to every possible combination of letter and diacritics, things would rapidly get out of hand. Instead, the dynamic composition system enables you to construct the character you want, by starting with a base code point (the letter) and appending additional code points, called “combining marks”, to specify the diacritics. When a text renderer sees a sequence like this in a string, it automatically stacks the diacritics over or under the base letter to create a composed character.  For example, the accented character “Á” can be expressed as a string of two code points: U+0041 “A” latin capital letter a plus U+0301 “◌́” combining acute accent. This string automatically gets rendered as a single character: “Á”.  Now, Unicode does also include many “precomposed” code points, each representing a letter with some combination of diacritics already applied, such as U+00C1 “Á” latin capital letter a with acute or U+1EC7 “ệ” latin small letter e with circumflex and dot below. I suspect these are mostly inherited from older encodings that were assimilated into Unicode, and kept around for compatibility. In practice, there are precomposed code points for most of the common letter-with-diacritic combinations in European-script languages, so they don’t use dynamic composition that much in typical text.  Still, the system of combining marks does allow for an arbitrary number of diacritics to be stacked on any base character. The reductio-ad-absurdum of this is Zalgo text, which works by ͖͟ͅr͞aṋ̫̠̖͈̗d͖̻̹óm̪͙͕̗̝ļ͇̰͓̳̫ý͓̥̟͍ ̕s̫t̫̱͕̗̰̼̘͜a̼̩͖͇̠͈̣͝c̙͍k̖̱̹͍͘i̢n̨̺̝͇͇̟͙ģ̫̮͎̻̟ͅ ̕n̼̺͈͞u̮͙m̺̭̟̗͞e̞͓̰̤͓̫r̵o̖ṷs҉̪͍̭̬̝̤ ̮͉̝̞̗̟͠d̴̟̜̱͕͚i͇̫̼̯̭̜͡ḁ͙̻̼c̲̲̹r̨̠̹̣̰̦i̱t̤̻̤͍͙̘̕i̵̜̭̤̱͎c̵s ͘o̱̲͈̙͖͇̲͢n͘ ̜͈e̬̲̠̩ac͕̺̠͉h̷̪ ̺̣͖̱ḻ̫̬̝̹ḙ̙̺͙̭͓̲t̞̞͇̲͉͍t̷͔̪͉̲̻̠͙e̦̻͈͉͇r͇̭̭̬͖,̖́ ̜͙͓̣̭s̘̘͈o̱̰̤̲ͅ ̛̬̜̙t̼̦͕̱̹͕̥h̳̲͈͝ͅa̦t̻̲ ̻̟̭̦̖t̛̰̩h̠͕̳̝̫͕e͈̤̘͖̞͘y҉̝͙ ̷͉͔̰̠o̞̰v͈͈̳̘͜er̶f̰͈͔ḻ͕̘̫̺̲o̲̭͙͠ͅw̱̳̺ ͜t̸h͇̭͕̳͍e̖̯̟̠ ͍̞̜͔̩̪͜ļ͎̪̲͚i̝̲̹̙̩̹n̨̦̩̖ḙ̼̲̼͢ͅ ̬͝s̼͚̘̞͝p͙̘̻a̙c҉͉̜̤͈̯̖i̥͡n̦̠̱͟g̸̗̻̦̭̮̟ͅ ̳̪̠͖̳̯̕a̫͜n͝d͡ ̣̦̙ͅc̪̗r̴͙̮̦̹̳e͇͚̞͔̹̫͟a̙̺̙ț͔͎̘̹ͅe̥̩͍ a͖̪̜̮͙̹n̢͉̝ ͇͉͓̦̼́a̳͖̪̤̱p̖͔͔̟͇͎͠p̱͍̺ę̲͎͈̰̲̤̫a̯͜r̨̮̫̣̘a̩̯͖n̹̦̰͎̣̞̞c̨̦̱͔͎͍͖e̬͓͘ ̤̰̩͙̤̬͙o̵̼̻̬̻͇̮̪f̴ ̡̙̭͓͖̪̤“̸͙̠̼c̳̗͜o͏̼͙͔̮r̞̫̺̞̥̬ru̺̻̯͉̭̻̯p̰̥͓̣̫̙̤͢t̳͍̳̖ͅi̶͈̝͙̼̙̹o̡͔n̙̺̹̖̩͝ͅ”̨̗͖͚̩.̯͓  A few other places where dynamic character composition shows up in Unicode:  Vowel-pointing notation in Arabic and Hebrew. In these languages, words are normally spelled with some of their vowels left out. They then have diacritic notation to indicate the vowels (used in dictionaries, language-teaching materials, children’s books, and such). These diacritics are expressed with combining marks.  A Hebrew example, with niqqud:\\tאֶת דַלְתִּי הֵזִיז הֵנִיעַ, קֶטֶב לִשְׁכַּתִּי יָשׁוֹד Normal writing (no niqqud):\\tאת דלתי הזיז הניע, קטב לשכתי ישוד Devanagari, the script used to write Hindi, Sanskrit, and many other South Asian languages, expresses certain vowels as combining marks attached to consonant letters. For example, “ह” + “\\u200bि” = “हि” (“h” + “i” = “hi”). Korean characters stand for syllables, but they are composed of letters called jamo that stand for the vowels and consonants in the syllable. While there are code points for precomposed Korean syllables, it’s also possible to dynamically compose them by concatenating their jamo. For example, “ᄒ” + “ᅡ” + “ᆫ” = “한” (“h” + “a” + “n” = “han”). Canonical Equivalence In Unicode, precomposed characters exist alongside the dynamic composition system. A consequence of this is that there are multiple ways to express “the same” string—different sequences of code points that result in the same user-perceived characters. For example, as we saw earlier, we can express the character “Á” either as the single code point U+00C1, or as the string of two code points U+0041 U+0301.  Another source of ambiguity is the ordering of multiple diacritics in a single character. Diacritic order matters visually when two diacritics apply to the same side of the base character, e.g. both above: “ǡ” (dot, then macron) is different from “ā̇” (macron, then dot). However, when diacritics apply to different sides of the character, e.g. one above and one below, then the order doesn’t affect rendering. Moreover, a character with multiple diacritics might have one of the diacritics precomposed and others expressed as combining marks.  For example, the Vietnamese letter “ệ” can be expressed in five different ways:  Fully precomposed: U+1EC7 “ệ” Partially precomposed: U+1EB9 “ẹ” + U+0302 “◌̂” Partially precomposed: U+00EA “ê” + U+0323 “◌̣” Fully decomposed: U+0065 “e” + U+0323 “◌̣” + U+0302 “◌̂” Fully decomposed: U+0065 “e” + U+0302 “◌̂” + U+0323 “◌̣” Unicode refers to set of strings like this as “canonically equivalent”. Canonically equivalent strings are supposed to be treated as identical for purposes of searching, sorting, rendering, text selection, and so on. This has implications for how you implement operations on text. For example, if an app has a “find in file” operation and the user searches for “ệ”, it should, by default, find occurrences of any of the five versions of “ệ” above!  Normalization Forms To address the problem of “how to handle canonically equivalent strings”, Unicode defines several normalization forms: ways of converting strings into a canonical form so that they can be compared code-point-by-code-point (or byte-by-byte).  The “NFD” normalization form fully decomposes every character down to its component base and combining marks, taking apart any precomposed code points in the string. It also sorts the combining marks in each character according to their rendered position, so e.g. diacritics that go below the character come before the ones that go above the character. (It doesn’t reorder diacritics in the same rendered position, since their order matters visually, as previously mentioned.)  The “NFC” form, conversely, puts things back together into precomposed code points as much as possible. If an unusual combination of diacritics is called for, there may not be any precomposed code point for it, in which case NFC still precomposes what it can and leaves any remaining combining marks in place (again ordered by rendered position, as in NFD).  There are also forms called NFKD and NFKC. The “K” here refers to compatibility decompositions, which cover characters that are “similar” in some sense but not visually identical. However, I’m not going to cover that here.  Grapheme Clusters As we’ve seen, Unicode contains various cases where a thing that a user thinks of as a single “character” might actually be made up of multiple code points under the hood. Unicode formalizes this using the notion of a grapheme cluster: a string of one or more code points that constitute a single “user-perceived character”.  UAX #29 defines the rules for what, precisely, qualifies as a grapheme cluster. It’s approximately “a base code point followed by any number of combining marks”, but the actual definition is a bit more complicated; it accounts for things like Korean jamo, and emoji ZWJ sequences.  The main thing grapheme clusters are used for is text editing: they’re often the most sensible unit for cursor placement and text selection boundaries. Using grapheme clusters for these purposes ensures that you can’t accidentally chop off some diacritics when you copy-and-paste text, that left/right arrow keys always move the cursor by one visible character, and so on.  Another place where grapheme clusters are useful is in enforcing a string length limit—say, on a database field. While the true, underlying limit might be something like the byte length of the string in UTF-8, you wouldn’t want to enforce that by just truncating bytes. At a minimum, you’d want to “round down” to the nearest code point boundary; but even better, round down to the nearest grapheme cluster boundary. Otherwise, you might be corrupting the last character by cutting off a diacritic, or interrupting a jamo sequence or ZWJ sequence.  And More… There’s much more that could be said about Unicode from a programmer’s perspective! I haven’t gotten into such fun topics as case mapping, collation, compatibility decompositions and confusables, Unicode-aware regexes, or bidirectional text. Nor have I said anything yet about implementation issues—how to efficiently store and look-up data about the sparsely-assigned code points, or how to optimize UTF-8 decoding, string comparison, or NFC normalization. Perhaps I’ll return to some of those things in future posts.  Unicode is a fascinating and complex system. It has a many-to-one mapping between bytes and code points, and on top of that a many-to-one (or, under some circumstances, many-to-many) mapping between code points and “characters”. It has oddball special cases in every corner. But no one ever claimed that representing all written languages was going to be easy, and it’s clear that we’re never going back to the bad old days of a patchwork of incompatible encodings.  Further reading:  The Unicode Standard UTF-8 Everywhere Manifesto Dark corners of Unicode by Eevee ICU (International Components for Unicode)—C/C++/Java libraries implementing many Unicode algorithms and related things Python 3 Unicode Howto Google Noto Fonts—set of fonts intended to cover all assigned code points\"\"\"\n",
        "\n",
        "tokens = text.encode(\"utf-8\") # raw bytes\n",
        "tokens = list(map(int, tokens)) # convert to a list of integers in range 0..255 for convenience"
      ],
      "metadata": {
        "id": "HlX7Y2GYgB5J"
      },
      "execution_count": null,
      "outputs": []
    },
    {
      "cell_type": "code",
      "source": [],
      "metadata": {
        "id": "GZcWDjLiphbW"
      },
      "execution_count": null,
      "outputs": []
    },
    {
      "cell_type": "code",
      "source": [],
      "metadata": {
        "id": "rrk_EYRqpxjo"
      },
      "execution_count": null,
      "outputs": []
    },
    {
      "cell_type": "code",
      "source": [],
      "metadata": {
        "id": "nLzFZnI0pxgG"
      },
      "execution_count": null,
      "outputs": []
    },
    {
      "cell_type": "code",
      "source": [],
      "metadata": {
        "id": "92O0titMpxd3"
      },
      "execution_count": null,
      "outputs": []
    },
    {
      "cell_type": "code",
      "source": [],
      "metadata": {
        "id": "CiK-8YoWpxbm"
      },
      "execution_count": null,
      "outputs": []
    },
    {
      "cell_type": "code",
      "source": [],
      "metadata": {
        "id": "xI48swvsqfau"
      },
      "execution_count": null,
      "outputs": []
    },
    {
      "cell_type": "code",
      "source": [],
      "metadata": {
        "id": "761iETpOqfYl"
      },
      "execution_count": null,
      "outputs": []
    },
    {
      "cell_type": "code",
      "source": [
        "def get_stats(ids):\n",
        "    counts = {}\n",
        "    for pair in zip(ids, ids[1:]):\n",
        "        counts[pair] = counts.get(pair, 0) + 1\n",
        "    return counts\n",
        "\n",
        "def merge(ids, pair, idx):\n",
        "  newids = []\n",
        "  i = 0\n",
        "  while i < len(ids):\n",
        "    if i < len(ids) - 1 and ids[i] == pair[0] and ids[i+1] == pair[1]:\n",
        "      newids.append(idx)\n",
        "      i += 2\n",
        "    else:\n",
        "      newids.append(ids[i])\n",
        "      i += 1\n",
        "  return newids\n",
        "\n",
        "# ---\n",
        "vocab_size = 276 # the desired final vocabulary size\n",
        "num_merges = vocab_size - 256\n",
        "ids = list(tokens) # copy so we don't destroy the original list\n",
        "\n",
        "merges = {} # (int, int) -> int\n",
        "for i in range(num_merges):\n",
        "  stats = get_stats(ids)\n",
        "  pair = max(stats, key=stats.get)\n",
        "  idx = 256 + i\n",
        "  print(f\"merging {pair} into a new token {idx}\")\n",
        "  ids = merge(ids, pair, idx)\n",
        "  merges[pair] = idx"
      ],
      "metadata": {
        "colab": {
          "base_uri": "https://localhost:8080/"
        },
        "id": "HNX3DVxljBhg",
        "outputId": "60e33807-09ed-4d77-ee03-1cb87f27bddb"
      },
      "execution_count": null,
      "outputs": [
        {
          "output_type": "stream",
          "name": "stdout",
          "text": [
            "merging (101, 32) into a new token 256\n",
            "merging (105, 110) into a new token 257\n",
            "merging (115, 32) into a new token 258\n",
            "merging (116, 104) into a new token 259\n",
            "merging (101, 114) into a new token 260\n",
            "merging (99, 111) into a new token 261\n",
            "merging (116, 32) into a new token 262\n",
            "merging (226, 128) into a new token 263\n",
            "merging (44, 32) into a new token 264\n",
            "merging (97, 110) into a new token 265\n",
            "merging (111, 114) into a new token 266\n",
            "merging (100, 32) into a new token 267\n",
            "merging (97, 114) into a new token 268\n",
            "merging (101, 110) into a new token 269\n",
            "merging (257, 103) into a new token 270\n",
            "merging (261, 100) into a new token 271\n",
            "merging (121, 32) into a new token 272\n",
            "merging (46, 32) into a new token 273\n",
            "merging (97, 108) into a new token 274\n",
            "merging (259, 256) into a new token 275\n"
          ]
        }
      ]
    },
    {
      "cell_type": "code",
      "source": [
        "print(\"tokens length:\", len(tokens))\n",
        "print(\"ids length:\", len(ids))\n",
        "print(f\"compression ratio: {len(tokens) / len(ids):.2f}X\")"
      ],
      "metadata": {
        "colab": {
          "base_uri": "https://localhost:8080/"
        },
        "id": "5tRN2f5Kn6cu",
        "outputId": "4b2f82a9-2dc6-40f5-9dbc-cc565392a90f"
      },
      "execution_count": null,
      "outputs": [
        {
          "output_type": "stream",
          "name": "stdout",
          "text": [
            "tokens length: 24597\n",
            "ids length: 19438\n",
            "compression ratio: 1.27X\n"
          ]
        }
      ]
    },
    {
      "cell_type": "markdown",
      "metadata": {
        "id": "PdP1ZmqBOhvl"
      },
      "source": [
        "### decoding\n",
        "\n",
        "Given a sequence of integers in the range [0, vocab_size], what is the text?\n"
      ]
    },
    {
      "cell_type": "code",
      "source": [
        "vocab = {idx : bytes([idx]) for idx in range(256)}\n",
        "for (p0, p1), idx in merges.items():\n",
        "  vocab[idx] = vocab[p0]+ vocab[p1]\n",
        "\n",
        "\n",
        "\n",
        "def decode(ids):\n",
        "  #given ids (list of integers), return python string\n",
        "  tokens = b\"\".join(vocab[idx] for idx in ids)\n",
        "  text = tokens.decode(\"utf-8\", errors = 'replace')\n",
        "  return text\n",
        "\n",
        "print(decode([155]))"
      ],
      "metadata": {
        "colab": {
          "base_uri": "https://localhost:8080/"
        },
        "id": "Brk8zivPqiP9",
        "outputId": "c007483a-7bb3-455a-b60a-69a6c0c22321"
      },
      "execution_count": null,
      "outputs": [
        {
          "output_type": "stream",
          "name": "stdout",
          "text": [
            "�\n"
          ]
        }
      ]
    },
    {
      "cell_type": "markdown",
      "metadata": {
        "id": "UxyC7vwCOhvm"
      },
      "source": [
        "### encoding\n",
        "\n",
        "The other way around: Given a string, what are the tokens?\n"
      ]
    },
    {
      "cell_type": "code",
      "source": [
        "def encode(text):\n",
        "  #given string ,return list of integers\n",
        "  tokens = list(text.encode(\"utf-8\"))\n",
        "  while len(tokens) >= 2:\n",
        "    stats = get_stats(tokens)\n",
        "    pair = min(stats, key = lambda p: merges.get(p, float('inf')))\n",
        "    if pair not in merges:\n",
        "      break\n",
        "\n",
        "    idx = merges[pair]\n",
        "    tokens = merge(tokens, pair, idx)\n",
        "  return tokens\n",
        "\n",
        "print(encode(\"hello world\"))"
      ],
      "metadata": {
        "colab": {
          "base_uri": "https://localhost:8080/"
        },
        "id": "Oo5BcV9mqiNn",
        "outputId": "d2c8dc9e-07fa-46b9-b8e7-b2ff7768d592"
      },
      "execution_count": null,
      "outputs": [
        {
          "output_type": "stream",
          "name": "stdout",
          "text": [
            "[104, 101, 108, 108, 111, 32, 119, 266, 108, 100]\n"
          ]
        }
      ]
    },
    {
      "cell_type": "code",
      "source": [
        "valtext = \"Many common characters, including numerals, punctuation, and other symbols, are unified within the standard and are not treated as specific to any given writing system. Unicode encodes thousands of emoji, with the continued development thereof conducted by the Consortium as a part of the standard.[4] Moreover, the widespread adoption of Unicode was in large part responsible for the initial popularization of emoji outside of Japan. Unicode is ultimately capable of encoding more than 1.1 million characters.\"\n",
        "valtext2 = decode(encode(valtext))\n",
        "print(valtext2 == valtext)"
      ],
      "metadata": {
        "colab": {
          "base_uri": "https://localhost:8080/"
        },
        "id": "XTQItRxZqiLN",
        "outputId": "2ff421f5-ab16-44fd-aeba-88e8f4dc708b"
      },
      "execution_count": null,
      "outputs": [
        {
          "output_type": "stream",
          "name": "stdout",
          "text": [
            "True\n"
          ]
        }
      ]
    },
    {
      "cell_type": "markdown",
      "metadata": {
        "id": "FT3vpeELOhvn"
      },
      "source": [
        "### Forced splits using regex patterns (GPT series)\n"
      ]
    },
    {
      "cell_type": "code",
      "source": [
        "import regex as re\n",
        "gpt2pat = re.compile(r\"\"\"'s|'t|'re|'ve|'m|'ll|'d| ?\\p{L}+| ?\\p{N}+| ?[^\\s\\p{L}\\p{N}]+|\\s+(?!\\S)|\\s+\"\"\")\n",
        "\n",
        "print(re.findall(gpt2pat, \"Hello everyon, Today 123 is main day for 4u?????\"))"
      ],
      "metadata": {
        "colab": {
          "base_uri": "https://localhost:8080/"
        },
        "id": "DrRBwmFnqhs9",
        "outputId": "4686997c-09b4-4c3f-9172-e738aa7bfe77"
      },
      "execution_count": null,
      "outputs": [
        {
          "output_type": "stream",
          "name": "stdout",
          "text": [
            "['Hello', ' everyon', ',', ' Today', ' 123', ' is', ' main', ' day', ' for', ' 4', 'u', '?????']\n"
          ]
        }
      ]
    },
    {
      "cell_type": "code",
      "source": [
        "example = \"\"\"\n",
        "for i in range(1, 101):\n",
        "    if i % 3 == 0 and i % 5 == 0:\n",
        "        print(\"FizzBuzz\")\n",
        "    elif i % 3 == 0:\n",
        "        print(\"Fizz\")\n",
        "    elif i % 5 == 0:\n",
        "        print(\"Buzz\")\n",
        "    else:\n",
        "        print(i)\n",
        "\"\"\"\n",
        "print(re.findall(gpt2pat, example))"
      ],
      "metadata": {
        "colab": {
          "base_uri": "https://localhost:8080/"
        },
        "id": "Z5TrEo31UUE5",
        "outputId": "ef9adb92-79be-46a4-b52e-37df2d10b848"
      },
      "execution_count": null,
      "outputs": [
        {
          "output_type": "stream",
          "name": "stdout",
          "text": [
            "['\\n', 'for', ' i', ' in', ' range', '(', '1', ',', ' 101', '):', '\\n   ', ' if', ' i', ' %', ' 3', ' ==', ' 0', ' and', ' i', ' %', ' 5', ' ==', ' 0', ':', '\\n       ', ' print', '(\"', 'FizzBuzz', '\")', '\\n   ', ' elif', ' i', ' %', ' 3', ' ==', ' 0', ':', '\\n       ', ' print', '(\"', 'Fizz', '\")', '\\n   ', ' elif', ' i', ' %', ' 5', ' ==', ' 0', ':', '\\n       ', ' print', '(\"', 'Buzz', '\")', '\\n   ', ' else', ':', '\\n       ', ' print', '(', 'i', ')', '\\n']\n"
          ]
        }
      ]
    },
    {
      "cell_type": "code",
      "source": [
        "!pip install tiktoken # added for colab"
      ],
      "metadata": {
        "colab": {
          "base_uri": "https://localhost:8080/"
        },
        "id": "7zp-8ioYUUCa",
        "outputId": "c5fba3df-c39b-4e1e-d480-19271e148169"
      },
      "execution_count": null,
      "outputs": [
        {
          "output_type": "stream",
          "name": "stdout",
          "text": [
            "Collecting tiktoken\n",
            "  Downloading tiktoken-0.9.0-cp311-cp311-manylinux_2_17_x86_64.manylinux2014_x86_64.whl.metadata (6.7 kB)\n",
            "Requirement already satisfied: regex>=2022.1.18 in /usr/local/lib/python3.11/dist-packages (from tiktoken) (2024.11.6)\n",
            "Requirement already satisfied: requests>=2.26.0 in /usr/local/lib/python3.11/dist-packages (from tiktoken) (2.32.3)\n",
            "Requirement already satisfied: charset-normalizer<4,>=2 in /usr/local/lib/python3.11/dist-packages (from requests>=2.26.0->tiktoken) (3.4.1)\n",
            "Requirement already satisfied: idna<4,>=2.5 in /usr/local/lib/python3.11/dist-packages (from requests>=2.26.0->tiktoken) (3.10)\n",
            "Requirement already satisfied: urllib3<3,>=1.21.1 in /usr/local/lib/python3.11/dist-packages (from requests>=2.26.0->tiktoken) (2.3.0)\n",
            "Requirement already satisfied: certifi>=2017.4.17 in /usr/local/lib/python3.11/dist-packages (from requests>=2.26.0->tiktoken) (2025.1.31)\n",
            "Downloading tiktoken-0.9.0-cp311-cp311-manylinux_2_17_x86_64.manylinux2014_x86_64.whl (1.2 MB)\n",
            "\u001b[2K   \u001b[90m━━━━━━━━━━━━━━━━━━━━━━━━━━━━━━━━━━━━━━━━\u001b[0m \u001b[32m1.2/1.2 MB\u001b[0m \u001b[31m17.2 MB/s\u001b[0m eta \u001b[36m0:00:00\u001b[0m\n",
            "\u001b[?25hInstalling collected packages: tiktoken\n",
            "Successfully installed tiktoken-0.9.0\n"
          ]
        }
      ]
    },
    {
      "cell_type": "code",
      "source": [
        "import tiktoken\n",
        "\n",
        "# GPT-2 (does not merge spaces)\n",
        "enc = tiktoken.get_encoding(\"gpt2\")\n",
        "print(enc.encode(\"    hello world!!!\"))\n",
        "\n",
        "# GPT-4 (merges spaces)\n",
        "enc = tiktoken.get_encoding(\"cl100k_base\")\n",
        "print(enc.encode(\"    hello world!!!\"))"
      ],
      "metadata": {
        "colab": {
          "base_uri": "https://localhost:8080/"
        },
        "id": "XdI7SKhnoc3z",
        "outputId": "956e47b3-f0eb-4d1c-8868-88b05f057310"
      },
      "execution_count": null,
      "outputs": [
        {
          "output_type": "stream",
          "name": "stdout",
          "text": [
            "[220, 220, 220, 23748, 995, 10185]\n",
            "[262, 24748, 1917, 12340]\n"
          ]
        }
      ]
    },
    {
      "cell_type": "code",
      "source": [
        "!wget https://openaipublic.blob.core.windows.net/gpt-2/models/1558M/vocab.bpe\n",
        "!wget https://openaipublic.blob.core.windows.net/gpt-2/models/1558M/encoder.json"
      ],
      "metadata": {
        "colab": {
          "base_uri": "https://localhost:8080/"
        },
        "id": "viENbqXNqQhE",
        "outputId": "d8517d91-12f6-4935-ea9a-4065e0a88b8f"
      },
      "execution_count": null,
      "outputs": [
        {
          "output_type": "stream",
          "name": "stdout",
          "text": [
            "--2025-03-08 23:14:05--  https://openaipublic.blob.core.windows.net/gpt-2/models/1558M/vocab.bpe\n",
            "Resolving openaipublic.blob.core.windows.net (openaipublic.blob.core.windows.net)... 57.150.97.129\n",
            "Connecting to openaipublic.blob.core.windows.net (openaipublic.blob.core.windows.net)|57.150.97.129|:443... connected.\n",
            "HTTP request sent, awaiting response... 200 OK\n",
            "Length: 456318 (446K) [application/octet-stream]\n",
            "Saving to: ‘vocab.bpe’\n",
            "\n",
            "vocab.bpe           100%[===================>] 445.62K  1.32MB/s    in 0.3s    \n",
            "\n",
            "2025-03-08 23:14:06 (1.32 MB/s) - ‘vocab.bpe’ saved [456318/456318]\n",
            "\n",
            "--2025-03-08 23:14:06--  https://openaipublic.blob.core.windows.net/gpt-2/models/1558M/encoder.json\n",
            "Resolving openaipublic.blob.core.windows.net (openaipublic.blob.core.windows.net)... 57.150.97.129\n",
            "Connecting to openaipublic.blob.core.windows.net (openaipublic.blob.core.windows.net)|57.150.97.129|:443... connected.\n",
            "HTTP request sent, awaiting response... 200 OK\n",
            "Length: 1042301 (1018K) [application/json]\n",
            "Saving to: ‘encoder.json’\n",
            "\n",
            "encoder.json        100%[===================>]   1018K  2.07MB/s    in 0.5s    \n",
            "\n",
            "2025-03-08 23:14:06 (2.07 MB/s) - ‘encoder.json’ saved [1042301/1042301]\n",
            "\n"
          ]
        }
      ]
    },
    {
      "cell_type": "code",
      "source": [
        "import os, json\n",
        "\n",
        "with open('encoder.json', 'r') as f:\n",
        "    encoder = json.load(f) # <--- ~equivalent to our \"vocab\"\n",
        "\n",
        "with open('vocab.bpe', 'r', encoding=\"utf-8\") as f:\n",
        "    bpe_data = f.read()\n",
        "bpe_merges = [tuple(merge_str.split()) for merge_str in bpe_data.split('\\n')[1:-1]]\n",
        "# ^---- ~equivalent to our \"merges\""
      ],
      "metadata": {
        "id": "-4y0saEuqTkk"
      },
      "execution_count": null,
      "outputs": []
    },
    {
      "cell_type": "markdown",
      "metadata": {
        "id": "AScu7zZzqIRL"
      },
      "source": [
        "### special tokens\n"
      ]
    },
    {
      "cell_type": "code",
      "source": [
        "len(encoder)"
      ],
      "metadata": {
        "colab": {
          "base_uri": "https://localhost:8080/"
        },
        "id": "FsTKNSXFogCr",
        "outputId": "eebb9266-77d1-4cbf-a0f8-7b3f5cabb788"
      },
      "execution_count": null,
      "outputs": [
        {
          "output_type": "execute_result",
          "data": {
            "text/plain": [
              "50257"
            ]
          },
          "metadata": {},
          "execution_count": 22
        }
      ]
    },
    {
      "cell_type": "markdown",
      "metadata": {
        "id": "En2bKE7KOhvp"
      },
      "source": [
        "### minbpe exercise\n",
        "\n",
        "At this point you have everything you need to build your own GPT-4 tokenizer. This is the [exercise progression](https://github.com/karpathy/minbpe/blob/master/exercise.md) you may wish to follow. You'll note that it is part of the [minbpe](https://github.com/karpathy/minbpe) repo, which is the solution to that exercise, and is a cleaned up version of the code above."
      ]
    },
    {
      "cell_type": "code",
      "source": [
        "import tiktoken\n",
        "enc = tiktoken.get_encoding(\"cl100k_base\") # GPT-4 tokenizer\n",
        "print(enc.encode(\"안녕하세요 👋 (hello in Korean!)\"))\n",
        "print(enc.decode(enc.encode(\"안녕하세요 👋 (hello in Korean!)\")) == \"안녕하세요 👋 (hello in Korean!)\")\n",
        "# match the above for your own tokenizer, and also implement a train() function"
      ],
      "metadata": {
        "colab": {
          "base_uri": "https://localhost:8080/"
        },
        "id": "EmnrPrjrqaHx",
        "outputId": "4802a1d2-a5f2-46c9-8a91-9e999fa57113"
      },
      "execution_count": null,
      "outputs": [
        {
          "output_type": "stream",
          "name": "stdout",
          "text": [
            "[31495, 230, 75265, 243, 92245, 62904, 233, 320, 15339, 304, 16526, 16715]\n",
            "True\n"
          ]
        }
      ]
    },
    {
      "cell_type": "markdown",
      "metadata": {
        "id": "SuLttnDcOhvq"
      },
      "source": [
        "### sentencepiece\n",
        "\n",
        "Commonly used because (unlike tiktoken) it can efficiently both train and inference BPE tokenizers. It is used in both Llama and Mistral series.\n",
        "\n",
        "[sentencepiece on Github link](https://github.com/google/sentencepiece).\n",
        "\n",
        "**The big difference**: sentencepiece runs BPE on the Unicode code points directly! It then has an option `character_coverage` for what to do with very very rare codepoints that appear very few times, and it either maps them onto an UNK token, or if `byte_fallback` is turned on, it encodes them with utf-8 and then encodes the raw bytes instead.\n",
        "\n",
        "TLDR:\n",
        "\n",
        "- tiktoken encodes to utf-8 and then BPEs bytes\n",
        "- sentencepiece BPEs the code points and optionally falls back to utf-8 bytes for rare code points (rarity is determined by character_coverage hyperparameter), which then get translated to byte tokens.\n",
        "\n",
        "(Personally I think the tiktoken way is a lot cleaner...)"
      ]
    },
    {
      "cell_type": "code",
      "source": [
        "import sentencepiece as spm"
      ],
      "metadata": {
        "id": "Kp-O9-mK1mBS"
      },
      "execution_count": null,
      "outputs": []
    },
    {
      "cell_type": "code",
      "source": [
        "# write a toy.txt file with some random text\n",
        "with open(\"toy.txt\", \"w\", encoding=\"utf-8\") as f:\n",
        "  f.write(\"SentencePiece is an unsupervised text tokenizer and detokenizer mainly for Neural Network-based text generation systems where the vocabulary size is predetermined prior to the neural model training. SentencePiece implements subword units (e.g., byte-pair-encoding (BPE) [Sennrich et al.]) and unigram language model [Kudo.]) with the extension of direct training from raw sentences. SentencePiece allows us to make a purely end-to-end system that does not depend on language-specific pre/postprocessing.\")"
      ],
      "metadata": {
        "id": "_jr3C6-I94LQ"
      },
      "execution_count": null,
      "outputs": []
    },
    {
      "cell_type": "code",
      "source": [
        "# train a sentencepiece model on it\n",
        "# the settings here are (best effort) those used for training Llama 2\n",
        "import os\n",
        "\n",
        "options = dict(\n",
        "  # input spec\n",
        "  input=\"toy.txt\",\n",
        "  input_format=\"text\",\n",
        "  # output spec\n",
        "  model_prefix=\"tok400\", # output filename prefix\n",
        "  # algorithm spec\n",
        "  # BPE alg\n",
        "  model_type=\"bpe\",\n",
        "  vocab_size=400,\n",
        "  # normalization\n",
        "  normalization_rule_name=\"identity\", # ew, turn off normalization\n",
        "  remove_extra_whitespaces=False,\n",
        "  input_sentence_size=200000000, # max number of training sentences\n",
        "  max_sentence_length=4192, # max number of bytes per sentence\n",
        "  seed_sentencepiece_size=1000000,\n",
        "  shuffle_input_sentence=True,\n",
        "  # rare word treatment\n",
        "  character_coverage=0.99995,\n",
        "  byte_fallback=True,\n",
        "  # merge rules\n",
        "  split_digits=True,\n",
        "  split_by_unicode_script=True,\n",
        "  split_by_whitespace=True,\n",
        "  split_by_number=True,\n",
        "  max_sentencepiece_length=16,\n",
        "  add_dummy_prefix=True,\n",
        "  allow_whitespace_only_pieces=True,\n",
        "  # special tokens\n",
        "  unk_id=0, # the UNK token MUST exist\n",
        "  bos_id=1, # the others are optional, set to -1 to turn off\n",
        "  eos_id=2,\n",
        "  pad_id=-1,\n",
        "  # systems\n",
        "  num_threads=os.cpu_count(), # use ~all system resources\n",
        ")\n",
        "\n",
        "spm.SentencePieceTrainer.train(**options)\n"
      ],
      "metadata": {
        "id": "gjZTcTxQ-80G"
      },
      "execution_count": null,
      "outputs": []
    },
    {
      "cell_type": "code",
      "source": [
        "sp = spm.SentencePieceProcessor()\n",
        "sp.load('tok400.model')\n",
        "vocab = [[sp.id_to_piece(idx), idx] for idx in range(sp.get_piece_size())]\n",
        "vocab"
      ],
      "metadata": {
        "colab": {
          "base_uri": "https://localhost:8080/"
        },
        "id": "WN640l5ZCUIj",
        "outputId": "cc9dd93a-6a3b-491b-daff-304a01caeb3c"
      },
      "execution_count": null,
      "outputs": [
        {
          "output_type": "execute_result",
          "data": {
            "text/plain": [
              "[['<unk>', 0],\n",
              " ['<s>', 1],\n",
              " ['</s>', 2],\n",
              " ['<0x00>', 3],\n",
              " ['<0x01>', 4],\n",
              " ['<0x02>', 5],\n",
              " ['<0x03>', 6],\n",
              " ['<0x04>', 7],\n",
              " ['<0x05>', 8],\n",
              " ['<0x06>', 9],\n",
              " ['<0x07>', 10],\n",
              " ['<0x08>', 11],\n",
              " ['<0x09>', 12],\n",
              " ['<0x0A>', 13],\n",
              " ['<0x0B>', 14],\n",
              " ['<0x0C>', 15],\n",
              " ['<0x0D>', 16],\n",
              " ['<0x0E>', 17],\n",
              " ['<0x0F>', 18],\n",
              " ['<0x10>', 19],\n",
              " ['<0x11>', 20],\n",
              " ['<0x12>', 21],\n",
              " ['<0x13>', 22],\n",
              " ['<0x14>', 23],\n",
              " ['<0x15>', 24],\n",
              " ['<0x16>', 25],\n",
              " ['<0x17>', 26],\n",
              " ['<0x18>', 27],\n",
              " ['<0x19>', 28],\n",
              " ['<0x1A>', 29],\n",
              " ['<0x1B>', 30],\n",
              " ['<0x1C>', 31],\n",
              " ['<0x1D>', 32],\n",
              " ['<0x1E>', 33],\n",
              " ['<0x1F>', 34],\n",
              " ['<0x20>', 35],\n",
              " ['<0x21>', 36],\n",
              " ['<0x22>', 37],\n",
              " ['<0x23>', 38],\n",
              " ['<0x24>', 39],\n",
              " ['<0x25>', 40],\n",
              " ['<0x26>', 41],\n",
              " ['<0x27>', 42],\n",
              " ['<0x28>', 43],\n",
              " ['<0x29>', 44],\n",
              " ['<0x2A>', 45],\n",
              " ['<0x2B>', 46],\n",
              " ['<0x2C>', 47],\n",
              " ['<0x2D>', 48],\n",
              " ['<0x2E>', 49],\n",
              " ['<0x2F>', 50],\n",
              " ['<0x30>', 51],\n",
              " ['<0x31>', 52],\n",
              " ['<0x32>', 53],\n",
              " ['<0x33>', 54],\n",
              " ['<0x34>', 55],\n",
              " ['<0x35>', 56],\n",
              " ['<0x36>', 57],\n",
              " ['<0x37>', 58],\n",
              " ['<0x38>', 59],\n",
              " ['<0x39>', 60],\n",
              " ['<0x3A>', 61],\n",
              " ['<0x3B>', 62],\n",
              " ['<0x3C>', 63],\n",
              " ['<0x3D>', 64],\n",
              " ['<0x3E>', 65],\n",
              " ['<0x3F>', 66],\n",
              " ['<0x40>', 67],\n",
              " ['<0x41>', 68],\n",
              " ['<0x42>', 69],\n",
              " ['<0x43>', 70],\n",
              " ['<0x44>', 71],\n",
              " ['<0x45>', 72],\n",
              " ['<0x46>', 73],\n",
              " ['<0x47>', 74],\n",
              " ['<0x48>', 75],\n",
              " ['<0x49>', 76],\n",
              " ['<0x4A>', 77],\n",
              " ['<0x4B>', 78],\n",
              " ['<0x4C>', 79],\n",
              " ['<0x4D>', 80],\n",
              " ['<0x4E>', 81],\n",
              " ['<0x4F>', 82],\n",
              " ['<0x50>', 83],\n",
              " ['<0x51>', 84],\n",
              " ['<0x52>', 85],\n",
              " ['<0x53>', 86],\n",
              " ['<0x54>', 87],\n",
              " ['<0x55>', 88],\n",
              " ['<0x56>', 89],\n",
              " ['<0x57>', 90],\n",
              " ['<0x58>', 91],\n",
              " ['<0x59>', 92],\n",
              " ['<0x5A>', 93],\n",
              " ['<0x5B>', 94],\n",
              " ['<0x5C>', 95],\n",
              " ['<0x5D>', 96],\n",
              " ['<0x5E>', 97],\n",
              " ['<0x5F>', 98],\n",
              " ['<0x60>', 99],\n",
              " ['<0x61>', 100],\n",
              " ['<0x62>', 101],\n",
              " ['<0x63>', 102],\n",
              " ['<0x64>', 103],\n",
              " ['<0x65>', 104],\n",
              " ['<0x66>', 105],\n",
              " ['<0x67>', 106],\n",
              " ['<0x68>', 107],\n",
              " ['<0x69>', 108],\n",
              " ['<0x6A>', 109],\n",
              " ['<0x6B>', 110],\n",
              " ['<0x6C>', 111],\n",
              " ['<0x6D>', 112],\n",
              " ['<0x6E>', 113],\n",
              " ['<0x6F>', 114],\n",
              " ['<0x70>', 115],\n",
              " ['<0x71>', 116],\n",
              " ['<0x72>', 117],\n",
              " ['<0x73>', 118],\n",
              " ['<0x74>', 119],\n",
              " ['<0x75>', 120],\n",
              " ['<0x76>', 121],\n",
              " ['<0x77>', 122],\n",
              " ['<0x78>', 123],\n",
              " ['<0x79>', 124],\n",
              " ['<0x7A>', 125],\n",
              " ['<0x7B>', 126],\n",
              " ['<0x7C>', 127],\n",
              " ['<0x7D>', 128],\n",
              " ['<0x7E>', 129],\n",
              " ['<0x7F>', 130],\n",
              " ['<0x80>', 131],\n",
              " ['<0x81>', 132],\n",
              " ['<0x82>', 133],\n",
              " ['<0x83>', 134],\n",
              " ['<0x84>', 135],\n",
              " ['<0x85>', 136],\n",
              " ['<0x86>', 137],\n",
              " ['<0x87>', 138],\n",
              " ['<0x88>', 139],\n",
              " ['<0x89>', 140],\n",
              " ['<0x8A>', 141],\n",
              " ['<0x8B>', 142],\n",
              " ['<0x8C>', 143],\n",
              " ['<0x8D>', 144],\n",
              " ['<0x8E>', 145],\n",
              " ['<0x8F>', 146],\n",
              " ['<0x90>', 147],\n",
              " ['<0x91>', 148],\n",
              " ['<0x92>', 149],\n",
              " ['<0x93>', 150],\n",
              " ['<0x94>', 151],\n",
              " ['<0x95>', 152],\n",
              " ['<0x96>', 153],\n",
              " ['<0x97>', 154],\n",
              " ['<0x98>', 155],\n",
              " ['<0x99>', 156],\n",
              " ['<0x9A>', 157],\n",
              " ['<0x9B>', 158],\n",
              " ['<0x9C>', 159],\n",
              " ['<0x9D>', 160],\n",
              " ['<0x9E>', 161],\n",
              " ['<0x9F>', 162],\n",
              " ['<0xA0>', 163],\n",
              " ['<0xA1>', 164],\n",
              " ['<0xA2>', 165],\n",
              " ['<0xA3>', 166],\n",
              " ['<0xA4>', 167],\n",
              " ['<0xA5>', 168],\n",
              " ['<0xA6>', 169],\n",
              " ['<0xA7>', 170],\n",
              " ['<0xA8>', 171],\n",
              " ['<0xA9>', 172],\n",
              " ['<0xAA>', 173],\n",
              " ['<0xAB>', 174],\n",
              " ['<0xAC>', 175],\n",
              " ['<0xAD>', 176],\n",
              " ['<0xAE>', 177],\n",
              " ['<0xAF>', 178],\n",
              " ['<0xB0>', 179],\n",
              " ['<0xB1>', 180],\n",
              " ['<0xB2>', 181],\n",
              " ['<0xB3>', 182],\n",
              " ['<0xB4>', 183],\n",
              " ['<0xB5>', 184],\n",
              " ['<0xB6>', 185],\n",
              " ['<0xB7>', 186],\n",
              " ['<0xB8>', 187],\n",
              " ['<0xB9>', 188],\n",
              " ['<0xBA>', 189],\n",
              " ['<0xBB>', 190],\n",
              " ['<0xBC>', 191],\n",
              " ['<0xBD>', 192],\n",
              " ['<0xBE>', 193],\n",
              " ['<0xBF>', 194],\n",
              " ['<0xC0>', 195],\n",
              " ['<0xC1>', 196],\n",
              " ['<0xC2>', 197],\n",
              " ['<0xC3>', 198],\n",
              " ['<0xC4>', 199],\n",
              " ['<0xC5>', 200],\n",
              " ['<0xC6>', 201],\n",
              " ['<0xC7>', 202],\n",
              " ['<0xC8>', 203],\n",
              " ['<0xC9>', 204],\n",
              " ['<0xCA>', 205],\n",
              " ['<0xCB>', 206],\n",
              " ['<0xCC>', 207],\n",
              " ['<0xCD>', 208],\n",
              " ['<0xCE>', 209],\n",
              " ['<0xCF>', 210],\n",
              " ['<0xD0>', 211],\n",
              " ['<0xD1>', 212],\n",
              " ['<0xD2>', 213],\n",
              " ['<0xD3>', 214],\n",
              " ['<0xD4>', 215],\n",
              " ['<0xD5>', 216],\n",
              " ['<0xD6>', 217],\n",
              " ['<0xD7>', 218],\n",
              " ['<0xD8>', 219],\n",
              " ['<0xD9>', 220],\n",
              " ['<0xDA>', 221],\n",
              " ['<0xDB>', 222],\n",
              " ['<0xDC>', 223],\n",
              " ['<0xDD>', 224],\n",
              " ['<0xDE>', 225],\n",
              " ['<0xDF>', 226],\n",
              " ['<0xE0>', 227],\n",
              " ['<0xE1>', 228],\n",
              " ['<0xE2>', 229],\n",
              " ['<0xE3>', 230],\n",
              " ['<0xE4>', 231],\n",
              " ['<0xE5>', 232],\n",
              " ['<0xE6>', 233],\n",
              " ['<0xE7>', 234],\n",
              " ['<0xE8>', 235],\n",
              " ['<0xE9>', 236],\n",
              " ['<0xEA>', 237],\n",
              " ['<0xEB>', 238],\n",
              " ['<0xEC>', 239],\n",
              " ['<0xED>', 240],\n",
              " ['<0xEE>', 241],\n",
              " ['<0xEF>', 242],\n",
              " ['<0xF0>', 243],\n",
              " ['<0xF1>', 244],\n",
              " ['<0xF2>', 245],\n",
              " ['<0xF3>', 246],\n",
              " ['<0xF4>', 247],\n",
              " ['<0xF5>', 248],\n",
              " ['<0xF6>', 249],\n",
              " ['<0xF7>', 250],\n",
              " ['<0xF8>', 251],\n",
              " ['<0xF9>', 252],\n",
              " ['<0xFA>', 253],\n",
              " ['<0xFB>', 254],\n",
              " ['<0xFC>', 255],\n",
              " ['<0xFD>', 256],\n",
              " ['<0xFE>', 257],\n",
              " ['<0xFF>', 258],\n",
              " ['en', 259],\n",
              " ['▁t', 260],\n",
              " ['ce', 261],\n",
              " ['in', 262],\n",
              " ['ra', 263],\n",
              " ['▁a', 264],\n",
              " ['de', 265],\n",
              " ['er', 266],\n",
              " ['▁s', 267],\n",
              " ['ent', 268],\n",
              " ['or', 269],\n",
              " ['pr', 270],\n",
              " ['▁m', 271],\n",
              " ['▁u', 272],\n",
              " ['ing', 273],\n",
              " ['▁th', 274],\n",
              " ['ence', 275],\n",
              " ['entence', 276],\n",
              " ['Pi', 277],\n",
              " ['ed', 278],\n",
              " ['em', 279],\n",
              " ['ex', 280],\n",
              " ['is', 281],\n",
              " ['iz', 282],\n",
              " ['la', 283],\n",
              " ['on', 284],\n",
              " ['st', 285],\n",
              " ['▁S', 286],\n",
              " ['Pie', 287],\n",
              " ['end', 288],\n",
              " ['ext', 289],\n",
              " ['▁an', 290],\n",
              " ['▁pr', 291],\n",
              " ['▁to', 292],\n",
              " ['▁un', 293],\n",
              " ['▁the', 294],\n",
              " ['Piece', 295],\n",
              " ['▁Sentence', 296],\n",
              " ['▁SentencePiece', 297],\n",
              " ['.]', 298],\n",
              " ['Ne', 299],\n",
              " ['ag', 300],\n",
              " ['do', 301],\n",
              " ['ec', 302],\n",
              " ['gu', 303],\n",
              " ['ic', 304],\n",
              " ['ir', 305],\n",
              " ['it', 306],\n",
              " ['ly', 307],\n",
              " ['to', 308],\n",
              " ['▁(', 309],\n",
              " ['▁[', 310],\n",
              " ['▁f', 311],\n",
              " ['▁n', 312],\n",
              " ['▁w', 313],\n",
              " ['.])', 314],\n",
              " ['age', 315],\n",
              " ['del', 316],\n",
              " ['ion', 317],\n",
              " ['ken', 318],\n",
              " ['lan', 319],\n",
              " ['ral', 320],\n",
              " ['wor', 321],\n",
              " ['yst', 322],\n",
              " ['▁Ne', 323],\n",
              " ['▁al', 324],\n",
              " ['▁de', 325],\n",
              " ['▁is', 326],\n",
              " ['▁ma', 327],\n",
              " ['▁mo', 328],\n",
              " ['izer', 329],\n",
              " ['rain', 330],\n",
              " ['ural', 331],\n",
              " ['▁and', 332],\n",
              " ['▁lan', 333],\n",
              " ['▁pre', 334],\n",
              " ['guage', 335],\n",
              " ['ystem', 336],\n",
              " ['▁text', 337],\n",
              " ['▁model', 338],\n",
              " ['▁train', 339],\n",
              " ['kenizer', 340],\n",
              " ['▁system', 341],\n",
              " ['▁language', 342],\n",
              " ['▁training', 343],\n",
              " ['.,', 344],\n",
              " ['BP', 345],\n",
              " ['Ku', 346],\n",
              " ['ab', 347],\n",
              " ['as', 348],\n",
              " ['at', 349],\n",
              " ['by', 350],\n",
              " ['co', 351],\n",
              " ['es', 352],\n",
              " ['et', 353],\n",
              " ['if', 354],\n",
              " ['ig', 355],\n",
              " ['im', 356],\n",
              " ['ke', 357],\n",
              " ['lo', 358],\n",
              " ['nr', 359],\n",
              " ['oc', 360],\n",
              " ['e', 361],\n",
              " ['▁', 362],\n",
              " ['n', 363],\n",
              " ['t', 364],\n",
              " ['i', 365],\n",
              " ['r', 366],\n",
              " ['a', 367],\n",
              " ['o', 368],\n",
              " ['s', 369],\n",
              " ['d', 370],\n",
              " ['c', 371],\n",
              " ['l', 372],\n",
              " ['u', 373],\n",
              " ['g', 374],\n",
              " ['m', 375],\n",
              " ['p', 376],\n",
              " ['.', 377],\n",
              " ['h', 378],\n",
              " ['-', 379],\n",
              " ['w', 380],\n",
              " ['y', 381],\n",
              " ['P', 382],\n",
              " ['S', 383],\n",
              " ['b', 384],\n",
              " ['f', 385],\n",
              " ['k', 386],\n",
              " [')', 387],\n",
              " ['x', 388],\n",
              " ['z', 389],\n",
              " ['(', 390],\n",
              " ['N', 391],\n",
              " ['[', 392],\n",
              " [']', 393],\n",
              " ['v', 394],\n",
              " [',', 395],\n",
              " ['/', 396],\n",
              " ['B', 397],\n",
              " ['E', 398],\n",
              " ['K', 399]]"
            ]
          },
          "metadata": {},
          "execution_count": 27
        }
      ]
    },
    {
      "cell_type": "markdown",
      "metadata": {
        "id": "wf4702UaOhvt"
      },
      "source": [
        "#### vocab_size\n",
        "\n",
        "- Q: what should be vocab size?\n",
        "- Q: how can I increase vocab size?\n",
        "- A: let's see. Reminder: [gpt.py](https://github.com/karpathy/ng-video-lecture/blob/master/gpt.py) from before."
      ]
    },
    {
      "cell_type": "code",
      "source": [],
      "metadata": {
        "id": "kM-BinkNCUF0"
      },
      "execution_count": null,
      "outputs": []
    }
  ]
}