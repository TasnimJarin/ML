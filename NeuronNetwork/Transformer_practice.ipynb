{
  "nbformat": 4,
  "nbformat_minor": 0,
  "metadata": {
    "colab": {
      "provenance": [],
      "gpuType": "T4"
    },
    "kernelspec": {
      "name": "python3",
      "display_name": "Python 3"
    },
    "language_info": {
      "name": "python"
    },
    "accelerator": "GPU"
  },
  "cells": [
    {
      "cell_type": "code",
      "source": [],
      "metadata": {
        "id": "XG9cgujRZPWm"
      },
      "execution_count": null,
      "outputs": []
    },
    {
      "cell_type": "code",
      "source": [
        "import torch\n",
        "import torch.nn as nn\n",
        "from torch.nn import functional as F"
      ],
      "metadata": {
        "id": "osqN6-t4a3Xd"
      },
      "execution_count": 1,
      "outputs": []
    },
    {
      "cell_type": "code",
      "source": [
        "# hyperparameters\n",
        "batch_size = 16 # how many independent sequences will we process in parallel?\n",
        "block_size = 32 # what is the maximum context length for predictions?\n",
        "max_iters = 6000\n",
        "eval_interval = 100\n",
        "learning_rate = 1e-3\n",
        "device = 'cuda' if torch.cuda.is_available() else 'cpu'\n",
        "eval_iters = 200\n",
        "n_embd = 128  # embedding size\n",
        "n_head = 8  # attention heads\n",
        "n_layer = 8  # transformer layers\n",
        "dropout = 0.0"
      ],
      "metadata": {
        "id": "_VUHPi36slxA"
      },
      "execution_count": 13,
      "outputs": []
    },
    {
      "cell_type": "code",
      "source": [
        "torch.manual_seed(1337)"
      ],
      "metadata": {
        "colab": {
          "base_uri": "https://localhost:8080/"
        },
        "id": "8bnG3f0wsluI",
        "outputId": "2b7e62c3-9553-4571-ed79-1ec64611285f"
      },
      "execution_count": 3,
      "outputs": [
        {
          "output_type": "execute_result",
          "data": {
            "text/plain": [
              "<torch._C.Generator at 0x7b48b4135af0>"
            ]
          },
          "metadata": {},
          "execution_count": 3
        }
      ]
    },
    {
      "cell_type": "code",
      "source": [
        "#read it in to inspect it\n",
        "with open('/content/drive/MyDrive/dataSet_for_practice/SMSSpamCollection.txt', 'r', encoding='utf-8') as f:\n",
        "    text = f.read()"
      ],
      "metadata": {
        "id": "z2jECldRs29a"
      },
      "execution_count": 4,
      "outputs": []
    },
    {
      "cell_type": "code",
      "source": [
        "print('Length of the dataset in characters : ', len(text))"
      ],
      "metadata": {
        "colab": {
          "base_uri": "https://localhost:8080/"
        },
        "id": "r2W23jaIs26h",
        "outputId": "c653357f-98aa-4970-99aa-02340e9293b2"
      },
      "execution_count": 5,
      "outputs": [
        {
          "output_type": "stream",
          "name": "stdout",
          "text": [
            "Length of the dataset in characters :  477203\n"
          ]
        }
      ]
    },
    {
      "cell_type": "markdown",
      "source": [
        "Tokenization"
      ],
      "metadata": {
        "id": "a6FGFcjIqpcH"
      }
    },
    {
      "cell_type": "code",
      "source": [
        "# here are all the unique characters that occur in this text\n",
        "chars = sorted(list(set(text))) # Unique characters in text\n",
        "vocab_size = len(chars)\n",
        "# create a mapping from characters to integers\n",
        "stoi = { ch:i for i,ch in enumerate(chars) } # Convert string to list of integers\n",
        "itos = { i:ch for i,ch in enumerate(chars) } # Convert list of integers to string\n",
        "\n",
        "encode = lambda s: [stoi[c] for c in s] # encoder: take a string, output a list of integers\n",
        "decode = lambda l: ''.join([itos[i] for i in l]) # decoder: take a list of integers, output a string"
      ],
      "metadata": {
        "id": "S-_YczZYs23R"
      },
      "execution_count": 6,
      "outputs": []
    },
    {
      "cell_type": "code",
      "source": [
        "# Train and test splits\n",
        "data = torch.tensor(encode(text), dtype=torch.long) #covert text into tensor\n",
        "n = int(0.9*len(data)) # first 90% will be train, rest val\n",
        "train_data = data[:n]\n",
        "val_data = data[n:]"
      ],
      "metadata": {
        "id": "PvP5TsbytXh4"
      },
      "execution_count": 7,
      "outputs": []
    },
    {
      "cell_type": "markdown",
      "source": [
        "Data Batching"
      ],
      "metadata": {
        "id": "nWFF1XU41RVn"
      }
    },
    {
      "cell_type": "code",
      "source": [
        "# data loading\n",
        "def get_batch(split):\n",
        "    # generate a small batch of data of inputs x and targets y\n",
        "    data = train_data if split == 'train' else val_data\n",
        "    ix = torch.randint(len(data) - block_size, (batch_size,))\n",
        "    x = torch.stack([data[i:i+block_size] for i in ix])\n",
        "    y = torch.stack([data[i+1:i+block_size+1] for i in ix])\n",
        "    x, y = x.to(device), y.to(device)\n",
        "    return x, y\n",
        "\n",
        "@torch.no_grad()\n",
        "def estimate_loss():\n",
        "    out = {}\n",
        "    model.eval()\n",
        "    for split in ['train', 'val']:\n",
        "        losses = torch.zeros(eval_iters)\n",
        "        for k in range(eval_iters):\n",
        "            X, Y = get_batch(split)\n",
        "            logits, loss = model(X, Y)\n",
        "            losses[k] = loss.item()\n",
        "        out[split] = losses.mean()\n",
        "    model.train()\n",
        "    return out"
      ],
      "metadata": {
        "id": "4nRySZNYt3rq"
      },
      "execution_count": 8,
      "outputs": []
    },
    {
      "cell_type": "code",
      "source": [
        "class Head(nn.Module):\n",
        "    \"\"\" one head of self-attention \"\"\"\n",
        "\n",
        "    def __init__(self, head_size):\n",
        "        super().__init__()\n",
        "        self.key = nn.Linear(n_embd, head_size, bias=False)\n",
        "        self.query = nn.Linear(n_embd, head_size, bias=False)\n",
        "        self.value = nn.Linear(n_embd, head_size, bias=False)\n",
        "        self.register_buffer('tril', torch.tril(torch.ones(block_size, block_size)))\n",
        "\n",
        "        self.dropout = nn.Dropout(dropout)\n",
        "\n",
        "    def forward(self, x):\n",
        "        B,T,C = x.shape\n",
        "        k = self.key(x)   # (B,T,C)\n",
        "        q = self.query(x) # (B,T,C)\n",
        "        # compute attention scores (\"affinities\")\n",
        "        wei = q @ k.transpose(-2,-1) * C**-0.5 # (B, T, C) @ (B, C, T) -> (B, T, T)\n",
        "        wei = wei.masked_fill(self.tril[:T, :T] == 0, float('-inf')) # (B, T, T)\n",
        "        wei = F.softmax(wei, dim=-1) # (B, T, T)\n",
        "        wei = self.dropout(wei)\n",
        "        # perform the weighted aggregation of the values\n",
        "        v = self.value(x) # (B,T,C)\n",
        "        out = wei @ v # (B, T, T) @ (B, T, C) -> (B, T, C)\n",
        "        return out\n",
        "\n",
        "class MultiHeadAttention(nn.Module):\n",
        "    \"\"\" multiple heads of self-attention in parallel \"\"\"\n",
        "\n",
        "    def __init__(self, num_heads, head_size):\n",
        "        super().__init__()\n",
        "        self.heads = nn.ModuleList([Head(head_size) for _ in range(num_heads)])\n",
        "        self.proj = nn.Linear(n_embd, n_embd)\n",
        "        self.dropout = nn.Dropout(dropout)\n",
        "\n",
        "    def forward(self, x):\n",
        "        out = torch.cat([h(x) for h in self.heads], dim=-1)\n",
        "        out = self.dropout(self.proj(out))\n",
        "        return out\n",
        "\n",
        "class FeedFoward(nn.Module):\n",
        "    \"\"\" a simple linear layer followed by a non-linearity \"\"\"\n",
        "\n",
        "    def __init__(self, n_embd):\n",
        "        super().__init__()\n",
        "        self.net = nn.Sequential(\n",
        "            nn.Linear(n_embd, 4 * n_embd),\n",
        "            nn.ReLU(),\n",
        "            nn.Linear(4 * n_embd, n_embd),\n",
        "            nn.Dropout(dropout),\n",
        "        )\n",
        "\n",
        "    def forward(self, x):\n",
        "        return self.net(x)\n",
        "\n",
        "class Block(nn.Module):\n",
        "    \"\"\" Transformer block: communication followed by computation \"\"\"\n",
        "\n",
        "    def __init__(self, n_embd, n_head):\n",
        "        # n_embd: embedding dimension, n_head: the number of heads we'd like\n",
        "        super().__init__()\n",
        "        head_size = n_embd // n_head\n",
        "        self.sa = MultiHeadAttention(n_head, head_size)\n",
        "        self.ffwd = FeedFoward(n_embd)\n",
        "        self.ln1 = nn.LayerNorm(n_embd)\n",
        "        self.ln2 = nn.LayerNorm(n_embd)\n",
        "\n",
        "    def forward(self, x):\n",
        "        x = x + self.sa(self.ln1(x))\n",
        "        x = x + self.ffwd(self.ln2(x))\n",
        "        return x\n",
        "\n"
      ],
      "metadata": {
        "id": "osyTt3cVtXfo"
      },
      "execution_count": 9,
      "outputs": []
    },
    {
      "cell_type": "code",
      "source": [
        "# super simple bigram model\n",
        "class BigramLanguageModel(nn.Module):\n",
        "\n",
        "    def __init__(self):\n",
        "        super().__init__()\n",
        "        # each token directly reads off the logits for the next token from a lookup table\n",
        "        self.token_embedding_table = nn.Embedding(vocab_size, n_embd)\n",
        "        self.position_embedding_table = nn.Embedding(block_size, n_embd)\n",
        "        self.blocks = nn.Sequential(*[Block(n_embd, n_head=n_head) for _ in range(n_layer)])\n",
        "        self.ln_f = nn.LayerNorm(n_embd) # final layer norm\n",
        "        self.lm_head = nn.Linear(n_embd, vocab_size)\n",
        "\n",
        "    def forward(self, idx, targets=None):\n",
        "        B, T = idx.shape\n",
        "\n",
        "        # idx and targets are both (B,T) tensor of integers\n",
        "        tok_emb = self.token_embedding_table(idx) # (B,T,C)\n",
        "        pos_emb = self.position_embedding_table(torch.arange(T, device=device)) # (T,C)\n",
        "        x = tok_emb + pos_emb # # Combine token and positional embeddings (B,T,C)\n",
        "        x = self.blocks(x) # Pass through Transformer blocks(B,T,C)\n",
        "        x = self.ln_f(x) # Layer normalization(B,T,C)\n",
        "        logits = self.lm_head(x) # Get predictions for next token (B,T,vocab_size)\n",
        "\n",
        "        if targets is None:\n",
        "            loss = None\n",
        "        else:\n",
        "            #Reshape logits and targets\n",
        "            B, T, C = logits.shape\n",
        "            logits = logits.view(B*T, C)\n",
        "            targets = targets.view(B*T)\n",
        "            loss = F.cross_entropy(logits, targets)\n",
        "\n",
        "        return logits, loss\n",
        "\n",
        "    def generate(self, idx, max_new_tokens):\n",
        "        # idx is (B, T) array of indices in the current context\n",
        "        for _ in range(max_new_tokens):\n",
        "            # crop idx to the last block_size tokens\n",
        "            idx_cond = idx[:, -block_size:]\n",
        "            # get the predictions\n",
        "            logits, loss = self(idx_cond)\n",
        "            # focus only on the last time step\n",
        "            logits = logits[:, -1, :] # becomes (B, C)\n",
        "            # apply softmax to get probabilities\n",
        "            probs = F.softmax(logits, dim=-1) # (B, C)\n",
        "            # sample from the distribution\n",
        "            idx_next = torch.multinomial(probs, num_samples=1) # (B, 1)\n",
        "            # append sampled index to the running sequence\n",
        "            idx = torch.cat((idx, idx_next), dim=1) # (B, T+1)\n",
        "        return idx\n",
        "\n",
        "model = BigramLanguageModel()\n",
        "m = model.to(device)"
      ],
      "metadata": {
        "id": "NV7lob6p4d9r"
      },
      "execution_count": 10,
      "outputs": []
    },
    {
      "cell_type": "code",
      "source": [
        "# create a PyTorch optimizer\n",
        "optimizer = torch.optim.AdamW(model.parameters(), lr=learning_rate)\n",
        "\n",
        "\n",
        "for iter in range(max_iters):\n",
        "\n",
        "    # every once in a while evaluate the loss on train and val sets\n",
        "    if iter % eval_interval == 0:\n",
        "        losses = estimate_loss()\n",
        "        print(f\"step {iter}: train loss {losses['train']:.4f}, val loss {losses['val']:.4f}\")\n",
        "\n",
        "    # sample a batch of data\n",
        "    xb, yb = get_batch('train')\n",
        "\n",
        "    # evaluate the loss\n",
        "    logits, loss = model(xb, yb)\n",
        "    optimizer.zero_grad(set_to_none=True)\n",
        "    loss.backward()\n",
        "    optimizer.step()\n",
        "\n",
        "\n"
      ],
      "metadata": {
        "colab": {
          "base_uri": "https://localhost:8080/"
        },
        "id": "AWRNTe7ltXdH",
        "outputId": "95f65296-b6d4-46cd-cdf9-fa7f75b768f6"
      },
      "execution_count": 14,
      "outputs": [
        {
          "output_type": "stream",
          "name": "stdout",
          "text": [
            "step 0: train loss 1.8243, val loss 1.8793\n",
            "step 100: train loss 1.8166, val loss 1.8706\n",
            "step 200: train loss 1.8210, val loss 1.8569\n",
            "step 300: train loss 1.8248, val loss 1.8713\n",
            "step 400: train loss 1.8009, val loss 1.8542\n",
            "step 500: train loss 1.8228, val loss 1.8761\n",
            "step 600: train loss 1.8134, val loss 1.8657\n",
            "step 700: train loss 1.8001, val loss 1.8552\n",
            "step 800: train loss 1.7906, val loss 1.8374\n",
            "step 900: train loss 1.7880, val loss 1.8571\n",
            "step 1000: train loss 1.7999, val loss 1.8370\n",
            "step 1100: train loss 1.7739, val loss 1.8507\n",
            "step 1200: train loss 1.7582, val loss 1.8400\n",
            "step 1300: train loss 1.7729, val loss 1.8279\n",
            "step 1400: train loss 1.7643, val loss 1.8404\n",
            "step 1500: train loss 1.7793, val loss 1.8288\n",
            "step 1600: train loss 1.7617, val loss 1.8274\n",
            "step 1700: train loss 1.7662, val loss 1.8142\n",
            "step 1800: train loss 1.7580, val loss 1.8343\n",
            "step 1900: train loss 1.7611, val loss 1.8335\n",
            "step 2000: train loss 1.7549, val loss 1.8181\n",
            "step 2100: train loss 1.7432, val loss 1.8155\n",
            "step 2200: train loss 1.7524, val loss 1.8119\n",
            "step 2300: train loss 1.7405, val loss 1.8252\n",
            "step 2400: train loss 1.7487, val loss 1.8109\n",
            "step 2500: train loss 1.7361, val loss 1.7991\n",
            "step 2600: train loss 1.7340, val loss 1.8266\n",
            "step 2700: train loss 1.7366, val loss 1.8058\n",
            "step 2800: train loss 1.7165, val loss 1.7964\n",
            "step 2900: train loss 1.7384, val loss 1.7907\n",
            "step 3000: train loss 1.7205, val loss 1.8098\n",
            "step 3100: train loss 1.7258, val loss 1.7927\n",
            "step 3200: train loss 1.7247, val loss 1.7996\n",
            "step 3300: train loss 1.7176, val loss 1.8028\n",
            "step 3400: train loss 1.7197, val loss 1.7957\n",
            "step 3500: train loss 1.7106, val loss 1.7829\n",
            "step 3600: train loss 1.7122, val loss 1.8015\n",
            "step 3700: train loss 1.7094, val loss 1.8072\n",
            "step 3800: train loss 1.7347, val loss 1.7832\n",
            "step 3900: train loss 1.7115, val loss 1.7789\n",
            "step 4000: train loss 1.7131, val loss 1.7813\n",
            "step 4100: train loss 1.6997, val loss 1.7895\n",
            "step 4200: train loss 1.7014, val loss 1.7910\n",
            "step 4300: train loss 1.6993, val loss 1.7804\n",
            "step 4400: train loss 1.6983, val loss 1.7956\n",
            "step 4500: train loss 1.6866, val loss 1.7866\n",
            "step 4600: train loss 1.6813, val loss 1.7700\n",
            "step 4700: train loss 1.6961, val loss 1.7872\n",
            "step 4800: train loss 1.6903, val loss 1.7709\n",
            "step 4900: train loss 1.6848, val loss 1.7793\n"
          ]
        }
      ]
    },
    {
      "cell_type": "code",
      "source": [
        "# generate from the model\n",
        "context = torch.zeros((1, 1), dtype=torch.long, device=device)\n",
        "print(decode(m.generate(context, max_new_tokens=1100)[0].tolist()))"
      ],
      "metadata": {
        "colab": {
          "base_uri": "https://localhost:8080/"
        },
        "id": "tUZNfabTslqG",
        "outputId": "9c859691-a63d-498b-be57-2f4ce0b56cea"
      },
      "execution_count": 15,
      "outputs": [
        {
          "output_type": "stream",
          "name": "stdout",
          "text": [
            "\tI i've saoke you's so i at workin blather GOOD\n",
            "ham\tWhere undirteed bedno.mis we serring them teacing the does go not gonnah.........  maya i come comy!\n",
            "ham\tFeee I 3 wors.co.uk/don 0905809996687728.36 16.504 Txt to 6146536.Msg9287Q\n",
            "ham\t1d; ...!!\n",
            "ham\tK..k.i lovaing to was that you get seath by poly to showing ...\n",
            "ham\tI already getting send 150p\n",
            "ham\tLol)hone round days wot go u £100 hole :(at phones that u don't be our 2f I himages but I quotol coloved ently netcup and ? comuch at it please  &lt;#&gt;,gd\n",
            "ham\tNo someone-The wrare. With my job days coming fine n satemo oh..\n",
            "ham\tI hope the money I'll bake ur lots is west?\n",
            "ham\tid we go does roup..i've says in ancount i'm getting the cauuse with off:)when i get that I wantled? To life prazu\n",
            "ham\tEnjoy callin be  2 shower to acount only later\n",
            "ham\tI cops real. When me you hello in with meet they cext?\n",
            "ham\tShands is pick. GONK, My 1WEN Now  &lt;#&gt;   elseouss\n",
            "ham\tNays a gring to time : \n",
            "ham\tI was we was ..... Jus love! When't i you finis and te wighn..... Pls tog not wend to mch jall ays.cel130.cad.mea\n",
            "spam\tSorry browe\n",
            "ham\tI at help.\n",
            "ham\t\"HHIN\n"
          ]
        }
      ]
    },
    {
      "cell_type": "code",
      "source": [],
      "metadata": {
        "id": "bCIv4Mq4BQMa"
      },
      "execution_count": 12,
      "outputs": []
    },
    {
      "cell_type": "code",
      "source": [],
      "metadata": {
        "id": "EbWIKG6eBOMf"
      },
      "execution_count": 12,
      "outputs": []
    }
  ]
}