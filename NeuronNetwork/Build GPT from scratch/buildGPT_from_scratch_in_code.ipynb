{
  "nbformat": 4,
  "nbformat_minor": 0,
  "metadata": {
    "colab": {
      "provenance": []
    },
    "kernelspec": {
      "name": "python3",
      "display_name": "Python 3"
    },
    "language_info": {
      "name": "python"
    }
  },
  "cells": [
    {
      "cell_type": "markdown",
      "source": [
        "**GPT**=> Generative Pre-trained Transformer\n",
        "\n",
        "Generative: It generates human-like text based on input.\n",
        "\n",
        "Pre-trained: It is trained on a large dataset before being fine-tuned for specific tasks.\n",
        "\n",
        "Transformer: It uses the Transformer architecture, a deep learning model designed for natural language processing (NLP)."
      ],
      "metadata": {
        "id": "rx7ovIWh7MJK"
      }
    },
    {
      "cell_type": "code",
      "source": [
        "# We always start with a dataset to train on. Let's download the tiny shakespeare dataset\n",
        "!wget https://raw.githubusercontent.com/karpathy/char-rnn/master/data/tinyshakespeare/input.txt"
      ],
      "metadata": {
        "id": "qIKIppC37ZtD",
        "colab": {
          "base_uri": "https://localhost:8080/"
        },
        "outputId": "f50ce6ae-f535-4f18-894f-1bae5b5a51fe"
      },
      "execution_count": 1,
      "outputs": [
        {
          "output_type": "stream",
          "name": "stdout",
          "text": [
            "--2025-03-06 06:17:21--  https://raw.githubusercontent.com/karpathy/char-rnn/master/data/tinyshakespeare/input.txt\n",
            "Resolving raw.githubusercontent.com (raw.githubusercontent.com)... 185.199.110.133, 185.199.108.133, 185.199.109.133, ...\n",
            "Connecting to raw.githubusercontent.com (raw.githubusercontent.com)|185.199.110.133|:443... connected.\n",
            "HTTP request sent, awaiting response... 200 OK\n",
            "Length: 1115394 (1.1M) [text/plain]\n",
            "Saving to: ‘input.txt’\n",
            "\n",
            "\rinput.txt             0%[                    ]       0  --.-KB/s               \rinput.txt           100%[===================>]   1.06M  --.-KB/s    in 0.06s   \n",
            "\n",
            "2025-03-06 06:17:21 (17.7 MB/s) - ‘input.txt’ saved [1115394/1115394]\n",
            "\n"
          ]
        }
      ]
    },
    {
      "cell_type": "code",
      "source": [
        "#read it in to inspect it\n",
        "with open('input.txt', 'r', encoding='utf-8') as f:\n",
        "    text = f.read()"
      ],
      "metadata": {
        "id": "GDnkTXepZ9VQ"
      },
      "execution_count": 2,
      "outputs": []
    },
    {
      "cell_type": "code",
      "source": [
        "print('Length of the dataset in characters : ', len(text))"
      ],
      "metadata": {
        "colab": {
          "base_uri": "https://localhost:8080/"
        },
        "id": "KaeEIHk7gJHp",
        "outputId": "eb2abd5d-beea-49fb-e394-199cd9bcaf9d"
      },
      "execution_count": 3,
      "outputs": [
        {
          "output_type": "stream",
          "name": "stdout",
          "text": [
            "Length of the dataset in characters :  1115394\n"
          ]
        }
      ]
    },
    {
      "cell_type": "code",
      "source": [
        "#First 1000 characters\n",
        "print(text[:1000])"
      ],
      "metadata": {
        "colab": {
          "base_uri": "https://localhost:8080/"
        },
        "id": "rb6XdigBgY7j",
        "outputId": "af2e228a-96e8-4a84-9e6f-2b8a3725ec49"
      },
      "execution_count": 4,
      "outputs": [
        {
          "output_type": "stream",
          "name": "stdout",
          "text": [
            "First Citizen:\n",
            "Before we proceed any further, hear me speak.\n",
            "\n",
            "All:\n",
            "Speak, speak.\n",
            "\n",
            "First Citizen:\n",
            "You are all resolved rather to die than to famish?\n",
            "\n",
            "All:\n",
            "Resolved. resolved.\n",
            "\n",
            "First Citizen:\n",
            "First, you know Caius Marcius is chief enemy to the people.\n",
            "\n",
            "All:\n",
            "We know't, we know't.\n",
            "\n",
            "First Citizen:\n",
            "Let us kill him, and we'll have corn at our own price.\n",
            "Is't a verdict?\n",
            "\n",
            "All:\n",
            "No more talking on't; let it be done: away, away!\n",
            "\n",
            "Second Citizen:\n",
            "One word, good citizens.\n",
            "\n",
            "First Citizen:\n",
            "We are accounted poor citizens, the patricians good.\n",
            "What authority surfeits on would relieve us: if they\n",
            "would yield us but the superfluity, while it were\n",
            "wholesome, we might guess they relieved us humanely;\n",
            "but they think we are too dear: the leanness that\n",
            "afflicts us, the object of our misery, is as an\n",
            "inventory to particularise their abundance; our\n",
            "sufferance is a gain to them Let us revenge this with\n",
            "our pikes, ere we become rakes: for the gods know I\n",
            "speak this in hunger for bread, not in thirst for revenge.\n",
            "\n",
            "\n"
          ]
        }
      ]
    },
    {
      "cell_type": "code",
      "source": [
        "chars = sorted(list(set(text)))\n",
        "vocab_size = len(chars)\n",
        "print(''.join(chars))\n",
        "print(vocab_size)"
      ],
      "metadata": {
        "colab": {
          "base_uri": "https://localhost:8080/"
        },
        "id": "gZKoUpdYgni6",
        "outputId": "c3031cfd-c157-4a59-e502-fbcac2fa3044"
      },
      "execution_count": 5,
      "outputs": [
        {
          "output_type": "stream",
          "name": "stdout",
          "text": [
            "\n",
            " !$&',-.3:;?ABCDEFGHIJKLMNOPQRSTUVWXYZabcdefghijklmnopqrstuvwxyz\n",
            "65\n"
          ]
        }
      ]
    },
    {
      "cell_type": "code",
      "source": [
        "#create a mapping from characters to integers\n",
        "stoi = {ch:i for i,ch in enumerate(chars)}\n",
        "itos = {i:ch for i,ch in enumerate(chars)}\n",
        "encode = lambda s : [stoi[c] for c in s] # encoder: take a string, output a list of integers\n",
        "decode = lambda l : ''.join([itos[i]for i in l]) # decoder: take a list of integers, output a string\n",
        "\n",
        "\n",
        "print(encode(\"hii there\"))\n",
        "print(decode(encode(\"hii there\")))"
      ],
      "metadata": {
        "colab": {
          "base_uri": "https://localhost:8080/"
        },
        "id": "Q_dFrz5vg4Tl",
        "outputId": "c5c680fa-0f29-4cd3-9443-1cfe899f992f"
      },
      "execution_count": 6,
      "outputs": [
        {
          "output_type": "stream",
          "name": "stdout",
          "text": [
            "[46, 47, 47, 1, 58, 46, 43, 56, 43]\n",
            "hii there\n"
          ]
        }
      ]
    },
    {
      "cell_type": "code",
      "source": [
        "# let's now encode the entire text dataset and store it into a torch.Tensor\n",
        "import torch # we use PyTorch: https://pytorch.org\n",
        "data = torch.tensor(encode(text), dtype=torch.long)\n",
        "print(data.shape, data.dtype)\n",
        "print(data[:1000]) # the 1000 characters we looked at earier will to the GPT look like this"
      ],
      "metadata": {
        "colab": {
          "base_uri": "https://localhost:8080/"
        },
        "id": "BgNjfe3pkFrW",
        "outputId": "15dab7a0-6e57-490f-f758-71d0392e7ce0"
      },
      "execution_count": 7,
      "outputs": [
        {
          "output_type": "stream",
          "name": "stdout",
          "text": [
            "torch.Size([1115394]) torch.int64\n",
            "tensor([18, 47, 56, 57, 58,  1, 15, 47, 58, 47, 64, 43, 52, 10,  0, 14, 43, 44,\n",
            "        53, 56, 43,  1, 61, 43,  1, 54, 56, 53, 41, 43, 43, 42,  1, 39, 52, 63,\n",
            "         1, 44, 59, 56, 58, 46, 43, 56,  6,  1, 46, 43, 39, 56,  1, 51, 43,  1,\n",
            "        57, 54, 43, 39, 49,  8,  0,  0, 13, 50, 50, 10,  0, 31, 54, 43, 39, 49,\n",
            "         6,  1, 57, 54, 43, 39, 49,  8,  0,  0, 18, 47, 56, 57, 58,  1, 15, 47,\n",
            "        58, 47, 64, 43, 52, 10,  0, 37, 53, 59,  1, 39, 56, 43,  1, 39, 50, 50,\n",
            "         1, 56, 43, 57, 53, 50, 60, 43, 42,  1, 56, 39, 58, 46, 43, 56,  1, 58,\n",
            "        53,  1, 42, 47, 43,  1, 58, 46, 39, 52,  1, 58, 53,  1, 44, 39, 51, 47,\n",
            "        57, 46, 12,  0,  0, 13, 50, 50, 10,  0, 30, 43, 57, 53, 50, 60, 43, 42,\n",
            "         8,  1, 56, 43, 57, 53, 50, 60, 43, 42,  8,  0,  0, 18, 47, 56, 57, 58,\n",
            "         1, 15, 47, 58, 47, 64, 43, 52, 10,  0, 18, 47, 56, 57, 58,  6,  1, 63,\n",
            "        53, 59,  1, 49, 52, 53, 61,  1, 15, 39, 47, 59, 57,  1, 25, 39, 56, 41,\n",
            "        47, 59, 57,  1, 47, 57,  1, 41, 46, 47, 43, 44,  1, 43, 52, 43, 51, 63,\n",
            "         1, 58, 53,  1, 58, 46, 43,  1, 54, 43, 53, 54, 50, 43,  8,  0,  0, 13,\n",
            "        50, 50, 10,  0, 35, 43,  1, 49, 52, 53, 61,  5, 58,  6,  1, 61, 43,  1,\n",
            "        49, 52, 53, 61,  5, 58,  8,  0,  0, 18, 47, 56, 57, 58,  1, 15, 47, 58,\n",
            "        47, 64, 43, 52, 10,  0, 24, 43, 58,  1, 59, 57,  1, 49, 47, 50, 50,  1,\n",
            "        46, 47, 51,  6,  1, 39, 52, 42,  1, 61, 43,  5, 50, 50,  1, 46, 39, 60,\n",
            "        43,  1, 41, 53, 56, 52,  1, 39, 58,  1, 53, 59, 56,  1, 53, 61, 52,  1,\n",
            "        54, 56, 47, 41, 43,  8,  0, 21, 57,  5, 58,  1, 39,  1, 60, 43, 56, 42,\n",
            "        47, 41, 58, 12,  0,  0, 13, 50, 50, 10,  0, 26, 53,  1, 51, 53, 56, 43,\n",
            "         1, 58, 39, 50, 49, 47, 52, 45,  1, 53, 52,  5, 58, 11,  1, 50, 43, 58,\n",
            "         1, 47, 58,  1, 40, 43,  1, 42, 53, 52, 43, 10,  1, 39, 61, 39, 63,  6,\n",
            "         1, 39, 61, 39, 63,  2,  0,  0, 31, 43, 41, 53, 52, 42,  1, 15, 47, 58,\n",
            "        47, 64, 43, 52, 10,  0, 27, 52, 43,  1, 61, 53, 56, 42,  6,  1, 45, 53,\n",
            "        53, 42,  1, 41, 47, 58, 47, 64, 43, 52, 57,  8,  0,  0, 18, 47, 56, 57,\n",
            "        58,  1, 15, 47, 58, 47, 64, 43, 52, 10,  0, 35, 43,  1, 39, 56, 43,  1,\n",
            "        39, 41, 41, 53, 59, 52, 58, 43, 42,  1, 54, 53, 53, 56,  1, 41, 47, 58,\n",
            "        47, 64, 43, 52, 57,  6,  1, 58, 46, 43,  1, 54, 39, 58, 56, 47, 41, 47,\n",
            "        39, 52, 57,  1, 45, 53, 53, 42,  8,  0, 35, 46, 39, 58,  1, 39, 59, 58,\n",
            "        46, 53, 56, 47, 58, 63,  1, 57, 59, 56, 44, 43, 47, 58, 57,  1, 53, 52,\n",
            "         1, 61, 53, 59, 50, 42,  1, 56, 43, 50, 47, 43, 60, 43,  1, 59, 57, 10,\n",
            "         1, 47, 44,  1, 58, 46, 43, 63,  0, 61, 53, 59, 50, 42,  1, 63, 47, 43,\n",
            "        50, 42,  1, 59, 57,  1, 40, 59, 58,  1, 58, 46, 43,  1, 57, 59, 54, 43,\n",
            "        56, 44, 50, 59, 47, 58, 63,  6,  1, 61, 46, 47, 50, 43,  1, 47, 58,  1,\n",
            "        61, 43, 56, 43,  0, 61, 46, 53, 50, 43, 57, 53, 51, 43,  6,  1, 61, 43,\n",
            "         1, 51, 47, 45, 46, 58,  1, 45, 59, 43, 57, 57,  1, 58, 46, 43, 63,  1,\n",
            "        56, 43, 50, 47, 43, 60, 43, 42,  1, 59, 57,  1, 46, 59, 51, 39, 52, 43,\n",
            "        50, 63, 11,  0, 40, 59, 58,  1, 58, 46, 43, 63,  1, 58, 46, 47, 52, 49,\n",
            "         1, 61, 43,  1, 39, 56, 43,  1, 58, 53, 53,  1, 42, 43, 39, 56, 10,  1,\n",
            "        58, 46, 43,  1, 50, 43, 39, 52, 52, 43, 57, 57,  1, 58, 46, 39, 58,  0,\n",
            "        39, 44, 44, 50, 47, 41, 58, 57,  1, 59, 57,  6,  1, 58, 46, 43,  1, 53,\n",
            "        40, 48, 43, 41, 58,  1, 53, 44,  1, 53, 59, 56,  1, 51, 47, 57, 43, 56,\n",
            "        63,  6,  1, 47, 57,  1, 39, 57,  1, 39, 52,  0, 47, 52, 60, 43, 52, 58,\n",
            "        53, 56, 63,  1, 58, 53,  1, 54, 39, 56, 58, 47, 41, 59, 50, 39, 56, 47,\n",
            "        57, 43,  1, 58, 46, 43, 47, 56,  1, 39, 40, 59, 52, 42, 39, 52, 41, 43,\n",
            "        11,  1, 53, 59, 56,  0, 57, 59, 44, 44, 43, 56, 39, 52, 41, 43,  1, 47,\n",
            "        57,  1, 39,  1, 45, 39, 47, 52,  1, 58, 53,  1, 58, 46, 43, 51,  1, 24,\n",
            "        43, 58,  1, 59, 57,  1, 56, 43, 60, 43, 52, 45, 43,  1, 58, 46, 47, 57,\n",
            "         1, 61, 47, 58, 46,  0, 53, 59, 56,  1, 54, 47, 49, 43, 57,  6,  1, 43,\n",
            "        56, 43,  1, 61, 43,  1, 40, 43, 41, 53, 51, 43,  1, 56, 39, 49, 43, 57,\n",
            "        10,  1, 44, 53, 56,  1, 58, 46, 43,  1, 45, 53, 42, 57,  1, 49, 52, 53,\n",
            "        61,  1, 21,  0, 57, 54, 43, 39, 49,  1, 58, 46, 47, 57,  1, 47, 52,  1,\n",
            "        46, 59, 52, 45, 43, 56,  1, 44, 53, 56,  1, 40, 56, 43, 39, 42,  6,  1,\n",
            "        52, 53, 58,  1, 47, 52,  1, 58, 46, 47, 56, 57, 58,  1, 44, 53, 56,  1,\n",
            "        56, 43, 60, 43, 52, 45, 43,  8,  0,  0])\n"
          ]
        }
      ]
    },
    {
      "cell_type": "code",
      "source": [
        "# Let's now split up the data into train and validation sets\n",
        "n = int(0.9*len(data))\n",
        "train_data = data[:n]\n",
        "val_data = data[n:]"
      ],
      "metadata": {
        "id": "RPn5z4o3lOo2"
      },
      "execution_count": 8,
      "outputs": []
    },
    {
      "cell_type": "code",
      "source": [
        "block_size = 8\n",
        "train_data[:block_size+1]"
      ],
      "metadata": {
        "colab": {
          "base_uri": "https://localhost:8080/"
        },
        "id": "dUe0g8wplyNi",
        "outputId": "013ffb47-12dd-4e0a-8cea-ee6e5251e617"
      },
      "execution_count": 9,
      "outputs": [
        {
          "output_type": "execute_result",
          "data": {
            "text/plain": [
              "tensor([18, 47, 56, 57, 58,  1, 15, 47, 58])"
            ]
          },
          "metadata": {},
          "execution_count": 9
        }
      ]
    },
    {
      "cell_type": "code",
      "source": [
        "x = train_data[:block_size]\n",
        "y = train_data[1:block_size+1]\n",
        "for t in range(block_size):\n",
        "    context = x[:t+1]\n",
        "    target = y[t]\n",
        "    print(f\"when input is {context} the target: {target}\")"
      ],
      "metadata": {
        "colab": {
          "base_uri": "https://localhost:8080/"
        },
        "id": "-YRdcyX1idoI",
        "outputId": "b934d8af-2a08-4977-8b6c-8146695198b0"
      },
      "execution_count": 10,
      "outputs": [
        {
          "output_type": "stream",
          "name": "stdout",
          "text": [
            "when input is tensor([18]) the target: 47\n",
            "when input is tensor([18, 47]) the target: 56\n",
            "when input is tensor([18, 47, 56]) the target: 57\n",
            "when input is tensor([18, 47, 56, 57]) the target: 58\n",
            "when input is tensor([18, 47, 56, 57, 58]) the target: 1\n",
            "when input is tensor([18, 47, 56, 57, 58,  1]) the target: 15\n",
            "when input is tensor([18, 47, 56, 57, 58,  1, 15]) the target: 47\n",
            "when input is tensor([18, 47, 56, 57, 58,  1, 15, 47]) the target: 58\n"
          ]
        }
      ]
    },
    {
      "cell_type": "code",
      "source": [
        "torch.manual_seed(1337)\n",
        "batch_size = 4 # how many independent sequences will we process in parallel?\n",
        "block_size = 8 # what is the maximum context length for predictions?\n",
        "\n",
        "def get_batch(split):\n",
        "    # generate a small batch of data of inputs x and targets y\n",
        "    data = train_data if split == 'train' else val_data\n",
        "    ix = torch.randint(len(data) - block_size, (batch_size,))\n",
        "    x = torch.stack([data[i:i+block_size] for i in ix])\n",
        "    y = torch.stack([data[i+1:i+block_size+1] for i in ix])\n",
        "    return x, y\n",
        "\n",
        "xb, yb = get_batch('train')\n",
        "print('inputs:')\n",
        "print(xb.shape) # Should print: torch.Size([batch_size, block_size])\n",
        "print(xb)\n",
        "print('targets:')\n",
        "print(yb.shape)\n",
        "print(yb)\n",
        "\n",
        "print('----------------------------------------')\n",
        "\n",
        "for b in range(batch_size): # batch dimension\n",
        "    for t in range(block_size): # time dimension\n",
        "        context = xb[b, :t+1] # Growing context from start to t\n",
        "        target = yb[b,t] # Next token the model should predict\n",
        "        print(f\"when input is {context.tolist()} the target: {target}\")"
      ],
      "metadata": {
        "colab": {
          "base_uri": "https://localhost:8080/"
        },
        "id": "gwox9u4-iU8m",
        "outputId": "9e7ec978-b0c1-46b0-dafe-413739c62738"
      },
      "execution_count": 11,
      "outputs": [
        {
          "output_type": "stream",
          "name": "stdout",
          "text": [
            "inputs:\n",
            "torch.Size([4, 8])\n",
            "tensor([[24, 43, 58,  5, 57,  1, 46, 43],\n",
            "        [44, 53, 56,  1, 58, 46, 39, 58],\n",
            "        [52, 58,  1, 58, 46, 39, 58,  1],\n",
            "        [25, 17, 27, 10,  0, 21,  1, 54]])\n",
            "targets:\n",
            "torch.Size([4, 8])\n",
            "tensor([[43, 58,  5, 57,  1, 46, 43, 39],\n",
            "        [53, 56,  1, 58, 46, 39, 58,  1],\n",
            "        [58,  1, 58, 46, 39, 58,  1, 46],\n",
            "        [17, 27, 10,  0, 21,  1, 54, 39]])\n",
            "----------------------------------------\n",
            "when input is [24] the target: 43\n",
            "when input is [24, 43] the target: 58\n",
            "when input is [24, 43, 58] the target: 5\n",
            "when input is [24, 43, 58, 5] the target: 57\n",
            "when input is [24, 43, 58, 5, 57] the target: 1\n",
            "when input is [24, 43, 58, 5, 57, 1] the target: 46\n",
            "when input is [24, 43, 58, 5, 57, 1, 46] the target: 43\n",
            "when input is [24, 43, 58, 5, 57, 1, 46, 43] the target: 39\n",
            "when input is [44] the target: 53\n",
            "when input is [44, 53] the target: 56\n",
            "when input is [44, 53, 56] the target: 1\n",
            "when input is [44, 53, 56, 1] the target: 58\n",
            "when input is [44, 53, 56, 1, 58] the target: 46\n",
            "when input is [44, 53, 56, 1, 58, 46] the target: 39\n",
            "when input is [44, 53, 56, 1, 58, 46, 39] the target: 58\n",
            "when input is [44, 53, 56, 1, 58, 46, 39, 58] the target: 1\n",
            "when input is [52] the target: 58\n",
            "when input is [52, 58] the target: 1\n",
            "when input is [52, 58, 1] the target: 58\n",
            "when input is [52, 58, 1, 58] the target: 46\n",
            "when input is [52, 58, 1, 58, 46] the target: 39\n",
            "when input is [52, 58, 1, 58, 46, 39] the target: 58\n",
            "when input is [52, 58, 1, 58, 46, 39, 58] the target: 1\n",
            "when input is [52, 58, 1, 58, 46, 39, 58, 1] the target: 46\n",
            "when input is [25] the target: 17\n",
            "when input is [25, 17] the target: 27\n",
            "when input is [25, 17, 27] the target: 10\n",
            "when input is [25, 17, 27, 10] the target: 0\n",
            "when input is [25, 17, 27, 10, 0] the target: 21\n",
            "when input is [25, 17, 27, 10, 0, 21] the target: 1\n",
            "when input is [25, 17, 27, 10, 0, 21, 1] the target: 54\n",
            "when input is [25, 17, 27, 10, 0, 21, 1, 54] the target: 39\n"
          ]
        }
      ]
    },
    {
      "cell_type": "code",
      "source": [
        "print(xb) #out input to the transformer"
      ],
      "metadata": {
        "colab": {
          "base_uri": "https://localhost:8080/"
        },
        "id": "2YhYSzBRk-bf",
        "outputId": "deeb492b-2380-4776-e264-85a4b33dee55"
      },
      "execution_count": 12,
      "outputs": [
        {
          "output_type": "stream",
          "name": "stdout",
          "text": [
            "tensor([[24, 43, 58,  5, 57,  1, 46, 43],\n",
            "        [44, 53, 56,  1, 58, 46, 39, 58],\n",
            "        [52, 58,  1, 58, 46, 39, 58,  1],\n",
            "        [25, 17, 27, 10,  0, 21,  1, 54]])\n"
          ]
        }
      ]
    },
    {
      "cell_type": "markdown",
      "source": [
        "xb = torch.tensor([[1, 2, 3], [4, 5, 6]])  ==> (B=2, T=3)\n",
        "\n",
        "B = batch size.\n",
        "\n",
        "T = sequence length.\n",
        "\n",
        "C = vocabulary size."
      ],
      "metadata": {
        "id": "j6kguPRnxa7E"
      }
    },
    {
      "cell_type": "code",
      "source": [
        "import torch\n",
        "import torch.nn as nn\n",
        "from torch.nn import functional as F\n",
        "torch.manual_seed(1337)\n",
        "\n",
        "# Inherit from nn.Module\n",
        "class BigramLanguageModel(nn.Module):\n",
        "\n",
        "  def __init__(self, vocab_size):\n",
        "    super().__init__()\n",
        "    #each tocken directly read off the logits for the next token from a lookup table\n",
        "    self.token_embedding_table = nn.Embedding(vocab_size, vocab_size)\n",
        "\n",
        "  def forward(self, idx, targets=None):\n",
        "\n",
        "    #idx and targets are both (B,T) tensor of integers\n",
        "    logits = self.token_embedding_table(idx) # (B,T,C)\n",
        "\n",
        "    if targets is None:\n",
        "      loss = None\n",
        "    else:\n",
        "      B,T,C = logits.shape\n",
        "      logits = logits.view(B*T, C)\n",
        "      targets = targets.view(B*T)\n",
        "      loss = F.cross_entropy(logits, targets)\n",
        "\n",
        "    return logits, loss\n",
        "\n",
        "  def generate(self, idx, max_new_tokens):\n",
        "    #idx is (B, T) array of indices in the current context\n",
        "    for _ in range(max_new_tokens):\n",
        "      #get the predictions\n",
        "      logits, loss = self(idx)\n",
        "      #focus only on the last time step\n",
        "      logits = logits[:, -1, :] # becomes (B, C)\n",
        "      #apply softmax to get probabilities\n",
        "      probs = F.softmax(logits, dim=-1) # (B, C)\n",
        "      #sample from the distribution\n",
        "      idx_next = torch.multinomial(probs, num_samples=1) # (B, 1)\n",
        "      #append sampled index to the running sequence\n",
        "      idx = torch.cat((idx, idx_next), dim=1) # (B, T+1)\n",
        "    return idx\n",
        "\n",
        "m = BigramLanguageModel(vocab_size)\n",
        "logits, loss = m(xb,yb)\n",
        "print(logits.shape)\n",
        "print(loss)\n",
        "\n",
        "print(decode(m.generate(idx = torch.zeros((1,1), dtype=torch.long), max_new_tokens=100)[0].tolist()))"
      ],
      "metadata": {
        "colab": {
          "base_uri": "https://localhost:8080/"
        },
        "id": "YsNATQ9AnGWG",
        "outputId": "d84098f9-03bf-4566-d603-9b8b232dbacc"
      },
      "execution_count": 13,
      "outputs": [
        {
          "output_type": "stream",
          "name": "stdout",
          "text": [
            "torch.Size([32, 65])\n",
            "tensor(4.8786, grad_fn=<NllLossBackward0>)\n",
            "\n",
            "Sr?qP-QWktXoL&jLDJgOLVz'RIoDqHdhsV&vLLxatjscMpwLERSPyao.qfzs$Ys$zF-w,;eEkzxjgCKFChs!iWW.ObzDnxA Ms$3\n"
          ]
        }
      ]
    },
    {
      "cell_type": "code",
      "source": [
        "#createe a PyTorch optimizer\n",
        "optimizer = torch.optim.AdamW(m.parameters(), lr=1e-3)"
      ],
      "metadata": {
        "id": "Aog_PVbbnLny"
      },
      "execution_count": 14,
      "outputs": []
    },
    {
      "cell_type": "code",
      "source": [
        "batch_size = 32\n",
        "for steps in range(10000):\n",
        "\n",
        "  #sample a batch of data\n",
        "  xb, yb = get_batch('train')\n",
        "\n",
        "  #Eavluate the loss\n",
        "  logits, loss = m(xb, yb)\n",
        "  optimizer.zero_grad(set_to_none=True)\n",
        "  loss.backward()\n",
        "  optimizer.step()\n",
        "\n",
        "print(loss.item())"
      ],
      "metadata": {
        "colab": {
          "base_uri": "https://localhost:8080/"
        },
        "id": "ZSGOeAB1g_35",
        "outputId": "619388b2-7ebd-4209-c7e8-55c226573759"
      },
      "execution_count": 15,
      "outputs": [
        {
          "output_type": "stream",
          "name": "stdout",
          "text": [
            "2.5727508068084717\n"
          ]
        }
      ]
    },
    {
      "cell_type": "code",
      "source": [
        "print(decode(m.generate(idx = torch.zeros((1,1), dtype=torch.long), max_new_tokens=200)[0].tolist()))"
      ],
      "metadata": {
        "colab": {
          "base_uri": "https://localhost:8080/"
        },
        "id": "0KGOqtAfhW4L",
        "outputId": "0c400c2b-edde-4314-dcc8-23b9388693d0"
      },
      "execution_count": 16,
      "outputs": [
        {
          "output_type": "stream",
          "name": "stdout",
          "text": [
            "\n",
            "Iyoteng h hasbe pave pirance\n",
            "Rie hicomyonthar's\n",
            "Plinseard ith henoure wounonthioneir thondy, y heltieiengerofo'dsssit ey\n",
            "KIN d pe wither vouprrouthercc.\n",
            "hathe; d!\n",
            "My hind tt hinig t ouchos tes; st yo \n"
          ]
        }
      ]
    },
    {
      "cell_type": "markdown",
      "source": [
        "## The mathematical trick in self-attention"
      ],
      "metadata": {
        "id": "XinV8nmAnmKN"
      }
    },
    {
      "cell_type": "code",
      "source": [
        "# toy example illustrating how matrix multiplication can be used for a \"weighted aggregation\"\n",
        "torch.manual_seed(42)\n",
        "a = torch.tril(torch.ones(3, 3))\n",
        "a = a / torch.sum(a, 1, keepdim=True)\n",
        "b = torch.randint(0,10,(3,2)).float()\n",
        "c = a @ b\n",
        "print('a=')\n",
        "print(a)\n",
        "print('--')\n",
        "print('b=')\n",
        "print(b)\n",
        "print('--')\n",
        "print('c=')\n",
        "print(c)"
      ],
      "metadata": {
        "colab": {
          "base_uri": "https://localhost:8080/"
        },
        "id": "-zZZJXnZ7aK-",
        "outputId": "53e84bca-9eb1-42d6-8ea6-68f068dcd1d9"
      },
      "execution_count": 17,
      "outputs": [
        {
          "output_type": "stream",
          "name": "stdout",
          "text": [
            "a=\n",
            "tensor([[1.0000, 0.0000, 0.0000],\n",
            "        [0.5000, 0.5000, 0.0000],\n",
            "        [0.3333, 0.3333, 0.3333]])\n",
            "--\n",
            "b=\n",
            "tensor([[2., 7.],\n",
            "        [6., 4.],\n",
            "        [6., 5.]])\n",
            "--\n",
            "c=\n",
            "tensor([[2.0000, 7.0000],\n",
            "        [4.0000, 5.5000],\n",
            "        [4.6667, 5.3333]])\n"
          ]
        }
      ]
    },
    {
      "cell_type": "code",
      "source": [
        "#consider the following toy example\n",
        "\n",
        "torch.manual_seed(1337)\n",
        "B,T,C = 4,8,2 # batch, time, channels\n",
        "x = torch.randn(B,T,C)\n",
        "x.shape"
      ],
      "metadata": {
        "colab": {
          "base_uri": "https://localhost:8080/"
        },
        "id": "bAPKjDCHiPlc",
        "outputId": "98f97c6f-7e03-47a9-9f12-e2d10b8f9f14"
      },
      "execution_count": 18,
      "outputs": [
        {
          "output_type": "execute_result",
          "data": {
            "text/plain": [
              "torch.Size([4, 8, 2])"
            ]
          },
          "metadata": {},
          "execution_count": 18
        }
      ]
    },
    {
      "cell_type": "code",
      "source": [
        "# We want x[b,t] = mean_{i<=t} x[b,i]\n",
        "xbow = torch.zeros((B,T,C))\n",
        "for b in range(B):\n",
        "    for t in range(T):\n",
        "        xprev = x[b,:t+1] # (t,C)\n",
        "        xbow[b,t] = torch.mean(xprev, 0)\n"
      ],
      "metadata": {
        "id": "jGjAbwfWiPfe"
      },
      "execution_count": 19,
      "outputs": []
    },
    {
      "cell_type": "code",
      "source": [
        "# version 2: using matrix multiply for a weighted aggregation\n",
        "wei = torch.tril(torch.ones(T, T))\n",
        "wei = wei / wei.sum(1, keepdim=True)\n",
        "xbow2 = wei @ x # (B, T, T) @ (B, T, C) ----> (B, T, C)\n",
        "\n",
        "torch.allclose(xbow, xbow2)"
      ],
      "metadata": {
        "colab": {
          "base_uri": "https://localhost:8080/"
        },
        "id": "WkHXYWwa5UbM",
        "outputId": "2d7dc4e7-4032-43aa-ed03-742174ee2eb0"
      },
      "execution_count": 20,
      "outputs": [
        {
          "output_type": "execute_result",
          "data": {
            "text/plain": [
              "False"
            ]
          },
          "metadata": {},
          "execution_count": 20
        }
      ]
    },
    {
      "cell_type": "code",
      "source": [
        "# version 3: use Softmax\n",
        "tril = torch.tril(torch.ones(T, T))\n",
        "wei = torch.zeros((T,T))\n",
        "wei = wei.masked_fill(tril == 0, float('-inf'))\n",
        "wei = F.softmax(wei, dim=-1)\n",
        "xbow3 = wei @ x\n",
        "\n",
        "torch.allclose(xbow, xbow3)"
      ],
      "metadata": {
        "colab": {
          "base_uri": "https://localhost:8080/"
        },
        "id": "AeZ8_BVR5V38",
        "outputId": "7e2e2a63-8458-4716-a155-d091bd2cdc10"
      },
      "execution_count": 21,
      "outputs": [
        {
          "output_type": "execute_result",
          "data": {
            "text/plain": [
              "False"
            ]
          },
          "metadata": {},
          "execution_count": 21
        }
      ]
    },
    {
      "cell_type": "code",
      "source": [
        "# version 4: self-attention!\n",
        "torch.manual_seed(1337)\n",
        "B,T,C = 4, 8, 32 #Batch, time, channels\n",
        "x = torch.randn(B,T,C)\n",
        "\n",
        "#let's see a single Head perform self-attention\n",
        "head_size = 16\n",
        "key = nn.Linear(C, head_size, bias=False)\n",
        "query = nn.Linear(C, head_size, bias=False)\n",
        "value = nn.Linear(C, head_size, bias=False)\n",
        "k = key(x) # (B, T, 16)\n",
        "q = query(x) # (B, T, 16)\n",
        "wei = q @ k.transpose(-2, -1) # (B, T, 16) @ (B, 16, T) ---> (B, T, T)\n",
        "\n",
        "tril = torch.tril(torch.ones(T, T))\n",
        "#wei = torch.zeros((T,T))\n",
        "wei = wei.masked_fill(tril == 0, float('-inf'))\n",
        "wei = F.softmax(wei, dim=-1)\n",
        "\n",
        "v = value(x)\n",
        "out = wei @ v\n",
        "\n",
        "# out = wei @ x\n",
        "\n",
        "out.shape\n"
      ],
      "metadata": {
        "colab": {
          "base_uri": "https://localhost:8080/"
        },
        "id": "Ou7pmea_5V1j",
        "outputId": "32b396ba-8566-4a31-ae97-4251e1878c76"
      },
      "execution_count": 22,
      "outputs": [
        {
          "output_type": "execute_result",
          "data": {
            "text/plain": [
              "torch.Size([4, 8, 16])"
            ]
          },
          "metadata": {},
          "execution_count": 22
        }
      ]
    },
    {
      "cell_type": "markdown",
      "source": [
        "![11.PNG](data:image/png;base64,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)"
      ],
      "metadata": {
        "id": "zGlJekDnAT_z"
      }
    },
    {
      "cell_type": "markdown",
      "source": [
        "Notes:\n",
        "- Attention is a **communication mechanism**.\n",
        "\n",
        " Can be seen as nodes in a directed graph looking at each other and aggregating information with a weighted sum from all nodes that point to them, with data-dependent weights.\n",
        "- There is no notion of space. Attention simply acts over a set of vectors. This is why we need to positionally encode tokens.\n",
        "- Each example across batch dimension is of course processed completely independently and never \"talk\" to each other\n",
        "- In an \"encoder\" attention block just delete the single line that does masking with `tril`, allowing all tokens to communicate. This block here is called a \"decoder\" attention block because it has triangular masking, and is usually used in autoregressive settings, like language modeling.\n",
        "- \"self-attention\" just means that the keys and values are produced from the same source as queries. In \"cross-attention\", the queries still get produced from x, but the keys and values come from some other, external source (e.g. an encoder module)\n",
        "- \"Scaled\" attention additional divides `wei` by 1/sqrt(head_size). This makes it so when input Q,K are unit variance, wei will be unit variance too and Softmax will stay diffuse and not saturate too much. Illustration below"
      ],
      "metadata": {
        "id": "M5CvobiQ0pLr"
      }
    },
    {
      "cell_type": "markdown",
      "source": [
        "![22.PNG](data:image/png;base64,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)"
      ],
      "metadata": {
        "id": "MvKSlaUVi2Cp"
      }
    },
    {
      "cell_type": "code",
      "source": [],
      "metadata": {
        "id": "aE4ywtWh5Vz3"
      },
      "execution_count": 22,
      "outputs": []
    },
    {
      "cell_type": "markdown",
      "source": [
        "test"
      ],
      "metadata": {
        "id": "1efo7Tm3KhGt"
      }
    },
    {
      "cell_type": "code",
      "source": [
        "import torch\n",
        "import torch.nn as nn\n",
        "from torch.nn import functional as F\n",
        "\n",
        "\n",
        "# hyperparameters\n",
        "batch_size = 32 # how many independent sequences will we process in parallel?\n",
        "block_size = 8 # what is the maximum context length for predictions?\n",
        "max_iters = 3000\n",
        "eval_interval = 300\n",
        "learning_rate = 1e-3\n",
        "device = 'cuda' if torch.cuda.is_available() else 'cpu'\n",
        "eval_iters = 200\n",
        "n_embed = 32\n",
        "\n",
        "# ------------\n",
        "\n",
        "torch.manual_seed(1337)\n",
        "\n",
        "# wget https://raw.githubusercontent.com/karpathy/char-rnn/master/data/tinyshakespeare/input.txt\n",
        "with open('input.txt', 'r', encoding='utf-8') as f:\n",
        "    text = f.read()\n",
        "\n",
        "print('Length of the dataset in characters : ', len(text))\n",
        "\n",
        "# here are all the unique characters that occur in this text\n",
        "chars = sorted(list(set(text)))\n",
        "vocab_size = len(chars)\n",
        "# create a mapping from characters to integers\n",
        "stoi = { ch:i for i,ch in enumerate(chars) }\n",
        "itos = { i:ch for i,ch in enumerate(chars) }\n",
        "encode = lambda s: [stoi[c] for c in s] # encoder: take a string, output a list of integers\n",
        "decode = lambda l: ''.join([itos[i] for i in l]) # decoder: take a list of integers, output a string\n",
        "\n",
        "# Train and test splits\n",
        "data = torch.tensor(encode(text), dtype=torch.long)\n",
        "n = int(0.9*len(data)) # first 90% will be train, rest val\n",
        "train_data = data[:n]\n",
        "val_data = data[n:]\n",
        "\n",
        "\n",
        "# data loading\n",
        "def get_batch(split):\n",
        "    # generate a small batch of data of inputs x and targets y\n",
        "    data = train_data if split == 'train' else val_data\n",
        "    ix = torch.randint(len(data) - block_size, (batch_size,))\n",
        "    x = torch.stack([data[i:i+block_size] for i in ix])\n",
        "    y = torch.stack([data[i+1:i+block_size+1] for i in ix])\n",
        "    x, y = x.to(device), y.to(device)\n",
        "    return x, y\n",
        "\n",
        "@torch.no_grad()\n",
        "def estimate_loss():\n",
        "    out = {}\n",
        "    model.eval()\n",
        "    for split in ['train', 'val']:\n",
        "        losses = torch.zeros(eval_iters)\n",
        "        for k in range(eval_iters):\n",
        "            X, Y = get_batch(split)\n",
        "            logits, loss = model(X, Y)\n",
        "            losses[k] = loss.item()\n",
        "        out[split] = losses.mean()\n",
        "    model.train()\n",
        "    return out\n",
        "\n",
        "\n",
        "class Head(nn.Module):\n",
        "    \"\"\"One head of self-attention\"\"\"\n",
        "\n",
        "    def __init__(self, head_size):\n",
        "        super().__init__()\n",
        "        self.key = nn.Linear(n_embed, head_size, bias=False)\n",
        "        self.query = nn.Linear(n_embed, head_size, bias=False)\n",
        "        self.value = nn.Linear(n_embed, head_size, bias=False)\n",
        "        self.register_buffer('tril', torch.tril(torch.ones(block_size, block_size)))\n",
        "\n",
        "    def forward(self, x):\n",
        "        B,T,C = x.shape\n",
        "        k = self.key(x) #(B,T,C)\n",
        "        q = self.query(x) #(B,T,C)\n",
        "        #compute attention score (\"Affinities\")\n",
        "        wei = q @ k.transpose(-2,-1) * C**-0.5 #(B,T,C) @ (B,T,C) => (B,T,T)\n",
        "        wei = wei.masked_fill(self.tril[:T, :T] == 0, float('-inf'))\n",
        "        wei = F.softmax(wei, dim=-1) #(B,T,T)\n",
        "\n",
        "        #perform the weighted aggregation of the value\n",
        "        v = self.value(x)\n",
        "        out = wei @ v #(B,T,T) @ (B,T,C) => (B,T,C)\n",
        "\n",
        "        # out = wei @ x\n",
        "\n",
        "        return out\n",
        "\n",
        "class MultiHeadAttention(nn.Module):\n",
        "    \"\"\"Multiple heads of self attention in parallel\"\"\"\n",
        "\n",
        "    def __init__(self, num_head, head_size):\n",
        "        super().__init__()\n",
        "        self.heads = nn.ModuleList([Head(head_size) for _ in range(num_head)])\n",
        "\n",
        "    def forward(self, x):\n",
        "        return torch.cat([h(x) for h in self.heads], dim=-1)\n",
        "\n",
        "\n",
        "\n",
        "# super simple bigram model\n",
        "class BigramLanguageModel(nn.Module):\n",
        "\n",
        "    def __init__(self):\n",
        "        super().__init__()\n",
        "        # each token directly reads off the logits for the next token from a lookup table\n",
        "        self.token_embedding_table = nn.Embedding(vocab_size, n_embed)\n",
        "        self.position_embedding_table = nn.Embedding(block_size,n_embed)\n",
        "        self.sa_head = MultiHeadAttention(4,n_embed//4)\n",
        "        self.lm_head = nn.Linear(n_embed, vocab_size)\n",
        "\n",
        "\n",
        "    def forward(self, idx, targets=None):\n",
        "        B, T = idx.shape\n",
        "\n",
        "        # idx and targets are both (B,T) tensor of integers\n",
        "        tok_emb = self.token_embedding_table(idx) # (B,T,C)\n",
        "        pos_emb = self.position_embedding_table(torch.arange(T, device=device))\n",
        "        x = tok_emb + pos_emb\n",
        "        x = self.sa_head(x)\n",
        "        logits = self.lm_head(x) #(B,T,vocab_size)\n",
        "\n",
        "        if targets is None:\n",
        "            loss = None\n",
        "        else:\n",
        "            B, T, C = logits.shape\n",
        "            logits = logits.view(B*T, C)\n",
        "            targets = targets.view(B*T)\n",
        "            loss = F.cross_entropy(logits, targets)\n",
        "\n",
        "        return logits, loss\n",
        "\n",
        "    def generate(self, idx, max_new_tokens):\n",
        "        # idx is (B, T) array of indices in the current context\n",
        "        for _ in range(max_new_tokens):\n",
        "            #crop idx to the last block_size token\n",
        "            idx_cond = idx[:, -block_size:]\n",
        "            # get the predictions\n",
        "            logits, loss = self(idx_cond)\n",
        "            # focus only on the last time step\n",
        "            logits = logits[:, -1, :] # becomes (B, C)\n",
        "            # apply softmax to get probabilities\n",
        "            probs = F.softmax(logits, dim=-1) # (B, C)\n",
        "            # sample from the distribution\n",
        "            idx_next = torch.multinomial(probs, num_samples=1) # (B, 1)\n",
        "            # append sampled index to the running sequence\n",
        "            idx = torch.cat((idx, idx_next), dim=1) # (B, T+1)\n",
        "        return idx\n",
        "\n",
        "\n",
        "model = BigramLanguageModel()\n",
        "m = model.to(device)\n",
        "\n",
        "\n",
        "# create a PyTorch optimizer\n",
        "optimizer = torch.optim.AdamW(model.parameters(), lr=learning_rate)\n",
        "\n",
        "\n",
        "for iter in range(max_iters):\n",
        "\n",
        "    # every once in a while evaluate the loss on train and val sets\n",
        "    if iter % eval_interval == 0:\n",
        "        losses = estimate_loss()\n",
        "        print(f\"step {iter}: train loss {losses['train']:.4f}, val loss {losses['val']:.4f}\")\n",
        "\n",
        "    # sample a batch of data\n",
        "    xb, yb = get_batch('train')\n",
        "\n",
        "    # evaluate the loss\n",
        "    logits, loss = model(xb, yb)\n",
        "    optimizer.zero_grad(set_to_none=True)\n",
        "    loss.backward()\n",
        "    optimizer.step()\n",
        "\n",
        "# generate from the model\n",
        "context = torch.zeros((1, 1), dtype=torch.long, device=device)\n",
        "print(decode(m.generate(context, max_new_tokens=500)[0].tolist()))\n"
      ],
      "metadata": {
        "colab": {
          "base_uri": "https://localhost:8080/"
        },
        "id": "xD00TDkf5Vw5",
        "outputId": "52a7b301-f72a-4de8-cc28-0c2c5c275d02"
      },
      "execution_count": 23,
      "outputs": [
        {
          "output_type": "stream",
          "name": "stdout",
          "text": [
            "Length of the dataset in characters :  1115394\n",
            "step 0: train loss 4.2227, val loss 4.2226\n",
            "step 300: train loss 2.8402, val loss 2.8482\n",
            "step 600: train loss 2.6071, val loss 2.6175\n",
            "step 900: train loss 2.5209, val loss 2.5235\n",
            "step 1200: train loss 2.4699, val loss 2.4689\n",
            "step 1500: train loss 2.4201, val loss 2.4294\n",
            "step 1800: train loss 2.3949, val loss 2.4017\n",
            "step 2100: train loss 2.3656, val loss 2.3681\n",
            "step 2400: train loss 2.3427, val loss 2.3595\n",
            "step 2700: train loss 2.3246, val loss 2.3454\n",
            "\n",
            "ABows theod davis ardiema thingew ressell, to hathl gu te om yeratsht wiant.\n",
            "\n",
            "K:\n",
            "Gol. Ha\n",
            "Whe wlous in us when peenkin for the the, cize fo the thy; for tou ithe bllw,'m toto roue hall atyte hy thurs se\n",
            "Thhis hits igr att peerte mee by 'O, sid pok,\n",
            "DIn ILO:\n",
            "Du thifed.\n",
            "\n",
            "Cle\n",
            "OMS:\n",
            "Qle thane posente what mip whers, dlaves homarirkinto deris whantain.,\n",
            "Fredar.\n",
            "\n",
            "To, treriell wemern fil:\n",
            "Som ran \n",
            "RD ha:\n",
            "I thet blor en\n",
            "WLOf k toudry nok, dethe enthoo Gig my de,\n",
            "Phe oube geard noos coret allaligr\n",
            "Socor ce\n"
          ]
        }
      ]
    },
    {
      "cell_type": "code",
      "source": [
        "class LayerNorm1d: # (used to be BatchNorm1d)\n",
        "\n",
        "  def __init__(self, dim, eps=1e-5, momentum=0.1):\n",
        "    self.eps = eps\n",
        "    self.gamma = torch.ones(dim)\n",
        "    self.beta = torch.zeros(dim)\n",
        "\n",
        "  def __call__(self, x):\n",
        "    # calculate the forward pass\n",
        "    xmean = x.mean(1, keepdim=True) # batch mean\n",
        "    xvar = x.var(1, keepdim=True) # batch variance\n",
        "    xhat = (x - xmean) / torch.sqrt(xvar + self.eps) # normalize to unit variance\n",
        "    self.out = self.gamma * xhat + self.beta\n",
        "    return self.out\n",
        "\n",
        "  def parameters(self):\n",
        "    return [self.gamma, self.beta]\n",
        "\n",
        "torch.manual_seed(1337)\n",
        "module = LayerNorm1d(100)\n",
        "x = torch.randn(32, 100) # batch size 32 of 100-dimensional vectors\n",
        "x = module(x)\n",
        "x.shape"
      ],
      "metadata": {
        "id": "cT77zgcclNcD",
        "colab": {
          "base_uri": "https://localhost:8080/"
        },
        "outputId": "15439c34-e46d-45dd-bd44-bed6875b29b5"
      },
      "execution_count": 24,
      "outputs": [
        {
          "output_type": "execute_result",
          "data": {
            "text/plain": [
              "torch.Size([32, 100])"
            ]
          },
          "metadata": {},
          "execution_count": 24
        }
      ]
    },
    {
      "cell_type": "code",
      "source": [
        "x[:,0].mean(), x[:,0].std() # mean,std of one feature across all batch inputs"
      ],
      "metadata": {
        "colab": {
          "base_uri": "https://localhost:8080/"
        },
        "id": "cAzOGlQurdYt",
        "outputId": "3f9ac739-aab0-4614-c8b1-8b2cc302e645"
      },
      "execution_count": 25,
      "outputs": [
        {
          "output_type": "execute_result",
          "data": {
            "text/plain": [
              "(tensor(0.1469), tensor(0.8803))"
            ]
          },
          "metadata": {},
          "execution_count": 25
        }
      ]
    },
    {
      "cell_type": "code",
      "source": [
        "x[0,:].mean(), x[0,:].std() # mean,std of a single input from the batch, of its features"
      ],
      "metadata": {
        "colab": {
          "base_uri": "https://localhost:8080/"
        },
        "id": "sl3YPfOorfPN",
        "outputId": "878c9334-391f-4945-a22a-a53689cd4a13"
      },
      "execution_count": 26,
      "outputs": [
        {
          "output_type": "execute_result",
          "data": {
            "text/plain": [
              "(tensor(-9.5367e-09), tensor(1.0000))"
            ]
          },
          "metadata": {},
          "execution_count": 26
        }
      ]
    },
    {
      "cell_type": "code",
      "source": [
        "import torch\n",
        "import torch.nn as nn\n",
        "from torch.nn import functional as F\n",
        "\n",
        "\n",
        "# hyperparameters\n",
        "batch_size = 32 # how many independent sequences will we process in parallel?\n",
        "block_size = 8 # what is the maximum context length for predictions?\n",
        "max_iters = 3000\n",
        "eval_interval = 300\n",
        "learning_rate = 1e-3\n",
        "device = 'cuda' if torch.cuda.is_available() else 'cpu'\n",
        "eval_iters = 200\n",
        "n_embd = 32\n",
        "\n",
        "# ------------\n",
        "\n",
        "torch.manual_seed(1337)\n",
        "\n",
        "# wget https://raw.githubusercontent.com/karpathy/char-rnn/master/data/tinyshakespeare/input.txt\n",
        "with open('input.txt', 'r', encoding='utf-8') as f:\n",
        "    text = f.read()\n",
        "\n",
        "print('Length of the dataset in characters : ', len(text))\n",
        "\n",
        "# here are all the unique characters that occur in this text\n",
        "chars = sorted(list(set(text)))\n",
        "vocab_size = len(chars)\n",
        "# create a mapping from characters to integers\n",
        "stoi = { ch:i for i,ch in enumerate(chars) }\n",
        "itos = { i:ch for i,ch in enumerate(chars) }\n",
        "encode = lambda s: [stoi[c] for c in s] # encoder: take a string, output a list of integers\n",
        "decode = lambda l: ''.join([itos[i] for i in l]) # decoder: take a list of integers, output a string\n",
        "\n",
        "# Train and test splits\n",
        "data = torch.tensor(encode(text), dtype=torch.long)\n",
        "n = int(0.9*len(data)) # first 90% will be train, rest val\n",
        "train_data = data[:n]\n",
        "val_data = data[n:]\n",
        "\n",
        "\n",
        "# data loading\n",
        "def get_batch(split):\n",
        "    # generate a small batch of data of inputs x and targets y\n",
        "    data = train_data if split == 'train' else val_data\n",
        "    ix = torch.randint(len(data) - block_size, (batch_size,))\n",
        "    x = torch.stack([data[i:i+block_size] for i in ix])\n",
        "    y = torch.stack([data[i+1:i+block_size+1] for i in ix])\n",
        "    x, y = x.to(device), y.to(device)\n",
        "    return x, y\n",
        "\n",
        "@torch.no_grad()\n",
        "def estimate_loss():\n",
        "    out = {}\n",
        "    model.eval()\n",
        "    for split in ['train', 'val']:\n",
        "        losses = torch.zeros(eval_iters)\n",
        "        for k in range(eval_iters):\n",
        "            X, Y = get_batch(split)\n",
        "            logits, loss = model(X, Y)\n",
        "            losses[k] = loss.item()\n",
        "        out[split] = losses.mean()\n",
        "    model.train()\n",
        "    return out\n",
        "\n",
        "\n",
        "class Head(nn.Module):\n",
        "    \"\"\"One head of self-attention\"\"\"\n",
        "\n",
        "    def __init__(self, head_size):\n",
        "        super().__init__()\n",
        "        self.key = nn.Linear(n_embd, head_size, bias=False)\n",
        "        self.query = nn.Linear(n_embd, head_size, bias=False)\n",
        "        self.value = nn.Linear(n_embd, head_size, bias=False)\n",
        "        self.register_buffer('tril', torch.tril(torch.ones(block_size, block_size)))\n",
        "\n",
        "    def forward(self, x):\n",
        "        B,T,C = x.shape\n",
        "        k = self.key(x) #(B,T,C)\n",
        "        q = self.query(x) #(B,T,C)\n",
        "        #compute attention score (\"Affinities\")\n",
        "        wei = q @ k.transpose(-2,-1) * C**-0.5 #(B,T,C) @ (B,T,C) => (B,T,T)\n",
        "        wei = wei.masked_fill(self.tril[:T, :T] == 0, float('-inf'))\n",
        "        wei = F.softmax(wei, dim=-1) #(B,T,T)\n",
        "\n",
        "        #perform the weighted aggregation of the value\n",
        "        v = self.value(x)\n",
        "        out = wei @ v #(B,T,T) @ (B,T,C) => (B,T,C)\n",
        "\n",
        "        # out = wei @ x\n",
        "\n",
        "        return out\n",
        "\n",
        "class MultiHeadAttention(nn.Module):\n",
        "    \"\"\"Multiple heads of self attention in parallel\"\"\"\n",
        "\n",
        "    def __init__(self, num_head, head_size):\n",
        "        super().__init__()\n",
        "        self.heads = nn.ModuleList([Head(head_size) for _ in range(num_head)])\n",
        "        self.proj = nn.Linear(n_embd, n_embd)\n",
        "\n",
        "    def forward(self, x):\n",
        "        out = torch.cat([h(x) for h in self.heads], dim=-1)\n",
        "        out = self.proj(out)\n",
        "        return out\n",
        "\n",
        "class FeedFoward(nn.Module):\n",
        "    \"\"\"a simple linear layer followed by a non-linearity\"\"\"\n",
        "\n",
        "    def __init__(self, n_embd):\n",
        "        super().__init__()\n",
        "        self.net = nn.Sequential(\n",
        "            nn.Linear(n_embd, 4 * n_embd),\n",
        "            nn.ReLU(),\n",
        "            nn.Linear(4 * n_embd, n_embd),\n",
        "        )\n",
        "    def forward(self, x):\n",
        "        return self.net(x)\n",
        "\n",
        "\n",
        "class Block(nn.Module):\n",
        "    \"\"\"Transformer block: communicate followed by computation\"\"\"\n",
        "\n",
        "    def __init__(self, n_embd, n_head):\n",
        "        super().__init__()\n",
        "        head_size = n_embd // n_head\n",
        "        self.sa = MultiHeadAttention(n_head, head_size)\n",
        "        self.ffwd = FeedFoward(n_embd)\n",
        "\n",
        "    def forward(self, x):\n",
        "        x = x + self.sa(x)\n",
        "        x = x + self.ffwd(x)\n",
        "        return x\n",
        "\n",
        "\n",
        "# super simple bigram model\n",
        "class BigramLanguageModel(nn.Module):\n",
        "\n",
        "    def __init__(self):\n",
        "        super().__init__()\n",
        "        # each token directly reads off the logits for the next token from a lookup table\n",
        "        self.token_embedding_table = nn.Embedding(vocab_size, n_embd)\n",
        "        self.position_embedding_table = nn.Embedding(block_size,n_embd)\n",
        "        self.blocks = nn.Sequential(\n",
        "            Block(n_embd, n_head=4),\n",
        "            Block(n_embd, n_head=4),\n",
        "            Block(n_embd, n_head=4),\n",
        "        )\n",
        "\n",
        "        self.lm_head = nn.Linear(n_embd, vocab_size)\n",
        "\n",
        "\n",
        "    def forward(self, idx, targets=None):\n",
        "        B, T = idx.shape\n",
        "\n",
        "        # idx and targets are both (B,T) tensor of integers\n",
        "        tok_emb = self.token_embedding_table(idx) # (B,T,C)\n",
        "        pos_emb = self.position_embedding_table(torch.arange(T, device=device))\n",
        "        x = tok_emb + pos_emb\n",
        "        x = self.blocks(x) #(B,T,C)\n",
        "        # x = self.sa_head(x)\n",
        "        # x = self.ffwd(x)\n",
        "        logits = self.lm_head(x) #(B,T,vocab_size)\n",
        "\n",
        "        if targets is None:\n",
        "            loss = None\n",
        "        else:\n",
        "            B, T, C = logits.shape\n",
        "            logits = logits.view(B*T, C)\n",
        "            targets = targets.view(B*T)\n",
        "            loss = F.cross_entropy(logits, targets)\n",
        "\n",
        "        return logits, loss\n",
        "\n",
        "    def generate(self, idx, max_new_tokens):\n",
        "        # idx is (B, T) array of indices in the current context\n",
        "        for _ in range(max_new_tokens):\n",
        "            #crop idx to the last block_size token\n",
        "            idx_cond = idx[:, -block_size:]\n",
        "            # get the predictions\n",
        "            logits, loss = self(idx_cond)\n",
        "            # focus only on the last time step\n",
        "            logits = logits[:, -1, :] # becomes (B, C)\n",
        "            # apply softmax to get probabilities\n",
        "            probs = F.softmax(logits, dim=-1) # (B, C)\n",
        "            # sample from the distribution\n",
        "            idx_next = torch.multinomial(probs, num_samples=1) # (B, 1)\n",
        "            # append sampled index to the running sequence\n",
        "            idx = torch.cat((idx, idx_next), dim=1) # (B, T+1)\n",
        "        return idx\n",
        "\n",
        "\n",
        "model = BigramLanguageModel()\n",
        "m = model.to(device)\n",
        "\n",
        "\n",
        "# create a PyTorch optimizer\n",
        "optimizer = torch.optim.AdamW(model.parameters(), lr=learning_rate)\n",
        "\n",
        "\n",
        "for iter in range(max_iters):\n",
        "\n",
        "    # every once in a while evaluate the loss on train and val sets\n",
        "    if iter % eval_interval == 0:\n",
        "        losses = estimate_loss()\n",
        "        print(f\"step {iter}: train loss {losses['train']:.4f}, val loss {losses['val']:.4f}\")\n",
        "\n",
        "    # sample a batch of data\n",
        "    xb, yb = get_batch('train')\n",
        "\n",
        "    # evaluate the loss\n",
        "    logits, loss = model(xb, yb)\n",
        "    optimizer.zero_grad(set_to_none=True)\n",
        "    loss.backward()\n",
        "    optimizer.step()\n",
        "\n",
        "# generate from the model\n",
        "context = torch.zeros((1, 1), dtype=torch.long, device=device)\n",
        "print(decode(m.generate(context, max_new_tokens=500)[0].tolist()))\n"
      ],
      "metadata": {
        "colab": {
          "base_uri": "https://localhost:8080/"
        },
        "id": "vmwMUftzrwFF",
        "outputId": "f19a33f9-a9db-4681-b8af-48bb140ce9d3"
      },
      "execution_count": 27,
      "outputs": [
        {
          "output_type": "stream",
          "name": "stdout",
          "text": [
            "Length of the dataset in characters :  1115394\n",
            "step 0: train loss 4.6255, val loss 4.6233\n",
            "step 300: train loss 2.4845, val loss 2.4845\n",
            "step 600: train loss 2.3610, val loss 2.3650\n",
            "step 900: train loss 2.2848, val loss 2.2949\n",
            "step 1200: train loss 2.2160, val loss 2.2435\n",
            "step 1500: train loss 2.1850, val loss 2.2176\n",
            "step 1800: train loss 2.1544, val loss 2.1919\n",
            "step 2100: train loss 2.1177, val loss 2.1619\n",
            "step 2400: train loss 2.1080, val loss 2.1569\n",
            "step 2700: train loss 2.1012, val loss 2.1499\n",
            "\n",
            "Put ows couls, my sived?\n",
            "And Cove it ast him, Ding your which foor sone an fantiour ponjres:\n",
            "As, duth upoulesbly not to thas?\n",
            "\n",
            "Cume wiced dot dich lousings:\n",
            "Mane cout you the but sided and up: O, niven, hive the war; lod miset to coove dreckel?\n",
            "\n",
            "Timsen'dy. I't that our so dow the yet of mearse and,--\n",
            "I's omed for to headlow in me mansther id up gnaw.\n",
            "\n",
            "SAPOFie MUS:\n",
            "He and:\n",
            "We-le has and both he wich, dive king; thanop leverthen the to mouch unqued, not sworen the and oRII:\n",
            "Thenor so s wertate.\n",
            "\n",
            "L\n"
          ]
        }
      ]
    },
    {
      "cell_type": "markdown",
      "source": [
        "### Full finished code, for reference\n",
        "\n",
        "You may want to refer directly to the git repo instead though."
      ],
      "metadata": {
        "id": "ZcvKeBXoZFOY"
      }
    },
    {
      "cell_type": "code",
      "source": [
        "import torch\n",
        "import torch.nn as nn\n",
        "from torch.nn import functional as F\n",
        "\n",
        "# hyperparameters\n",
        "batch_size = 16 # how many independent sequences will we process in parallel?\n",
        "block_size = 32 # what is the maximum context length for predictions?\n",
        "max_iters = 5000\n",
        "eval_interval = 100\n",
        "learning_rate = 1e-3\n",
        "device = 'cuda' if torch.cuda.is_available() else 'cpu'\n",
        "eval_iters = 200\n",
        "n_embd = 64\n",
        "n_head = 4\n",
        "n_layer = 4\n",
        "dropout = 0.0\n",
        "# ------------\n",
        "\n",
        "torch.manual_seed(1337)\n",
        "\n",
        "# wget https://raw.githubusercontent.com/karpathy/char-rnn/master/data/tinyshakespeare/input.txt\n",
        "with open('input.txt', 'r', encoding='utf-8') as f:\n",
        "    text = f.read()\n",
        "\n",
        "# here are all the unique characters that occur in this text\n",
        "chars = sorted(list(set(text)))\n",
        "vocab_size = len(chars)\n",
        "# create a mapping from characters to integers\n",
        "stoi = { ch:i for i,ch in enumerate(chars) }\n",
        "itos = { i:ch for i,ch in enumerate(chars) }\n",
        "encode = lambda s: [stoi[c] for c in s] # encoder: take a string, output a list of integers\n",
        "decode = lambda l: ''.join([itos[i] for i in l]) # decoder: take a list of integers, output a string\n",
        "\n",
        "# Train and test splits\n",
        "data = torch.tensor(encode(text), dtype=torch.long)\n",
        "n = int(0.9*len(data)) # first 90% will be train, rest val\n",
        "train_data = data[:n]\n",
        "val_data = data[n:]\n",
        "\n",
        "# data loading\n",
        "def get_batch(split):\n",
        "    # generate a small batch of data of inputs x and targets y\n",
        "    data = train_data if split == 'train' else val_data\n",
        "    ix = torch.randint(len(data) - block_size, (batch_size,))\n",
        "    x = torch.stack([data[i:i+block_size] for i in ix])\n",
        "    y = torch.stack([data[i+1:i+block_size+1] for i in ix])\n",
        "    x, y = x.to(device), y.to(device)\n",
        "    return x, y\n",
        "\n",
        "@torch.no_grad()\n",
        "def estimate_loss():\n",
        "    out = {}\n",
        "    model.eval()\n",
        "    for split in ['train', 'val']:\n",
        "        losses = torch.zeros(eval_iters)\n",
        "        for k in range(eval_iters):\n",
        "            X, Y = get_batch(split)\n",
        "            logits, loss = model(X, Y)\n",
        "            losses[k] = loss.item()\n",
        "        out[split] = losses.mean()\n",
        "    model.train()\n",
        "    return out\n",
        "\n",
        "class Head(nn.Module):\n",
        "    \"\"\" one head of self-attention \"\"\"\n",
        "\n",
        "    def __init__(self, head_size):\n",
        "        super().__init__()\n",
        "        self.key = nn.Linear(n_embd, head_size, bias=False)\n",
        "        self.query = nn.Linear(n_embd, head_size, bias=False)\n",
        "        self.value = nn.Linear(n_embd, head_size, bias=False)\n",
        "        self.register_buffer('tril', torch.tril(torch.ones(block_size, block_size)))\n",
        "\n",
        "        self.dropout = nn.Dropout(dropout)\n",
        "\n",
        "    def forward(self, x):\n",
        "        B,T,C = x.shape\n",
        "        k = self.key(x)   # (B,T,C)\n",
        "        q = self.query(x) # (B,T,C)\n",
        "        # compute attention scores (\"affinities\")\n",
        "        wei = q @ k.transpose(-2,-1) * C**-0.5 # (B, T, C) @ (B, C, T) -> (B, T, T)\n",
        "        wei = wei.masked_fill(self.tril[:T, :T] == 0, float('-inf')) # (B, T, T)\n",
        "        wei = F.softmax(wei, dim=-1) # (B, T, T)\n",
        "        wei = self.dropout(wei)\n",
        "        # perform the weighted aggregation of the values\n",
        "        v = self.value(x) # (B,T,C)\n",
        "        out = wei @ v # (B, T, T) @ (B, T, C) -> (B, T, C)\n",
        "        return out\n",
        "\n",
        "class MultiHeadAttention(nn.Module):\n",
        "    \"\"\" multiple heads of self-attention in parallel \"\"\"\n",
        "\n",
        "    def __init__(self, num_heads, head_size):\n",
        "        super().__init__()\n",
        "        self.heads = nn.ModuleList([Head(head_size) for _ in range(num_heads)])\n",
        "        self.proj = nn.Linear(n_embd, n_embd)\n",
        "        self.dropout = nn.Dropout(dropout)\n",
        "\n",
        "    def forward(self, x):\n",
        "        out = torch.cat([h(x) for h in self.heads], dim=-1)\n",
        "        out = self.dropout(self.proj(out))\n",
        "        return out\n",
        "\n",
        "class FeedFoward(nn.Module):\n",
        "    \"\"\" a simple linear layer followed by a non-linearity \"\"\"\n",
        "\n",
        "    def __init__(self, n_embd):\n",
        "        super().__init__()\n",
        "        self.net = nn.Sequential(\n",
        "            nn.Linear(n_embd, 4 * n_embd),\n",
        "            nn.ReLU(),\n",
        "            nn.Linear(4 * n_embd, n_embd),\n",
        "            nn.Dropout(dropout),\n",
        "        )\n",
        "\n",
        "    def forward(self, x):\n",
        "        return self.net(x)\n",
        "\n",
        "class Block(nn.Module):\n",
        "    \"\"\" Transformer block: communication followed by computation \"\"\"\n",
        "\n",
        "    def __init__(self, n_embd, n_head):\n",
        "        # n_embd: embedding dimension, n_head: the number of heads we'd like\n",
        "        super().__init__()\n",
        "        head_size = n_embd // n_head\n",
        "        self.sa = MultiHeadAttention(n_head, head_size)\n",
        "        self.ffwd = FeedFoward(n_embd)\n",
        "        self.ln1 = nn.LayerNorm(n_embd)\n",
        "        self.ln2 = nn.LayerNorm(n_embd)\n",
        "\n",
        "    def forward(self, x):\n",
        "        x = x + self.sa(self.ln1(x))\n",
        "        x = x + self.ffwd(self.ln2(x))\n",
        "        return x\n",
        "\n",
        "# super simple bigram model\n",
        "class BigramLanguageModel(nn.Module):\n",
        "\n",
        "    def __init__(self):\n",
        "        super().__init__()\n",
        "        # each token directly reads off the logits for the next token from a lookup table\n",
        "        self.token_embedding_table = nn.Embedding(vocab_size, n_embd)\n",
        "        self.position_embedding_table = nn.Embedding(block_size, n_embd)\n",
        "        self.blocks = nn.Sequential(*[Block(n_embd, n_head=n_head) for _ in range(n_layer)])\n",
        "        self.ln_f = nn.LayerNorm(n_embd) # final layer norm\n",
        "        self.lm_head = nn.Linear(n_embd, vocab_size)\n",
        "\n",
        "    def forward(self, idx, targets=None):\n",
        "        B, T = idx.shape\n",
        "\n",
        "        # idx and targets are both (B,T) tensor of integers\n",
        "        tok_emb = self.token_embedding_table(idx) # (B,T,C)\n",
        "        pos_emb = self.position_embedding_table(torch.arange(T, device=device)) # (T,C)\n",
        "        x = tok_emb + pos_emb # (B,T,C)\n",
        "        x = self.blocks(x) # (B,T,C)\n",
        "        x = self.ln_f(x) # (B,T,C)\n",
        "        logits = self.lm_head(x) # (B,T,vocab_size)\n",
        "\n",
        "        if targets is None:\n",
        "            loss = None\n",
        "        else:\n",
        "            B, T, C = logits.shape\n",
        "            logits = logits.view(B*T, C)\n",
        "            targets = targets.view(B*T)\n",
        "            loss = F.cross_entropy(logits, targets)\n",
        "\n",
        "        return logits, loss\n",
        "\n",
        "    def generate(self, idx, max_new_tokens):\n",
        "        # idx is (B, T) array of indices in the current context\n",
        "        for _ in range(max_new_tokens):\n",
        "            # crop idx to the last block_size tokens\n",
        "            idx_cond = idx[:, -block_size:]\n",
        "            # get the predictions\n",
        "            logits, loss = self(idx_cond)\n",
        "            # focus only on the last time step\n",
        "            logits = logits[:, -1, :] # becomes (B, C)\n",
        "            # apply softmax to get probabilities\n",
        "            probs = F.softmax(logits, dim=-1) # (B, C)\n",
        "            # sample from the distribution\n",
        "            idx_next = torch.multinomial(probs, num_samples=1) # (B, 1)\n",
        "            # append sampled index to the running sequence\n",
        "            idx = torch.cat((idx, idx_next), dim=1) # (B, T+1)\n",
        "        return idx\n",
        "\n",
        "model = BigramLanguageModel()\n",
        "m = model.to(device)\n",
        "# print the number of parameters in the model\n",
        "print(sum(p.numel() for p in m.parameters())/1e6, 'M parameters')\n",
        "\n",
        "# create a PyTorch optimizer\n",
        "optimizer = torch.optim.AdamW(model.parameters(), lr=learning_rate)\n",
        "\n",
        "for iter in range(max_iters):\n",
        "\n",
        "    # every once in a while evaluate the loss on train and val sets\n",
        "    if iter % eval_interval == 0 or iter == max_iters - 1:\n",
        "        losses = estimate_loss()\n",
        "        print(f\"step {iter}: train loss {losses['train']:.4f}, val loss {losses['val']:.4f}\")\n",
        "\n",
        "    # sample a batch of data\n",
        "    xb, yb = get_batch('train')\n",
        "\n",
        "    # evaluate the loss\n",
        "    logits, loss = model(xb, yb)\n",
        "    optimizer.zero_grad(set_to_none=True)\n",
        "    loss.backward()\n",
        "    optimizer.step()\n",
        "\n",
        "# generate from the model\n",
        "context = torch.zeros((1, 1), dtype=torch.long, device=device)\n",
        "print(decode(m.generate(context, max_new_tokens=2000)[0].tolist()))\n"
      ],
      "metadata": {
        "colab": {
          "base_uri": "https://localhost:8080/"
        },
        "id": "Vd2tdLDhGNl7",
        "outputId": "8fddd5fe-2ef9-4a49-d187-94a73428a24a"
      },
      "execution_count": 28,
      "outputs": [
        {
          "output_type": "stream",
          "name": "stdout",
          "text": [
            "0.209729 M parameters\n",
            "step 0: train loss 4.4116, val loss 4.4022\n",
            "step 100: train loss 2.6568, val loss 2.6670\n",
            "step 200: train loss 2.5090, val loss 2.5059\n",
            "step 300: train loss 2.4196, val loss 2.4338\n",
            "step 400: train loss 2.3504, val loss 2.3566\n",
            "step 500: train loss 2.2965, val loss 2.3129\n",
            "step 600: train loss 2.2410, val loss 2.2500\n",
            "step 700: train loss 2.2057, val loss 2.2191\n",
            "step 800: train loss 2.1633, val loss 2.1864\n",
            "step 900: train loss 2.1244, val loss 2.1510\n",
            "step 1000: train loss 2.1038, val loss 2.1308\n",
            "step 1100: train loss 2.0707, val loss 2.1197\n",
            "step 1200: train loss 2.0377, val loss 2.0800\n",
            "step 1300: train loss 2.0268, val loss 2.0650\n",
            "step 1400: train loss 1.9918, val loss 2.0356\n",
            "step 1500: train loss 1.9697, val loss 2.0293\n",
            "step 1600: train loss 1.9645, val loss 2.0499\n",
            "step 1700: train loss 1.9404, val loss 2.0129\n",
            "step 1800: train loss 1.9095, val loss 1.9951\n",
            "step 1900: train loss 1.9067, val loss 1.9855\n",
            "step 2000: train loss 1.8854, val loss 1.9948\n",
            "step 2100: train loss 1.8727, val loss 1.9766\n",
            "step 2200: train loss 1.8597, val loss 1.9631\n",
            "step 2300: train loss 1.8530, val loss 1.9516\n",
            "step 2400: train loss 1.8428, val loss 1.9464\n",
            "step 2500: train loss 1.8161, val loss 1.9424\n",
            "step 2600: train loss 1.8283, val loss 1.9406\n",
            "step 2700: train loss 1.8101, val loss 1.9322\n",
            "step 2800: train loss 1.8050, val loss 1.9233\n",
            "step 2900: train loss 1.8033, val loss 1.9289\n",
            "step 3000: train loss 1.7955, val loss 1.9216\n",
            "step 3100: train loss 1.7697, val loss 1.9184\n",
            "step 3200: train loss 1.7541, val loss 1.9088\n",
            "step 3300: train loss 1.7567, val loss 1.9034\n",
            "step 3400: train loss 1.7573, val loss 1.9000\n",
            "step 3500: train loss 1.7398, val loss 1.8925\n",
            "step 3600: train loss 1.7270, val loss 1.8869\n",
            "step 3700: train loss 1.7283, val loss 1.8814\n",
            "step 3800: train loss 1.7210, val loss 1.8918\n",
            "step 3900: train loss 1.7219, val loss 1.8732\n",
            "step 4000: train loss 1.7146, val loss 1.8576\n",
            "step 4100: train loss 1.7136, val loss 1.8720\n",
            "step 4200: train loss 1.7060, val loss 1.8653\n",
            "step 4300: train loss 1.7032, val loss 1.8499\n",
            "step 4400: train loss 1.7057, val loss 1.8656\n",
            "step 4500: train loss 1.6907, val loss 1.8477\n",
            "step 4600: train loss 1.6878, val loss 1.8371\n",
            "step 4700: train loss 1.6808, val loss 1.8415\n",
            "step 4800: train loss 1.6689, val loss 1.8457\n",
            "step 4900: train loss 1.6716, val loss 1.8415\n",
            "step 4999: train loss 1.6658, val loss 1.8275\n",
            "\n",
            "ROTCUMER:\n",
            "Tyburforth, bloody,\n",
            "WhIs migute: you duke I use list. WIthon of where's grande will! savist tought!\n",
            "Why room upwor alond, liegle. I hone, Iell thou sudd have then strue thus mind,\n",
            "His by blow, Virdom tow, glingien, yithre spees ssince them Those not.\n",
            "\n",
            "LUCIO:\n",
            "Look,----\n",
            "But thou sging them this my freceimmsed,\n",
            "By thou sovor conursion that thou sade but grove\n",
            "the tage encond:\n",
            "It will Rament me; an your touther,\n",
            "And havis like to-does, and little spright.\n",
            "\n",
            "GLOUCESTER:\n",
            "Rewards thou for Panfessira's bigguards such ways!\n",
            "What curfort his\n",
            "will havolss you, as I have the cervirs arled,\n",
            "Dear my love and pitace unto duly son.\n",
            "\n",
            "Secome:\n",
            "Offolk, even thy whose my late all that you by jotly us belies!\n",
            "Lord, we a-montencry! I\n",
            "\n",
            "SLARNE:\n",
            "Day, mave from out prrive And orculing\n",
            "What confess, temimelyour and stropt;\n",
            "Secumfospet the gatieus I'll that confence-sting,\n",
            "But; man't, Rolget\n",
            "would garnion'd live in which, you, prothre?\n",
            "\n",
            "CORIOLANUS:\n",
            "What bonum stravoing, not out be seemmed with\n",
            "That the boly noll to.\n",
            "Bently, which in on my not tomberven why, fortune,\n",
            "And that wark you, banot thus orl'ld groves viles.\n",
            "\n",
            "PUMNIUS:\n",
            "It thou addow less, proth-straing.\n",
            "Mutwing your contrant stomfe, whom they\n",
            "is by this famestle; and of the loves my not Mercarcious to the stord; thesoo, in thus my nome are:\n",
            "Will fuch, have there enplience your gone, ho's,\n",
            "And gentleman, my beged lind to be am\n",
            "in That ant:\n",
            "In I sugner murded! I play's,\n",
            "If not sume the confity will reasur slord:\n",
            "That get because at that his say\n",
            "and to beepts guarst you lom if then.\n",
            "\n",
            "MENEN MARGARUS:\n",
            "I but aftelence! made yoour never.\n",
            "\n",
            "KING RICHARD II:\n",
            "Who too near?\n",
            "\n",
            "LORDIUS:\n",
            "Or as madaw brird, tou thee?\n",
            "\n",
            "Sirightly the haste's beforempt.\n",
            "\n",
            "First:\n",
            "Is though.\n",
            "Fell, whose toes with requmpts, up I make\n",
            "Here figUS verean that I will, by the wateon.\n",
            "\n",
            "MOWIDIUS:\n",
            "How, while, more is in meep.\n",
            "twan be the fless this countrens platcar merperter sure make Giventled,\n",
            "At not your must to reason togs,\n",
            "And what you gue;--\n",
            "\n",
            "RUKE ESFiren; gravent,\n",
            "Apol\n"
          ]
        }
      ]
    },
    {
      "cell_type": "markdown",
      "source": [
        "Attention is All You Need paper:https://arxiv.org/abs/1706.03762\n",
        "\n",
        "OpenAI GPT-3 paper:https://arxiv.org/abs/2005.14165"
      ],
      "metadata": {
        "id": "zPZ02x6cGrXB"
      }
    },
    {
      "cell_type": "markdown",
      "source": [
        "A transformer is a deep learning model that uses self-attention mechanisms to weigh the importance of different parts of the input data when producing an output.\n",
        "\n",
        "\n",
        "\n",
        "# **Key Components**\n",
        "\n",
        "**Self-Attention Mechanism:** The defining feature that allows the model to focus on different parts of the input sequence when encoding each element.\n",
        "\n",
        "**Multi-Head Attention:** Multiple attention mechanisms run in parallel, allowing the model to focus on different aspects of the input simultaneously.\n",
        "\n",
        "**Positional Encoding:** Since transformers process all tokens at once (not sequentially), positional encodings are added to maintain information about token order.\n",
        "\n",
        "**Feed-Forward Networks:** Applied to each position separately and identically.\n",
        "Layer Normalization and Residual Connections: Help with training very deep networks."
      ],
      "metadata": {
        "id": "Y9J0snOAKNHy"
      }
    }
  ]
}